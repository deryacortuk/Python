{
 "cells": [
  {
   "cell_type": "code",
   "execution_count": 3,
   "id": "5959c511",
   "metadata": {},
   "outputs": [
    {
     "name": "stdout",
     "output_type": "stream",
     "text": [
      "True\n",
      "False\n",
      "True\n",
      "False\n",
      "['e', 'i', 'l', 'n', 's', 't']\n",
      "['e', 'i', 'l', 'n', 's', 't']\n"
     ]
    }
   ],
   "source": [
    "# Finding Anagrams\n",
    "# Two words are anagrams if they consist of the same characters and if every character of the first word appears in the second \n",
    "# word exacly once.\n",
    "\n",
    "is_anagram = lambda x1, x2: sorted(x1) == sorted(x2)\n",
    "\n",
    "print(is_anagram('silent','listen'))\n",
    "print(is_anagram('funeral','real fun'))\n",
    "print(is_anagram('elvis','lives'))\n",
    "print(is_anagram('gute','good'))\n",
    "\n",
    "print(sorted('listen'))\n",
    "print(sorted('silent'))"
   ]
  },
  {
   "cell_type": "code",
   "execution_count": 4,
   "id": "2d51e54b",
   "metadata": {},
   "outputs": [],
   "source": [
    "# The runtime complexity of sorting a sequence of n elements in Python grows asymptotically like the function\n",
    "# nlog(n). That means our one-liner algorithm is more effficient than the naive solution of checking whether every\n",
    "# character exists in both strings and removing the character if this is the case. \n",
    "# The naive algorithm grows asymptotically like the quadratic function n**2.\n",
    "\n",
    "# There's anaother efficient way, called histogramming, whereby you create a histogram for both strings that counts \n",
    "# the number of occurences of all characters in that string, and then compare the two histograms. Assuming a constant-sized \n",
    "# alphabet, the runtime complexity of histogramming is linear; it grows asymptotically like the function n."
   ]
  },
  {
   "cell_type": "code",
   "execution_count": 6,
   "id": "ebf7ef15",
   "metadata": {},
   "outputs": [
    {
     "name": "stdout",
     "output_type": "stream",
     "text": [
      "True\n",
      "False\n"
     ]
    }
   ],
   "source": [
    "is_palindrome = lambda phrase: phrase == phrase[::-1]\n",
    "\n",
    "print(is_palindrome('star rats'))\n",
    "print(is_palindrome('python'))"
   ]
  },
  {
   "cell_type": "code",
   "execution_count": 7,
   "id": "f52de806",
   "metadata": {},
   "outputs": [
    {
     "name": "stdout",
     "output_type": "stream",
     "text": [
      "5040\n"
     ]
    }
   ],
   "source": [
    "factorial = lambda n:n * factorial(n-1) if n > 1 else 1\n",
    "\n",
    "print(factorial(7))"
   ]
  },
  {
   "cell_type": "code",
   "execution_count": 11,
   "id": "617586cf",
   "metadata": {},
   "outputs": [],
   "source": [
    "# The Levenshtein distance is a metric to calculate the distance between two strings; in other words, it's used to\n",
    "# quantify the similarity of two strings. Its alternate name, the edit distance, describes precisely what it measures:\n",
    "# the number of character edits ( insertions, removals, or substitutions) needed to transform one string into another.\n",
    "\n",
    "# In Python, every object has a truth value and is either True or False. \n",
    "# The numerical value 0 is False\n",
    "# The empty string '' is False\n",
    "# The empty list [] is False\n",
    "# The empty set set() is False\n",
    "# The empty dictionary {} is False"
   ]
  },
  {
   "cell_type": "code",
   "execution_count": 10,
   "id": "233e837b",
   "metadata": {},
   "outputs": [
    {
     "name": "stdout",
     "output_type": "stream",
     "text": [
      "5\n",
      "4\n",
      "3\n"
     ]
    }
   ],
   "source": [
    "a = \"cat\"\n",
    "b = \"chello\"\n",
    "c = \"chess\"\n",
    "\n",
    "ld = lambda a,b: len(b) if not a else len(a) if not b else min(\n",
    "          ld(a[1:],b[1:]) + (a[0] != b[0]), ld(a[1:],b)+1 , ld(a,b[1:])+1\n",
    ")\n",
    "\n",
    "print(ld(a,b))\n",
    "print(ld(a,c))\n",
    "print(ld(b,c))"
   ]
  },
  {
   "cell_type": "code",
   "execution_count": 12,
   "id": "4177c7eb",
   "metadata": {},
   "outputs": [],
   "source": [
    "# The Powerset: the set of all subsets.\n",
    "# (from functools library) The reduce() function takes three arguments: reduce(function, iterable, initializer)\n",
    "# List arithmetic-- list concatenation operator +. [1,2] + [3,4] -->[1,2,3,4]. The second is the union operator\n",
    "# |, which performs a simple union operation on two sets. {1,2}|{3,4}--{1,2,3,4}\n"
   ]
  },
  {
   "cell_type": "code",
   "execution_count": 15,
   "id": "5aa49b5d",
   "metadata": {},
   "outputs": [
    {
     "name": "stdout",
     "output_type": "stream",
     "text": [
      "[set(), {1}, {2}, {1, 2}, {3}, {1, 3}, {2, 3}, {1, 2, 3}]\n"
     ]
    }
   ],
   "source": [
    "from functools import reduce\n",
    "\n",
    "s = {1,2,3}\n",
    "ps = lambda s: reduce(lambda p,x: p + [subset | {x} for subset in p],s,[set()])\n",
    "print(ps(s))"
   ]
  },
  {
   "cell_type": "code",
   "execution_count": 16,
   "id": "90775f31",
   "metadata": {},
   "outputs": [],
   "source": [
    "# Ceasar's Cipher Encryption\n",
    "# Ceaser's cipher is based on the idea of shifting characters to be encrypted by as fixed number of position in the alphabet.\n",
    "# The ROT13 algorithm is a simple encrytion algorithm used in many forums( for example, Reddit) to preent spoilers or hide the\n",
    "# semantics of conversation from newbies. \n",
    "# The algorithm can be explained in one sentence: ROT13 = Rotate the string to be encrypted by 13 positions (modulo 26)\n",
    "# in the alphabet of 26 characters. In other words, you shift each character by 13 positions in the alphabet."
   ]
  },
  {
   "cell_type": "code",
   "execution_count": 17,
   "id": "106b29f2",
   "metadata": {},
   "outputs": [
    {
     "name": "stdout",
     "output_type": "stream",
     "text": [
      "kclgubakvfksha\n",
      "xpythonxisxfun\n"
     ]
    }
   ],
   "source": [
    "abc = \"abcdefghijklmnopqrstuvwxyz\"\n",
    "s = \"xpythonxisxfun\"\n",
    "rt13 = lambda x: \"\".join([abc[(abc.find(c) + 13)%26] for c in x])\n",
    "\n",
    "print(rt13(s))\n",
    "print(rt13(rt13(s)))"
   ]
  },
  {
   "cell_type": "code",
   "execution_count": 19,
   "id": "d452ab88",
   "metadata": {},
   "outputs": [
    {
     "name": "stdout",
     "output_type": "stream",
     "text": [
      "True\n",
      "False\n"
     ]
    }
   ],
   "source": [
    "\n",
    "def prime(n):\n",
    "    for i in range(2,n):\n",
    "        if n % i == 0:\n",
    "            return False\n",
    "    return True\n",
    "print(prime(17))\n",
    "print(prime(12))"
   ]
  },
  {
   "cell_type": "code",
   "execution_count": 20,
   "id": "6d1ce815",
   "metadata": {},
   "outputs": [
    {
     "name": "stdout",
     "output_type": "stream",
     "text": [
      "[2, 3, 5, 7, 11, 13, 17, 19, 23, 29, 31, 37, 41, 43, 47, 53, 59, 61, 67, 71, 73, 79, 83, 89, 97]\n"
     ]
    }
   ],
   "source": [
    "x = 100\n",
    "primes = [i for i in range(2,x+1) if prime(i)]\n",
    "print(primes)"
   ]
  },
  {
   "cell_type": "code",
   "execution_count": 21,
   "id": "f63815af",
   "metadata": {},
   "outputs": [
    {
     "name": "stdout",
     "output_type": "stream",
     "text": [
      "{2, 3, 5, 7, 11, 13, 17, 19, 23, 29, 31, 37, 41, 43, 47, 53, 59, 61, 67, 71, 73, 79, 83, 89, 97}\n"
     ]
    }
   ],
   "source": [
    "from functools import reduce\n",
    "\n",
    "n = 100       # Sieve of Eratosthenes algorithm\n",
    "\n",
    "\n",
    "primes = reduce(lambda y,x: y - set(range(x**2,n,x)) if x in y else y,\n",
    "               range(2, int(n**0.5) + 1), set(range(2,n)))\n",
    "\n",
    "print(primes)"
   ]
  },
  {
   "cell_type": "code",
   "execution_count": 22,
   "id": "267fcdeb",
   "metadata": {},
   "outputs": [],
   "source": [
    "# The Sieve of Eratosthenes Algorithm\n",
    "# The algorithm created a huge array of numbers from 2 to m, the maximal integer number. All the numbers in the array\n",
    "# are prime candidates, which means that the algorithm considers them to be prime candidates, which means that\n",
    "# the algorithm considers them to be prime numbers potentially. During the algorithm, you sieve out the candidates\n",
    "# that cannat be prime. Only the ones that remain after this filtering process are the final prime numbers.\n",
    "# To accomplish this, the algorithm calculates and marks the numbers in this array that are not prime numbers. At the\n",
    "# end, all unmarked numbers are prime numbers.\n",
    "\n"
   ]
  },
  {
   "cell_type": "code",
   "execution_count": 23,
   "id": "59a12731",
   "metadata": {},
   "outputs": [
    {
     "name": "stdout",
     "output_type": "stream",
     "text": [
      "[0, 1, 1, 2, 3, 5, 8, 13, 21, 34]\n"
     ]
    }
   ],
   "source": [
    "# The popular Italian mathematician Fibonacci (original name: Leonarda of Pisa) introduced the Fibonacci numbers\n",
    "# in the year 1202 with the surprising observation that these numbers have significance in fields as various \n",
    "# as math, art, and biology.\n",
    "\n",
    "from functools import reduce\n",
    "\n",
    "n = 10\n",
    "\n",
    "fibs = reduce(lambda x,_: x + [x[-2] + x[-1]], [0] * (n-2), [0,1])\n",
    "       # You use the throwaway parameter _ to indicate that you are not interested in the dummy values of the iterable.\n",
    "\n",
    "print(fibs)"
   ]
  },
  {
   "cell_type": "code",
   "execution_count": 25,
   "id": "3cd9dc6e",
   "metadata": {},
   "outputs": [
    {
     "name": "stdout",
     "output_type": "stream",
     "text": [
      "[0, 1, 1, 2, 3, 5, 8, 13, 21, 34]\n"
     ]
    }
   ],
   "source": [
    "n = 10\n",
    "x = [0,1]\n",
    "fibs = x[0:2] + [x.append(x[-1] + x[-2]) or x[-1] for i in range(n-2)]\n",
    "print(fibs)"
   ]
  },
  {
   "cell_type": "code",
   "execution_count": 27,
   "id": "617e62a3",
   "metadata": {},
   "outputs": [
    {
     "name": "stdout",
     "output_type": "stream",
     "text": [
      "4\n"
     ]
    }
   ],
   "source": [
    "# The binary search algorithm traverses only log2(n) elements.For a binary search, you assume the list is sorted in an ascending\n",
    "# manner.\n",
    "\n",
    "def binary_search(lst,value):\n",
    "    lo ,hi = 0 , len(lst) - 1\n",
    "    while lo <= hi:\n",
    "        mid = (lo + hi) // 2\n",
    "        if lst[mid] < value:\n",
    "            lo = mid + 1\n",
    "        elif value <lst[mid]:\n",
    "            hi = mid -1\n",
    "        else:\n",
    "            return mid\n",
    "    return -1\n",
    "\n",
    "l = [3,6,14,16,33,55,56,89]\n",
    "x = 33\n",
    "\n",
    "print(binary_search(l,x))\n",
    "        \n"
   ]
  },
  {
   "cell_type": "code",
   "execution_count": 28,
   "id": "93f40cc7",
   "metadata": {},
   "outputs": [],
   "source": [
    "# Quicksort sorts a list by recursively dividing the big problem into smaller problems and combining the solutions from\n",
    "# the smaller problems in a way that it solves the big problem.\n",
    "# To each smaller problem, the same strategy is used recursively: the smaller problems are divided into even smaller \n",
    "# subproblems, solved separately, and combined, placing Quicksort in the class of Divide and Conquer algorithms.\n",
    "#Quicksort selects a pivot element and them places all elements are larger than the pivot to the right, and all elements\n",
    "# that are smaller than or equal to the pivot to the left."
   ]
  },
  {
   "cell_type": "code",
   "execution_count": 33,
   "id": "6ea6fb45",
   "metadata": {},
   "outputs": [
    {
     "name": "stdout",
     "output_type": "stream",
     "text": [
      "[7, 22, 34, 38, 45, 47, 71, 89]\n"
     ]
    }
   ],
   "source": [
    "data = [45,34,89,47,71,22,38,7]\n",
    "\n",
    "q = lambda l: q([x for x in l[1:] if x <= l[0]]) + [l[0]] + q([x for x in l if x > l[0]]) if l else []\n",
    "\n",
    "print(q(data))"
   ]
  },
  {
   "cell_type": "code",
   "execution_count": null,
   "id": "c087d02d",
   "metadata": {},
   "outputs": [],
   "source": [
    "# lambda l: q(left) + pivot + q(right) if l else []"
   ]
  }
 ],
 "metadata": {
  "kernelspec": {
   "display_name": "Python 3",
   "language": "python",
   "name": "python3"
  },
  "language_info": {
   "codemirror_mode": {
    "name": "ipython",
    "version": 3
   },
   "file_extension": ".py",
   "mimetype": "text/x-python",
   "name": "python",
   "nbconvert_exporter": "python",
   "pygments_lexer": "ipython3",
   "version": "3.8.8"
  }
 },
 "nbformat": 4,
 "nbformat_minor": 5
}
