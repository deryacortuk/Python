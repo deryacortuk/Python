{
 "cells": [
  {
   "cell_type": "code",
   "execution_count": 6,
   "id": "281595eb",
   "metadata": {},
   "outputs": [
    {
     "name": "stdout",
     "output_type": "stream",
     "text": [
      "{3: 1, 4: 2, 5: 3, 6: 5, 7: 8, 8: 13, 9: 21, 10: 34}\n"
     ]
    }
   ],
   "source": [
    "cache = {}\n",
    "def fib(n):\n",
    "    if n < 0 :\n",
    "        raise ValueError\n",
    "    if n == 1:\n",
    "        return 0\n",
    "    elif n == 2:\n",
    "        return 1\n",
    "    if not n in cache:\n",
    "        cache[n] = fib(n-1) + fib(n-2)\n",
    "    return cache[n]\n",
    "fib(10)\n",
    "print(cache)"
   ]
  },
  {
   "cell_type": "code",
   "execution_count": 13,
   "id": "55d13a95",
   "metadata": {},
   "outputs": [
    {
     "name": "stdout",
     "output_type": "stream",
     "text": [
      "$$$$$$"
     ]
    }
   ],
   "source": [
    "x =0\n",
    "while x < 10:\n",
    "    x += 1\n",
    "    if x%2:\n",
    "        continue\n",
    "    print('$', end='')\n",
    "else:\n",
    "    print('$',end='')"
   ]
  },
  {
   "cell_type": "code",
   "execution_count": 14,
   "id": "84203e33",
   "metadata": {},
   "outputs": [
    {
     "name": "stdout",
     "output_type": "stream",
     "text": [
      "{0: 0, 1: 1, 2: 2, 3: 0, 4: 1, 5: 2, 6: 0, 7: 1}\n"
     ]
    }
   ],
   "source": [
    "d = dict([(i,i%3) for i in range(8)])\n",
    "print(d)"
   ]
  },
  {
   "cell_type": "code",
   "execution_count": 17,
   "id": "6fa8bf6e",
   "metadata": {},
   "outputs": [
    {
     "name": "stdout",
     "output_type": "stream",
     "text": [
      "[1, 2]\n",
      "3\n",
      "4\n",
      "[[1, 2], 3]\n"
     ]
    }
   ],
   "source": [
    "*x, y,z = 1,2,3,4\n",
    "print(x)\n",
    "print(y)\n",
    "print(z)\n",
    "*x,y = x,y,z\n",
    "print(x)"
   ]
  },
  {
   "cell_type": "code",
   "execution_count": 18,
   "id": "cba57aa8",
   "metadata": {},
   "outputs": [
    {
     "name": "stdout",
     "output_type": "stream",
     "text": [
      "[11, 12, 13, 14, 11]\n"
     ]
    }
   ],
   "source": [
    "x = [11,12,13,14]\n",
    "x[100:103] =[11]\n",
    "print(x)"
   ]
  },
  {
   "cell_type": "code",
   "execution_count": 19,
   "id": "7b514532",
   "metadata": {},
   "outputs": [
    {
     "name": "stdout",
     "output_type": "stream",
     "text": [
      "21"
     ]
    }
   ],
   "source": [
    "x = [2,1,0]\n",
    "while x:\n",
    "    y = x.pop(0)\n",
    "    while x:\n",
    "        print(y,end='')\n",
    "        break"
   ]
  },
  {
   "cell_type": "code",
   "execution_count": 20,
   "id": "1d0b7eeb",
   "metadata": {},
   "outputs": [
    {
     "name": "stdout",
     "output_type": "stream",
     "text": [
      "[[3, 4], [3, 4]]\n"
     ]
    }
   ],
   "source": [
    "t = [[]]*2\n",
    "t[0].append(3)\n",
    "t[1].append(4)\n",
    "print(t)"
   ]
  },
  {
   "cell_type": "code",
   "execution_count": 22,
   "id": "4b8dd9d5",
   "metadata": {},
   "outputs": [
    {
     "name": "stdout",
     "output_type": "stream",
     "text": [
      "-4.5\n"
     ]
    }
   ],
   "source": [
    "try:\n",
    "    x = -9**1/2\n",
    "    print(x)\n",
    "except:\n",
    "    x = 8*2//5\n",
    "    print(x)"
   ]
  },
  {
   "cell_type": "code",
   "execution_count": 24,
   "id": "8187bd38",
   "metadata": {},
   "outputs": [
    {
     "name": "stdout",
     "output_type": "stream",
     "text": [
      "[4, 2, 3, 5]\n"
     ]
    }
   ],
   "source": [
    "t = [2,3,4,5]\n",
    "t.insert(0,t.pop(t.index(4)))\n",
    "print(t)"
   ]
  },
  {
   "cell_type": "code",
   "execution_count": 25,
   "id": "7e5e5759",
   "metadata": {},
   "outputs": [
    {
     "name": "stdout",
     "output_type": "stream",
     "text": [
      "['a', 'b', 'c']\n"
     ]
    }
   ],
   "source": [
    "d = {'b':1,'a':3,'c':2}\n",
    "print(sorted(d))"
   ]
  },
  {
   "cell_type": "code",
   "execution_count": 28,
   "id": "b2a9e3ce",
   "metadata": {},
   "outputs": [
    {
     "name": "stdout",
     "output_type": "stream",
     "text": [
      "19 10 15 3\n"
     ]
    }
   ],
   "source": [
    "x = 10\n",
    "y = 15\n",
    "def func(x,y,z=2,k=3):\n",
    "    print(x,y,z,k)\n",
    "func(19,x,y)"
   ]
  },
  {
   "cell_type": "code",
   "execution_count": 30,
   "id": "5a29e9df",
   "metadata": {},
   "outputs": [
    {
     "name": "stdout",
     "output_type": "stream",
     "text": [
      "3 17\n"
     ]
    }
   ],
   "source": [
    "d=16\n",
    "def func(x=d):\n",
    "    global d\n",
    "    d += 1\n",
    "    print(x,d)\n",
    "func(3)"
   ]
  },
  {
   "cell_type": "code",
   "execution_count": 31,
   "id": "905c790f",
   "metadata": {},
   "outputs": [
    {
     "name": "stdout",
     "output_type": "stream",
     "text": [
      "[5, 7]\n"
     ]
    }
   ],
   "source": [
    "x = [11]\n",
    "def f(x):\n",
    "    x.append(7)\n",
    "    print(x)\n",
    "x = [5]\n",
    "f(x)"
   ]
  },
  {
   "cell_type": "code",
   "execution_count": 33,
   "id": "15975d1c",
   "metadata": {},
   "outputs": [
    {
     "name": "stdout",
     "output_type": "stream",
     "text": [
      "[1, 2]\n"
     ]
    }
   ],
   "source": [
    "x = {},{1},{1,2},{1:2}\n",
    "lst = [k for k,v in enumerate(x) if isinstance(v,set)]\n",
    "print(lst)"
   ]
  },
  {
   "cell_type": "code",
   "execution_count": 34,
   "id": "6e501eba",
   "metadata": {},
   "outputs": [
    {
     "name": "stdout",
     "output_type": "stream",
     "text": [
      "None\n"
     ]
    }
   ],
   "source": [
    "x = ['hello','world','python']\n",
    "srt = x.sort(reverse=True)\n",
    "print(srt)"
   ]
  },
  {
   "cell_type": "code",
   "execution_count": 36,
   "id": "b160a852",
   "metadata": {},
   "outputs": [
    {
     "name": "stdout",
     "output_type": "stream",
     "text": [
      "True\n"
     ]
    }
   ],
   "source": [
    "f = lambda x,y: x<y\n",
    "result = f(f('world','hello'),f(3,5))\n",
    "print(result)"
   ]
  },
  {
   "cell_type": "code",
   "execution_count": 37,
   "id": "bb62f9ff",
   "metadata": {},
   "outputs": [
    {
     "name": "stdout",
     "output_type": "stream",
     "text": [
      "[3, 1]\n"
     ]
    }
   ],
   "source": [
    "d = {1:2,3:4,3:5}\n",
    "print(sorted(d,key=lambda x:d[x], reverse =True))"
   ]
  },
  {
   "cell_type": "code",
   "execution_count": 39,
   "id": "b984e34b",
   "metadata": {},
   "outputs": [
    {
     "name": "stdout",
     "output_type": "stream",
     "text": [
      "[[10, 2], [3, 4]]\n"
     ]
    }
   ],
   "source": [
    "t = [[1,2],[3,4]]\n",
    "t2=t*1\n",
    "t[0][0]=10\n",
    "print(t2)"
   ]
  },
  {
   "cell_type": "code",
   "execution_count": 44,
   "id": "9118277e",
   "metadata": {},
   "outputs": [
    {
     "name": "stdout",
     "output_type": "stream",
     "text": [
      "False\n"
     ]
    }
   ],
   "source": [
    "x = True and False  == True and False\n",
    "print(x)"
   ]
  },
  {
   "cell_type": "code",
   "execution_count": 48,
   "id": "453477b3",
   "metadata": {},
   "outputs": [
    {
     "name": "stdout",
     "output_type": "stream",
     "text": [
      "6\n"
     ]
    }
   ],
   "source": [
    "x = [1,2,3,4,5,6]\n",
    "y = x[:]\n",
    "\n",
    "count = 0\n",
    "while True:\n",
    "    x.insert(0,x.pop())    \n",
    "    count +=1\n",
    "    if x == y:\n",
    "        break\n",
    "print(count)"
   ]
  },
  {
   "cell_type": "code",
   "execution_count": 50,
   "id": "0832eb1d",
   "metadata": {},
   "outputs": [
    {
     "name": "stdout",
     "output_type": "stream",
     "text": [
      "[(1, 3), (2, 4)]\n"
     ]
    }
   ],
   "source": [
    "x = [1,3]\n",
    "y = [2,4,6]\n",
    "z = zip(*zip(x,y))\n",
    "print(list(z))"
   ]
  },
  {
   "cell_type": "code",
   "execution_count": 51,
   "id": "14bd9d48",
   "metadata": {},
   "outputs": [
    {
     "name": "stdout",
     "output_type": "stream",
     "text": [
      "[[], [0], [0, 1], [0, 1, 2]]\n"
     ]
    }
   ],
   "source": [
    "x = [[i for i in range(j)] for j in range(4)]\n",
    "print(x)"
   ]
  },
  {
   "cell_type": "code",
   "execution_count": 56,
   "id": "4ebf4447",
   "metadata": {},
   "outputs": [
    {
     "name": "stdout",
     "output_type": "stream",
     "text": [
      "[7, None]\n",
      "[1, 2, 3, 4, 5, 7, None]\n"
     ]
    }
   ],
   "source": [
    "x = [1,2,3]\n",
    "x.append(x.extend([4,5,7]))\n",
    "print(x[-2:])\n",
    "print(x)"
   ]
  },
  {
   "cell_type": "code",
   "execution_count": 58,
   "id": "b7fdaa7f",
   "metadata": {},
   "outputs": [
    {
     "name": "stdout",
     "output_type": "stream",
     "text": [
      "Germany\n"
     ]
    }
   ],
   "source": [
    "x = \"Berlin\",\"Germany\",\"17\",\"7\"\n",
    "print(max(x))"
   ]
  },
  {
   "cell_type": "code",
   "execution_count": 60,
   "id": "ba19be4c",
   "metadata": {},
   "outputs": [
    {
     "name": "stdout",
     "output_type": "stream",
     "text": [
      "[(1,), (2,)]\n"
     ]
    }
   ],
   "source": [
    "x = 1,2\n",
    "y = list(zip(x))\n",
    "print(y)"
   ]
  },
  {
   "cell_type": "code",
   "execution_count": 64,
   "id": "08876fdf",
   "metadata": {},
   "outputs": [
    {
     "name": "stdout",
     "output_type": "stream",
     "text": [
      "[(2, 4), (3, 5)]\n"
     ]
    }
   ],
   "source": [
    "x = [2,4]\n",
    "y = [3,5,7,11]\n",
    "z = zip(*zip(x,y))\n",
    "k = list(z)\n",
    "print(k)"
   ]
  },
  {
   "cell_type": "code",
   "execution_count": 65,
   "id": "aa180120",
   "metadata": {},
   "outputs": [
    {
     "name": "stdout",
     "output_type": "stream",
     "text": [
      "Django\n"
     ]
    }
   ],
   "source": [
    "print ('Python' and 'Django')"
   ]
  },
  {
   "cell_type": "code",
   "execution_count": 69,
   "id": "d55ef546",
   "metadata": {},
   "outputs": [
    {
     "name": "stdout",
     "output_type": "stream",
     "text": [
      "False\n"
     ]
    }
   ],
   "source": [
    "print((True and False) or (True and False and not True) or False)"
   ]
  },
  {
   "cell_type": "code",
   "execution_count": 70,
   "id": "c82c1258",
   "metadata": {},
   "outputs": [
    {
     "name": "stdout",
     "output_type": "stream",
     "text": [
      "('x', 'y', 'z')\n"
     ]
    }
   ],
   "source": [
    "x = 'xyz'\n",
    "for _ in range(10):\n",
    "    x = tuple(x)\n",
    "print(x)"
   ]
  },
  {
   "cell_type": "code",
   "execution_count": 71,
   "id": "89557862",
   "metadata": {},
   "outputs": [
    {
     "name": "stdout",
     "output_type": "stream",
     "text": [
      "[2, True]\n"
     ]
    }
   ],
   "source": [
    "x = [2,3,4,5]\n",
    "y = x.pop() > x.pop() > x.pop()\n",
    "x.append(y)\n",
    "print(x)"
   ]
  },
  {
   "cell_type": "code",
   "execution_count": 73,
   "id": "0e96a52a",
   "metadata": {},
   "outputs": [
    {
     "name": "stdout",
     "output_type": "stream",
     "text": [
      "[2, True, 3]\n"
     ]
    }
   ],
   "source": [
    "x = [2,3,4,5]\n",
    "y = (x.pop() > x.pop()),  x.pop()\n",
    "x.extend(y)\n",
    "print(x)"
   ]
  },
  {
   "cell_type": "code",
   "execution_count": 74,
   "id": "afe0615e",
   "metadata": {},
   "outputs": [
    {
     "name": "stdout",
     "output_type": "stream",
     "text": [
      "[1, 2, [3, 15], 4]\n"
     ]
    }
   ],
   "source": [
    "x = [1,2,[3],4]\n",
    "y = x[2]\n",
    "y.append(15)\n",
    "print(x)"
   ]
  },
  {
   "cell_type": "code",
   "execution_count": null,
   "id": "7de5f719",
   "metadata": {},
   "outputs": [],
   "source": []
  }
 ],
 "metadata": {
  "kernelspec": {
   "display_name": "Python 3",
   "language": "python",
   "name": "python3"
  },
  "language_info": {
   "codemirror_mode": {
    "name": "ipython",
    "version": 3
   },
   "file_extension": ".py",
   "mimetype": "text/x-python",
   "name": "python",
   "nbconvert_exporter": "python",
   "pygments_lexer": "ipython3",
   "version": "3.8.8"
  }
 },
 "nbformat": 4,
 "nbformat_minor": 5
}
