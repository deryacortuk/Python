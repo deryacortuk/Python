{
 "cells": [
  {
   "cell_type": "code",
   "execution_count": 1,
   "id": "34316a96",
   "metadata": {},
   "outputs": [
    {
     "data": {
      "text/plain": [
       "['l', 'r', 'h', 'r']"
      ]
     },
     "execution_count": 1,
     "metadata": {},
     "output_type": "execute_result"
    }
   ],
   "source": [
    "# map(func, iter)\n",
    "# Executes the function on all elements of the iterable.\n",
    "\n",
    "list(map(lambda x: x[1], ['blue','green','white','gray']))"
   ]
  },
  {
   "cell_type": "code",
   "execution_count": 2,
   "id": "b50f9755",
   "metadata": {},
   "outputs": [
    {
     "data": {
      "text/plain": [
       "['1 apples', '0 oranges', '2 melons', '3 bananas']"
      ]
     },
     "execution_count": 2,
     "metadata": {},
     "output_type": "execute_result"
    }
   ],
   "source": [
    "# map(func, i1,..,ik)\n",
    "# Executes the function on all k elements of the k iterables.\n",
    "\n",
    "list(map(lambda x,y: str(x) + ' ' + y + 's', [1, 0, 2 ,3], [ 'apple','orange','melon', 'banana']))"
   ]
  },
  {
   "cell_type": "code",
   "execution_count": 4,
   "id": "acab3793",
   "metadata": {},
   "outputs": [
    {
     "data": {
      "text/plain": [
       "'Django Python Pandas'"
      ]
     },
     "execution_count": 4,
     "metadata": {},
     "output_type": "execute_result"
    }
   ],
   "source": [
    "# string.join(iter)\n",
    "# Concatinates iterable elements seperated by string.\n",
    "' Python '.join(list(['Django','Pandas']))"
   ]
  },
  {
   "cell_type": "code",
   "execution_count": 6,
   "id": "49166a1c",
   "metadata": {},
   "outputs": [
    {
     "data": {
      "text/plain": [
       "[21, 19, 29]"
      ]
     },
     "execution_count": 6,
     "metadata": {},
     "output_type": "execute_result"
    }
   ],
   "source": [
    "# filter(func, iterable)\n",
    "# Filters out elements in iterable for which function returns False or 0.\n",
    "list(filter(lambda x: True if x > 17 else False, [11,21,19,7,15,29]))"
   ]
  },
  {
   "cell_type": "code",
   "execution_count": 7,
   "id": "5fc1ac8c",
   "metadata": {},
   "outputs": [
    {
     "name": "stdout",
     "output_type": "stream",
     "text": [
      "17\n"
     ]
    }
   ],
   "source": [
    "# string.strip()\n",
    "# Removes leading and trailing whitespaces of string.\n",
    "print(\"\\n   \\t 17  \\t \".strip())"
   ]
  },
  {
   "cell_type": "code",
   "execution_count": 9,
   "id": "4b738047",
   "metadata": {},
   "outputs": [
    {
     "data": {
      "text/plain": [
       "[23, 2, 8, 8, 11, 33]"
      ]
     },
     "execution_count": 9,
     "metadata": {},
     "output_type": "execute_result"
    }
   ],
   "source": [
    "# sorted(iter ,key=key)\n",
    "# Sorts accodring to the key function in ascending order.\n",
    "sorted([8,11,2,33,23,8], key = lambda x: 0 if x == 23 else x)"
   ]
  },
  {
   "cell_type": "code",
   "execution_count": 12,
   "id": "fec4076b",
   "metadata": {},
   "outputs": [],
   "source": [
    "# help(func)\n",
    "# Returns documantation of func.\n"
   ]
  },
  {
   "cell_type": "code",
   "execution_count": 13,
   "id": "9af73143",
   "metadata": {},
   "outputs": [
    {
     "data": {
      "text/plain": [
       "[('Orange', 11), ('Blue', 14), ('Green', 17)]"
      ]
     },
     "execution_count": 13,
     "metadata": {},
     "output_type": "execute_result"
    }
   ],
   "source": [
    "# zip(i1,i2,...)\n",
    "# Groups the i-th elements of iterators i1, i2,... together.\n",
    "list(zip(['Orange','Blue','Green'],[11,14,17]))"
   ]
  },
  {
   "cell_type": "code",
   "execution_count": 16,
   "id": "0946c2ed",
   "metadata": {},
   "outputs": [
    {
     "data": {
      "text/plain": [
       "[('Orange', 11), ('Blue', 14), ('Green', 17)]"
      ]
     },
     "execution_count": 16,
     "metadata": {},
     "output_type": "execute_result"
    }
   ],
   "source": [
    "# Unzip \n",
    "# Equal to :  1) unpack the zipped list, 2) zip the result.\n",
    "list(zip(*[('Orange','Blue','Green'),(11,14,17)]))"
   ]
  },
  {
   "cell_type": "code",
   "execution_count": 17,
   "id": "67540f10",
   "metadata": {},
   "outputs": [
    {
     "data": {
      "text/plain": [
       "[(0, 'Blue'), (1, 'Orange'), (2, 'Black')]"
      ]
     },
     "execution_count": 17,
     "metadata": {},
     "output_type": "execute_result"
    }
   ],
   "source": [
    "# enumerate(iter)\n",
    "# Assigns a counter value to each element of the iterable.\n",
    "list(enumerate(['Blue','Orange','Black']))"
   ]
  },
  {
   "cell_type": "code",
   "execution_count": 18,
   "id": "1f353df4",
   "metadata": {},
   "outputs": [],
   "source": [
    "# Python -m http.server<P>\n",
    "# Want to share files between your PC and your phone? Run this command in your PC's shell. <P> is any port number between\n",
    "# 0 - 65535. Type <IP address of PC>:<P> in the phone's browser. Now, You can browse the files in the PC's directory."
   ]
  },
  {
   "cell_type": "code",
   "execution_count": null,
   "id": "2260e04a",
   "metadata": {},
   "outputs": [],
   "source": [
    "# Read comic\n",
    "# import antigravity\n",
    "# opens the comic series xkcd in your web browser"
   ]
  },
  {
   "cell_type": "code",
   "execution_count": 19,
   "id": "cb039947",
   "metadata": {},
   "outputs": [],
   "source": [
    "# Zen of Python\n",
    "#import this"
   ]
  },
  {
   "cell_type": "code",
   "execution_count": 24,
   "id": "e261148a",
   "metadata": {},
   "outputs": [
    {
     "data": {
      "text/plain": [
       "27"
      ]
     },
     "execution_count": 24,
     "metadata": {},
     "output_type": "execute_result"
    }
   ],
   "source": [
    "# Unpacking arguments\n",
    "# Use a sequence as function arguments via asterisk operator *. \n",
    "def f(x,y,z):\n",
    "    return x + y *z\n",
    "f(*[2,3,5])  # 17\n",
    "f(**{'z':2,'x':5,'y':11})"
   ]
  },
  {
   "cell_type": "code",
   "execution_count": 27,
   "id": "64998534",
   "metadata": {},
   "outputs": [
    {
     "name": "stdout",
     "output_type": "stream",
     "text": [
      "x -->  2\n",
      "y -->  [3, 4, 5, 6]\n"
     ]
    }
   ],
   "source": [
    "#Extended Unpacking\n",
    "# Use unpacking for multiple assignment feature in Python.\n",
    "x, *y = [2,3,4,5,6]\n",
    "print('x --> ',x)\n",
    "print('y --> ',y)"
   ]
  },
  {
   "cell_type": "code",
   "execution_count": 28,
   "id": "8d901ac9",
   "metadata": {},
   "outputs": [
    {
     "name": "stdout",
     "output_type": "stream",
     "text": [
      "{'Blue': 17, 'Black': 11, 'Yellow': 12}\n"
     ]
    }
   ],
   "source": [
    "# Merge two dictinaries\n",
    "# Use unpacking to merge two dictionaries into a single one.\n",
    "\n",
    "x = {'Blue':17}\n",
    "y = {'Black':11, 'Yellow':12}\n",
    "z = {**x, **y}\n",
    "print(z)"
   ]
  },
  {
   "cell_type": "code",
   "execution_count": null,
   "id": "26d5d4ae",
   "metadata": {},
   "outputs": [],
   "source": []
  }
 ],
 "metadata": {
  "kernelspec": {
   "display_name": "Python 3",
   "language": "python",
   "name": "python3"
  },
  "language_info": {
   "codemirror_mode": {
    "name": "ipython",
    "version": 3
   },
   "file_extension": ".py",
   "mimetype": "text/x-python",
   "name": "python",
   "nbconvert_exporter": "python",
   "pygments_lexer": "ipython3",
   "version": "3.8.8"
  }
 },
 "nbformat": 4,
 "nbformat_minor": 5
}
