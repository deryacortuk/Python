{
 "cells": [
  {
   "cell_type": "code",
   "execution_count": 1,
   "id": "df2d212a",
   "metadata": {},
   "outputs": [],
   "source": [
    "# A naïve algorithm is typically a very simple solution to a problem, which represents the intuitive approach \n",
    "# taken by one unfamiliar with the problem domain. It is meant to describe a suboptimal algorithm compared to \n",
    "# a \"clever\" (but less simple) algorithm. Naïve algorithms usually consume larger amounts of resources \n",
    "# (time, space, memory accesses, ...), but are simple to devise and implement.\n",
    "\n",
    "# An example of a naïve algorithm is bubble sort, which is only a few lines long and easy to understand, \n",
    "# but has a O(\"n2\") time complexity. A more \"clever\" algorithm is quicksort, which, although being considerably \n",
    "# more complicated than bubble sort, has a O(\"n log n\") average complexity. For instance, sorting a list of \n",
    "# 100 items with bubble sort requires 10,000 iterations, while sorting the same list with quicksort requires\n",
    "# approximately 1000 iterations, making quicksort a much faster algorithm than bubble sort.\n",
    "\n",
    "# The number of comparisons in the worst case is O(m*(n-m+1)). \n",
    "# Although strings which have repeated characters are not likely to appear in English text,\n",
    "# they may well occur in other applications (for example, in binary texts). \n",
    "# The KMP matching algorithm improves the worst case to O(n). We will be covering KMP in the next post. "
   ]
  },
  {
   "cell_type": "code",
   "execution_count": 2,
   "id": "8229edb9",
   "metadata": {},
   "outputs": [
    {
     "name": "stdout",
     "output_type": "stream",
     "text": [
      "Pattern found at index  0\n",
      "Pattern found at index  9\n",
      "Pattern found at index  13\n"
     ]
    }
   ],
   "source": [
    "def search(pat, txt):\n",
    "    M = len(pat)\n",
    "    N = len(txt)\n",
    " \n",
    "   \n",
    "    for i in range(N - M + 1):\n",
    "        j = 0\n",
    "     \n",
    "        while(j < M):\n",
    "            if (txt[i + j] != pat[j]):\n",
    "                break\n",
    "            j += 1\n",
    " \n",
    "        if (j == M):\n",
    "            print(\"Pattern found at index \", i)\n",
    "\n",
    "txt = \"AABAACAADAABAAABAA\"\n",
    "pat = \"AABA\"\n",
    "search(pat, txt)"
   ]
  },
  {
   "cell_type": "code",
   "execution_count": null,
   "id": "6d4bf348",
   "metadata": {},
   "outputs": [],
   "source": []
  }
 ],
 "metadata": {
  "kernelspec": {
   "display_name": "Python 3",
   "language": "python",
   "name": "python3"
  },
  "language_info": {
   "codemirror_mode": {
    "name": "ipython",
    "version": 3
   },
   "file_extension": ".py",
   "mimetype": "text/x-python",
   "name": "python",
   "nbconvert_exporter": "python",
   "pygments_lexer": "ipython3",
   "version": "3.8.8"
  }
 },
 "nbformat": 4,
 "nbformat_minor": 5
}
