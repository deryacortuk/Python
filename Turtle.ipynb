{
 "cells": [
  {
   "cell_type": "code",
   "execution_count": null,
   "id": "61cd45f8",
   "metadata": {},
   "outputs": [],
   "source": [
    "import turtle\n",
    "\n",
    "ninja = turtle.Turtle()\n",
    "\n",
    "ninja.speed(10)\n",
    "\n",
    "for i in range(180):\n",
    "    ninja.forward(100)\n",
    "    ninja.right(30)\n",
    "    ninja.forward(20)\n",
    "    ninja.left(60)\n",
    "    ninja.forward(50)\n",
    "    ninja.right(30)\n",
    "    \n",
    "    ninja.penup()\n",
    "    ninja.setposition(0,0)\n",
    "    ninja.pendown()\n",
    "    \n",
    "    ninja.right(2)\n",
    "    \n",
    "turtle.done()"
   ]
  },
  {
   "cell_type": "code",
   "execution_count": 10,
   "id": "1cd18a8e",
   "metadata": {},
   "outputs": [],
   "source": [
    "import turtle\n",
    "\n",
    "star = turtle.Turtle()\n",
    " \n",
    "star.right(75)\n",
    "star.forward(100)\n",
    "\n",
    "for i in range(4):\n",
    "    \n",
    "    star.right(144)\n",
    "    star.forward(100)\n",
    "     \n",
    "turtle.done()"
   ]
  },
  {
   "cell_type": "code",
   "execution_count": 4,
   "id": "721747cb",
   "metadata": {},
   "outputs": [],
   "source": [
    "import turtle\n",
    "import os\n",
    "colors = ['red','white','purple','light gray', 'blue', 'light pink','green', 'orange', 'cyan','yellow']\n",
    "t = turtle.Pen()\n",
    "turtle.bgcolor('black')\n",
    "for x in range(360):\n",
    "    t.pencolor(colors[x%10])\n",
    "    t.width(x//100 + 1)\n",
    "    t.forward(x)\n",
    "    t.left(55)\n",
    "turtle.done()"
   ]
  },
  {
   "cell_type": "code",
   "execution_count": null,
   "id": "98eb2735",
   "metadata": {},
   "outputs": [],
   "source": []
  }
 ],
 "metadata": {
  "kernelspec": {
   "display_name": "Python 3",
   "language": "python",
   "name": "python3"
  },
  "language_info": {
   "codemirror_mode": {
    "name": "ipython",
    "version": 3
   },
   "file_extension": ".py",
   "mimetype": "text/x-python",
   "name": "python",
   "nbconvert_exporter": "python",
   "pygments_lexer": "ipython3",
   "version": "3.8.8"
  }
 },
 "nbformat": 4,
 "nbformat_minor": 5
}
