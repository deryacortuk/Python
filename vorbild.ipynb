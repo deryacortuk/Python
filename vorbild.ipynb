{
 "cells": [
  {
   "cell_type": "code",
   "execution_count": 3,
   "id": "91e0dfc3",
   "metadata": {},
   "outputs": [
    {
     "name": "stdout",
     "output_type": "stream",
     "text": [
      "Orange\n"
     ]
    }
   ],
   "source": [
    "d = {0:'Blue', 1:'Green',2:'White',3:'Orange'}\n",
    "x = d.setdefault(3,'Gray')  #The method setdefault() returns the value of the item with the specified key.\n",
    "                          #If the key does not exist, it inserts the key, with the special value, and returns the value.\n",
    "print(x)"
   ]
  },
  {
   "cell_type": "code",
   "execution_count": 5,
   "id": "637fa674",
   "metadata": {},
   "outputs": [
    {
     "name": "stdout",
     "output_type": "stream",
     "text": [
      "{True: {0, 1, 2}, (2,): {0, 1, 2, 3}}\n",
      "2\n"
     ]
    }
   ],
   "source": [
    "dc = {\n",
    "    bool(-1):{0},             #In a dictionary, all keys are unique. If you add a dictinary entry with a key that already exist,\n",
    "    True:{0,1},             #you'll simply update the entry. In the puzzle, you add the entry bool(-1):O to the dictionary. \n",
    "                         #In other words, the non-zero key bool(-1) evaluates to 1, which is the representatin of the Boolean \n",
    "                         # value True and the next entry updates the first one. The third entry 1 also updates the exists one.\n",
    "    1:{0,1,2},\n",
    "    (2,):{0,1,2,3,}\n",
    "}\n",
    "print(dc)\n",
    "print(len(dc))"
   ]
  },
  {
   "cell_type": "code",
   "execution_count": 12,
   "id": "9f5d6388",
   "metadata": {},
   "outputs": [
    {
     "name": "stdout",
     "output_type": "stream",
     "text": [
      "Django\n"
     ]
    }
   ],
   "source": [
    "class A:\n",
    "    x ='Django'\n",
    "    \n",
    "p = [A() for _ in range(7)]       #You create a list of seven instances of a class A. Since you modify the attribute x only \n",
    "                             # in the first, second and third instances, the fourth instance still has its default value.\n",
    "p[0].x ='Matplotlib'     \n",
    "p[1].x='Seaborn'\n",
    "p[3].x='Pandas'\n",
    "print(p[4].x)"
   ]
  },
  {
   "cell_type": "code",
   "execution_count": 13,
   "id": "9d772b2f",
   "metadata": {},
   "outputs": [
    {
     "name": "stdout",
     "output_type": "stream",
     "text": [
      "3\n"
     ]
    }
   ],
   "source": [
    "class A:\n",
    "    def func(self):\n",
    "        return self.run()\n",
    "    def run(self):\n",
    "        return 1\n",
    "class B(A):\n",
    "    def run(self):\n",
    "        return 2 \n",
    "class C(B):                #First, you define class A with two methods, func() and run(). Next, class B inherits from class A\n",
    "    def run(self):       #and overrides the method run(). Class C inherits from class B and also overrides the method run().                  \n",
    "        return 3           #When you call the method func() on instance c of class C it executes the implementation of\n",
    "                         #method run() of class C.\n",
    "c = C()\n",
    "print(c.func())"
   ]
  },
  {
   "cell_type": "code",
   "execution_count": 36,
   "id": "169cafcb",
   "metadata": {},
   "outputs": [
    {
     "name": "stdout",
     "output_type": "stream",
     "text": [
      "[1, 2, 3, 4]\n"
     ]
    }
   ],
   "source": [
    "list1=[1,2,3,4,5,6,7,8,9]\n",
    "for _ in list1:\n",
    "    list1.pop()\n",
    "print(list1)"
   ]
  },
  {
   "cell_type": "code",
   "execution_count": 37,
   "id": "c4986ba1",
   "metadata": {},
   "outputs": [
    {
     "name": "stdout",
     "output_type": "stream",
     "text": [
      "2\n"
     ]
    }
   ],
   "source": [
    "class A:\n",
    "    def func(self):\n",
    "        return  self.run()\n",
    "    def run():\n",
    "        return 1\n",
    "class B(A):\n",
    "    def run(self):\n",
    "        return 2\n",
    "    \n",
    "class C(B):\n",
    "    def log(self):\n",
    "        return 3\n",
    "class D(C):\n",
    "    def log(self):\n",
    "        return 7\n",
    "\n",
    "d = D()\n",
    "print(d.func())"
   ]
  },
  {
   "cell_type": "code",
   "execution_count": 43,
   "id": "8eea5c36",
   "metadata": {},
   "outputs": [
    {
     "name": "stdout",
     "output_type": "stream",
     "text": [
      "Flask\n",
      "Flask\n",
      "Flask\n"
     ]
    }
   ],
   "source": [
    "class D:\n",
    "    x = 'Django'\n",
    "                      #On the surface,it seems that you create a list of seven instances of class D.But the truth is that \n",
    "d = [D()]*7            #you only create a list of seven references to the same instance. Roughly speaking, your memory contains\n",
    "d[0].x='Seaborn'        # only a single instance-with seven references to this instance. If you change the instance variable\n",
    "d[1].x ='Matplotlib'     #of one instance, all list elements that point to this exact same instance will see it.\n",
    "                #Thus, the last change of instance variable x -setting it to the string \"Flask\" -is seen by all list elements.\n",
    "d[2].x='Flask'\n",
    "print(d[3].x)   \n",
    "print(d[0].x)\n",
    "print(d[1].x)"
   ]
  },
  {
   "cell_type": "code",
   "execution_count": 45,
   "id": "10b7ef87",
   "metadata": {},
   "outputs": [
    {
     "name": "stdout",
     "output_type": "stream",
     "text": [
      "[1, 2, 3, 4, ([3, 4, 5], [7])]\n",
      "5\n"
     ]
    }
   ],
   "source": [
    "def f(x,*y):\n",
    "    d = [*x,y]\n",
    "    print(d)\n",
    "    return len(d)\n",
    "\n",
    "x,y,z=[1,2,3,4],[3,4,5],[7]\n",
    "\n",
    "print(f(x,y,z))"
   ]
  },
  {
   "cell_type": "code",
   "execution_count": 46,
   "id": "1914b979",
   "metadata": {},
   "outputs": [
    {
     "name": "stdout",
     "output_type": "stream",
     "text": [
      "-4\n"
     ]
    }
   ],
   "source": [
    "key = lambda x:-max(x)       \n",
    "t = (-1,-3),(-4,9,-2),(0,)\n",
    "print(min(min(t,key=key)))"
   ]
  },
  {
   "cell_type": "code",
   "execution_count": 50,
   "id": "245d0db8",
   "metadata": {},
   "outputs": [
    {
     "name": "stdout",
     "output_type": "stream",
     "text": [
      "[3]\n",
      "[3, 5]\n",
      "[3, 5, 7]\n"
     ]
    }
   ],
   "source": [
    "def fnc(x,lst=[]):\n",
    "    lst.append(x)\n",
    "    return lst\n",
    "\n",
    "print(fnc(3))\n",
    "print(fnc(5))\n",
    "print(fnc(7))"
   ]
  },
  {
   "cell_type": "code",
   "execution_count": 55,
   "id": "3f38e81d",
   "metadata": {},
   "outputs": [
    {
     "name": "stdout",
     "output_type": "stream",
     "text": [
      "[1, 2, 3, 4, ([5, 6], [7])]\n"
     ]
    },
    {
     "data": {
      "text/plain": [
       "5"
      ]
     },
     "execution_count": 55,
     "metadata": {},
     "output_type": "execute_result"
    }
   ],
   "source": [
    "def fnc(x,*y):\n",
    "    t = [*x,*y]\n",
    "    print(t)\n",
    "    print(len(t))\n",
    "x,y,z = [1,2,3,4],[5,6],[7]\n",
    "f(x,y,z)"
   ]
  },
  {
   "cell_type": "code",
   "execution_count": 65,
   "id": "b44ade3b",
   "metadata": {},
   "outputs": [
    {
     "name": "stdout",
     "output_type": "stream",
     "text": [
      "Black\n"
     ]
    }
   ],
   "source": [
    "class A:\n",
    "    members = []\n",
    "    def __init__(self,name):\n",
    "        self.name = name\n",
    "        self.members.append(self)\n",
    "    def __repr__(self):\n",
    "        return self.name\n",
    "\n",
    "x,y,z,k,j = A('Blue'),A('Green'),A('White'),A('Black'),A('Yellow')\n",
    "A.members.insert(0,A.members.pop())\n",
    "print(A.members[-1])"
   ]
  },
  {
   "cell_type": "code",
   "execution_count": 67,
   "id": "9d0aa7c9",
   "metadata": {},
   "outputs": [
    {
     "name": "stdout",
     "output_type": "stream",
     "text": [
      "7 17\n"
     ]
    }
   ],
   "source": [
    "class A:\n",
    "    x,y = 7,17\n",
    "    def swap(self):\n",
    "        self.x , self.y = self.y,self.x\n",
    "a=A()\n",
    "a.swap()\n",
    "print(A.x,A.y)"
   ]
  },
  {
   "cell_type": "code",
   "execution_count": 69,
   "id": "350ce2de",
   "metadata": {},
   "outputs": [
    {
     "name": "stdout",
     "output_type": "stream",
     "text": [
      "[1, 2, 3, 4]\n"
     ]
    }
   ],
   "source": [
    "x = [1,2,3,4]               #Your slice x[3:] contains only the las element of list x. But you don't perform slice assignment\n",
    "x[3:].append(x[0])          #but simple slicing, which creates a copy of the data. You use the method append() on the \n",
    "print(x)                    #copied sublist, thus the inital list x is not modified."
   ]
  },
  {
   "cell_type": "code",
   "execution_count": 73,
   "id": "20e92bda",
   "metadata": {},
   "outputs": [
    {
     "name": "stdout",
     "output_type": "stream",
     "text": [
      "-8\n"
     ]
    }
   ],
   "source": [
    "test = True -3 and 10 and -8\n",
    "print(test)"
   ]
  },
  {
   "cell_type": "code",
   "execution_count": 79,
   "id": "03d55fcd",
   "metadata": {},
   "outputs": [
    {
     "name": "stdout",
     "output_type": "stream",
     "text": [
      "PERFECT\n",
      "MOVE\n",
      "{'PLEASE': 'bitte', 'Thank you': 'danke', 'PERFECT': 'perfekt', 'MOVE': 'vorrücken'}\n"
     ]
    }
   ],
   "source": [
    "translation = {\n",
    "    'please':'bitte',\n",
    "    'thank you':'danke',\n",
    "    'perfect':'perfekt',\n",
    "    'move':'vorrücken',    \n",
    "}\n",
    "d = {k.capitalize() if len(k.split()) >1 else k.upper(): v for k,v in translation.items()}\n",
    "print(list(d)[2])\n",
    "print(list(d)[3])\n",
    "print(d)\n"
   ]
  },
  {
   "cell_type": "code",
   "execution_count": 83,
   "id": "8c875ed6",
   "metadata": {},
   "outputs": [
    {
     "name": "stdout",
     "output_type": "stream",
     "text": [
      "11\n"
     ]
    }
   ],
   "source": [
    "d = {'a':2,'b':3,'c':5,'d':7}\n",
    "x = d.pop('e',11) or None\n",
    "y = d.pop('c',None) or 11\n",
    "print(x or y)\n"
   ]
  },
  {
   "cell_type": "code",
   "execution_count": null,
   "id": "9f7f000a",
   "metadata": {},
   "outputs": [],
   "source": []
  }
 ],
 "metadata": {
  "kernelspec": {
   "display_name": "Python 3",
   "language": "python",
   "name": "python3"
  },
  "language_info": {
   "codemirror_mode": {
    "name": "ipython",
    "version": 3
   },
   "file_extension": ".py",
   "mimetype": "text/x-python",
   "name": "python",
   "nbconvert_exporter": "python",
   "pygments_lexer": "ipython3",
   "version": "3.8.8"
  }
 },
 "nbformat": 4,
 "nbformat_minor": 5
}
