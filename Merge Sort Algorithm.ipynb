{
 "cells": [
  {
   "cell_type": "code",
   "execution_count": 1,
   "id": "e7475383",
   "metadata": {},
   "outputs": [],
   "source": [
    "# Merge Sort Algorithm\n",
    "# Merge Sort is a Divide and Conquer algorithm. Merge sort works by spliting the input list into two halves, repeating\n",
    "# the process on those halves, and finally it merges the two sorted halves together.\n",
    "# The algorithm works in O(nlogn). This is because the list is being split in log(n) calls and the merging process takes\n",
    "# linear time in each call.\n",
    "\n",
    "# Advantages of the Merge Sort ALgorithm:\n",
    "# 1. Merge sorting makes it simple to sort big data sets.\n",
    "# 2. Merge sort may access data in order, thus random access isn't required.\n",
    "# 3. Merge sort is a reliable sorting method.\n",
    "\n",
    "# Drawbacks of the Merge Sort Algorithm:\n",
    "# 1.The merge sort requires a similar size array to sort the list, which is a handicap of the memory use.\n",
    "# 2. When sorting smaller data sets, it takes longer."
   ]
  },
  {
   "cell_type": "code",
   "execution_count": 4,
   "id": "95888bfe",
   "metadata": {},
   "outputs": [
    {
     "name": "stdout",
     "output_type": "stream",
     "text": [
      "[4, 7, 8, 9, 11, 18, 21, 22, 26, 41, 45, 54]\n"
     ]
    }
   ],
   "source": [
    "def merge_sort(array):\n",
    "    if len(array) > 1:\n",
    "        mid = len(array)//2\n",
    "        left = array[:mid]\n",
    "        right = array[mid:]\n",
    "        merge_sort(left)\n",
    "        merge_sort(right)\n",
    "        \n",
    "        i = 0\n",
    "        j = 0\n",
    "        k = 0\n",
    "        \n",
    "        while i < len(left) and j < len(right):\n",
    "            if left[i] <= right[j]:\n",
    "                \n",
    "                array[k] = left[i]\n",
    "                \n",
    "                i += 1\n",
    "            else:\n",
    "                array[k] = right[j]\n",
    "                \n",
    "                j += 1\n",
    "            k += 1\n",
    "            \n",
    "        while i < len(left):\n",
    "            array[k] = left[i]\n",
    "            i += 1\n",
    "            k += 1\n",
    "        while j < len(right):\n",
    "            array[k] = right[j]\n",
    "            j += 1\n",
    "            k += 1\n",
    "mylist = [22,11,4,21,45,26,54,8,9,18,41,7]\n",
    "merge_sort(mylist)\n",
    "print(mylist)\n",
    "            \n",
    "        \n",
    "        "
   ]
  },
  {
   "cell_type": "code",
   "execution_count": null,
   "id": "71d14f5a",
   "metadata": {},
   "outputs": [],
   "source": []
  }
 ],
 "metadata": {
  "kernelspec": {
   "display_name": "Python 3",
   "language": "python",
   "name": "python3"
  },
  "language_info": {
   "codemirror_mode": {
    "name": "ipython",
    "version": 3
   },
   "file_extension": ".py",
   "mimetype": "text/x-python",
   "name": "python",
   "nbconvert_exporter": "python",
   "pygments_lexer": "ipython3",
   "version": "3.8.8"
  }
 },
 "nbformat": 4,
 "nbformat_minor": 5
}
