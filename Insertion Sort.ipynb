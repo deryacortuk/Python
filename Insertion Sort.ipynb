{
 "cells": [
  {
   "cell_type": "code",
   "execution_count": 1,
   "id": "668e15be",
   "metadata": {},
   "outputs": [],
   "source": [
    "# Insertion Sort\n",
    "\n",
    "# Insertion sort is a sorting algorithm that places an unsorted element at its suitable place in each iteration.\n",
    "# The first element in the array is assumed to be sorted. Take the second element and store it separately in key.\n",
    "# More efficient in practice than most other simple quadratic (i.e., O(n2)) algorithms such as selection sort or bubble sort.\n",
    "\n",
    "# Time Complexities\n",
    "\n",
    "# Worst Case Complexity: O(n2)\n",
    "# Suppose, an array is in ascending order, and you want to sort it in descending order. \n",
    "# In this case, worst case complexity occurs.\n",
    "# Each element has to be compared with each of the other elements so, for every nth element, \n",
    "# (n-1) number of comparisons are made.\n",
    "# Thus, the total number of comparisons = n*(n-1) ~ n2\n",
    "\n",
    "# Best Case Complexity: O(n)\n",
    "# When the array is already sorted, the outer loop runs for n number of times whereas the inner \n",
    "# loop does not run at all. So, there are only n number of comparisons. Thus, complexity is linear.\n",
    "\n",
    "# Average Case Complexity: O(n2)\n",
    "# It occurs when the elements of an array are in jumbled order (neither ascending nor descending).\n",
    "\n",
    "# Space Complexity\n",
    "# Space complexity is O(1) because an extra variable key is used.\n",
    "\n",
    "# Insertion Sort Applications\n",
    "# the array is has a small number of elements\n",
    "# there are only a few elements left to be sorted\n",
    "\n",
    "\n",
    "# Algorithm \n",
    "# To sort an array of size n in ascending order: \n",
    "# Iterate from arr[1] to arr[n] over the array. \n",
    "# Compare the current element (key) to its predecessor. \n",
    "# If the key element is smaller than its predecessor, compare it to the elements before.\n"
   ]
  },
  {
   "cell_type": "code",
   "execution_count": 2,
   "id": "d037d819",
   "metadata": {},
   "outputs": [
    {
     "name": "stdout",
     "output_type": "stream",
     "text": [
      "Sorted Array in Ascending Order:\n",
      "[5, 7, 11, 14, 15, 21, 23, 29]\n"
     ]
    }
   ],
   "source": [
    "def insertionSort(array):\n",
    "\n",
    "    for step in range(1, len(array)):\n",
    "        key = array[step]\n",
    "        j = step - 1\n",
    "        \n",
    "              \n",
    "        while j >= 0 and key < array[j]:\n",
    "            array[j + 1] = array[j]\n",
    "            j = j - 1\n",
    "        \n",
    "       \n",
    "        array[j + 1] = key\n",
    "\n",
    "\n",
    "data = [29, 15, 21, 14, 23,5,7,11]\n",
    "insertionSort(data)\n",
    "print('Sorted Array in Ascending Order:')\n",
    "print(data)"
   ]
  },
  {
   "cell_type": "code",
   "execution_count": null,
   "id": "fd49d29f",
   "metadata": {},
   "outputs": [],
   "source": []
  }
 ],
 "metadata": {
  "kernelspec": {
   "display_name": "Python 3",
   "language": "python",
   "name": "python3"
  },
  "language_info": {
   "codemirror_mode": {
    "name": "ipython",
    "version": 3
   },
   "file_extension": ".py",
   "mimetype": "text/x-python",
   "name": "python",
   "nbconvert_exporter": "python",
   "pygments_lexer": "ipython3",
   "version": "3.8.8"
  }
 },
 "nbformat": 4,
 "nbformat_minor": 5
}
