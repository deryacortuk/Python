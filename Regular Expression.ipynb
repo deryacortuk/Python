{
 "cells": [
  {
   "cell_type": "code",
   "execution_count": 8,
   "id": "9c8e03b8",
   "metadata": {},
   "outputs": [
    {
     "name": "stdout",
     "output_type": "stream",
     "text": [
      "b'{\"current_user_url\":\"https://api.github.com/user\",\"current_user_authorizations_html_url\":\"https://github.com/settings/connections/applications{/client_id}\",\"authorizations_url\":\"https://api.github.com/authorizations\",\"code_search_url\":\"https://api.github.com/search/code?q={query}{&page,per_page,sort,order}\",\"commit_search_url\":\"https://api.github.com/search/commits?q={query}{&page,per_page,sort,order}\",\"emails_url\":\"https://api.github.com/user/emails\",\"emojis_url\":\"https://api.github.com/emojis\",\"events_url\":\"https://api.github.com/events\",\"feeds_url\":\"https://api.github.com/feeds\",\"followers_url\":\"https://api.github.com/user/followers\",\"following_url\":\"https://api.github.com/user/following{/target}\",\"gists_url\":\"https://api.github.com/gists{/gist_id}\",\"hub_url\":\"https://api.github.com/hub\",\"issue_search_url\":\"https://api.github.com/search/issues?q={query}{&page,per_page,sort,order}\",\"issues_url\":\"https://api.github.com/issues\",\"keys_url\":\"https://api.github.com/user/keys\",\"label_search_url\":\"https://api.github.com/search/labels?q={query}&repository_id={repository_id}{&page,per_page}\",\"notifications_url\":\"https://api.github.com/notifications\",\"organization_url\":\"https://api.github.com/orgs/{org}\",\"organization_repositories_url\":\"https://api.github.com/orgs/{org}/repos{?type,page,per_page,sort}\",\"organization_teams_url\":\"https://api.github.com/orgs/{org}/teams\",\"public_gists_url\":\"https://api.github.com/gists/public\",\"rate_limit_url\":\"https://api.github.com/rate_limit\",\"repository_url\":\"https://api.github.com/repos/{owner}/{repo}\",\"repository_search_url\":\"https://api.github.com/search/repositories?q={query}{&page,per_page,sort,order}\",\"current_user_repositories_url\":\"https://api.github.com/user/repos{?type,page,per_page,sort}\",\"starred_url\":\"https://api.github.com/user/starred{/owner}{/repo}\",\"starred_gists_url\":\"https://api.github.com/gists/starred\",\"topic_search_url\":\"https://api.github.com/search/topics?q={query}{&page,per_page}\",\"user_url\":\"https://api.github.com/users/{user}\",\"user_organizations_url\":\"https://api.github.com/user/orgs\",\"user_repositories_url\":\"https://api.github.com/users/{user}/repos{?type,page,per_page,sort}\",\"user_search_url\":\"https://api.github.com/search/users?q={query}{&page,per_page,sort,order}\"}'\n",
      "[]\n"
     ]
    }
   ],
   "source": [
    "from urllib.request import urlopen\n",
    "import re\n",
    "\n",
    "url = \"https://api.github.com\"\n",
    "html = urlopen(url).read()\n",
    "print(str(html))\n",
    "titles = re.findall(\"\\<title>(.*)\\</title\\>\",str(html))\n",
    "print(titles)"
   ]
  },
  {
   "cell_type": "code",
   "execution_count": 9,
   "id": "00690478",
   "metadata": {},
   "outputs": [
    {
     "name": "stdout",
     "output_type": "stream",
     "text": [
      "['func1', 'func2']\n"
     ]
    }
   ],
   "source": [
    "test = '''\n",
    "def func1():\n",
    "    return 1\n",
    "def func2():\n",
    "    return 2\n",
    "'''\n",
    "print(re.findall('def ([a-zA-Z0-9_]+)',test))"
   ]
  },
  {
   "cell_type": "code",
   "execution_count": 12,
   "id": "24081094",
   "metadata": {},
   "outputs": [
    {
     "name": "stdout",
     "output_type": "stream",
     "text": [
      "['Python is', 'a high', 'level, interpreted', 'general-purpose', 'programming language', 'Its design', 'philosophy emphasizes', 'code readability', 'with the', 'use of', 'significant indentation', 'Python is', 'dynamically-typed', 'and garbage', 'collected. \\nIt', 'supports multiple', 'programming paradigms', 'including structured', 'particularly procedural', 'object-oriented', 'and functional', 'programming. \\nIt', 'is often', 'described as', 'a \"batteries', 'included\" language', 'due to', 'its comprehensive', 'standard library', 'Guido van', 'Rossum began', 'working on', 'Python in', 'the late', '1980s as', 'a successor', 'to the', 'ABC programming', 'language and', 'first \\nreleased', 'it in', '1991 as', 'Python 0', '9.0']\n"
     ]
    }
   ],
   "source": [
    "text = '''Python is a high-level, interpreted, general-purpose programming language. \n",
    "Its design philosophy emphasizes code readability with the use of significant indentation.\n",
    "Python is dynamically-typed and garbage-collected. \n",
    "It supports multiple programming paradigms, including structured (particularly procedural), \n",
    "object-oriented and functional programming. \n",
    "It is often described as a \"batteries included\" language due to its comprehensive standard library.\n",
    "Guido van Rossum began working on Python in the late 1980s as a successor to the ABC programming language and first \n",
    "released it in 1991 as Python 0.9.0.\n",
    "'''\n",
    "\n",
    "print(re.findall('\\w+\\W+\\w+',text))\n"
   ]
  },
  {
   "cell_type": "code",
   "execution_count": 13,
   "id": "e7979973",
   "metadata": {},
   "outputs": [
    {
     "name": "stdout",
     "output_type": "stream",
     "text": [
      "['1', '9', '8', '0', '1', '9', '9', '1', '0', '9', '0']\n"
     ]
    }
   ],
   "source": [
    "print(re.findall('\\d',text))"
   ]
  },
  {
   "cell_type": "code",
   "execution_count": 14,
   "id": "35ac8f9b",
   "metadata": {},
   "outputs": [
    {
     "name": "stdout",
     "output_type": "stream",
     "text": [
      "[]\n"
     ]
    }
   ],
   "source": [
    "print(re.findall('\\n\\t',text))"
   ]
  },
  {
   "cell_type": "code",
   "execution_count": 15,
   "id": "bacd738c",
   "metadata": {},
   "outputs": [
    {
     "name": "stdout",
     "output_type": "stream",
     "text": [
      "[]\n"
     ]
    }
   ],
   "source": [
    "print(re.findall('\\n ',text))"
   ]
  },
  {
   "cell_type": "code",
   "execution_count": 16,
   "id": "f1e2e885",
   "metadata": {},
   "outputs": [
    {
     "name": "stdout",
     "output_type": "stream",
     "text": [
      "[' is ', ' of ', ' is ', '\\nIt ', '\\nIt ', ' as ', ' to ', ' on ', ' in ', ' as ', ' to ', ' it ', ' as ']\n"
     ]
    }
   ],
   "source": [
    "print(re.findall('\\s\\w\\w\\s',text))"
   ]
  },
  {
   "cell_type": "code",
   "execution_count": 17,
   "id": "f8ea7759",
   "metadata": {},
   "outputs": [
    {
     "data": {
      "text/plain": [
       "['e', 'd']"
      ]
     },
     "execution_count": 17,
     "metadata": {},
     "output_type": "execute_result"
    }
   ],
   "source": [
    "re.findall('[abcde]','hello world!')"
   ]
  },
  {
   "cell_type": "code",
   "execution_count": 18,
   "id": "a5edba1c",
   "metadata": {},
   "outputs": [
    {
     "data": {
      "text/plain": [
       "['e', 'd']"
      ]
     },
     "execution_count": 18,
     "metadata": {},
     "output_type": "execute_result"
    }
   ],
   "source": [
    "re.findall('[a-e]','hello world!')"
   ]
  },
  {
   "cell_type": "code",
   "execution_count": 19,
   "id": "79cd4ce9",
   "metadata": {},
   "outputs": [
    {
     "data": {
      "text/plain": [
       "['h', 'o', 'n', '3', '1', '0']"
      ]
     },
     "execution_count": 19,
     "metadata": {},
     "output_type": "execute_result"
    }
   ],
   "source": [
    "re.findall('[a-oA-O0-9]','Python 3.10')"
   ]
  },
  {
   "cell_type": "code",
   "execution_count": 20,
   "id": "37d8f977",
   "metadata": {},
   "outputs": [
    {
     "data": {
      "text/plain": [
       "['h', 'llo worl']"
      ]
     },
     "execution_count": 20,
     "metadata": {},
     "output_type": "execute_result"
    }
   ],
   "source": [
    "# The negative character set  [^...] mathes all characters that are not enclosed in the square brackets.\n",
    "re.findall('[^a-e]+','hello world')"
   ]
  },
  {
   "cell_type": "code",
   "execution_count": 36,
   "id": "c665f719",
   "metadata": {},
   "outputs": [],
   "source": [
    "# Methods re.match(),  re.findall(), re.fullmatch()\n",
    "# re.match(pattern, string) returns a match object while re.findall(pattern,string) return a list of matching strings.\n",
    "# re.match(pattern, string) returns only the first match in the string -and only at the beginning -while \n",
    "#  re.findall(pattern, string) returns all matches in the string.\n",
    "# The re.fullmatch(pattern, string) method returns a match object if the pattern matches the whole string. "
   ]
  },
  {
   "cell_type": "code",
   "execution_count": 39,
   "id": "3252ae14",
   "metadata": {},
   "outputs": [
    {
     "data": {
      "text/plain": [
       "['Hello, w']"
      ]
     },
     "execution_count": 39,
     "metadata": {},
     "output_type": "execute_result"
    }
   ],
   "source": [
    "text = 'Hello, world.'       # The dot reges . matches any arbitrary characters except the newline character.\n",
    "re.findall(\"H.......\",text)"
   ]
  },
  {
   "cell_type": "code",
   "execution_count": 40,
   "id": "d87cc23b",
   "metadata": {},
   "outputs": [],
   "source": [
    "# re.findall(pattern, string, flag = 0) flag default value is O.\n",
    "# re.ASCII or re.A\n",
    "# re.DEBUG \n",
    "# re.IGNORECASE or re.I\n"
   ]
  },
  {
   "cell_type": "code",
   "execution_count": 41,
   "id": "d06fac2a",
   "metadata": {},
   "outputs": [
    {
     "name": "stdout",
     "output_type": "stream",
     "text": [
      "['indentation', 'indentation', 'indentation', 'indentation', 'indentation']\n"
     ]
    }
   ],
   "source": [
    "text = ''' \n",
    "Python uses whitespace indentation, rather than curly brackets or keywords, to delimit blocks.\n",
    "An increase in indentation comes after certain statements; a decrease in indentation signifies the end of the current block.\n",
    "[78] Thus, the program's visual structure accurately represents its semantic structure.\n",
    "[79] This feature is sometimes termed the off-side rule. Some other languages use indentation this way;\n",
    "but in most, indentation has no semantic meaning. The recommended indent size is four spaces.[80]\n",
    "'''\n",
    "\n",
    "print(re.findall('indentation', text, flags=re.IGNORECASE))"
   ]
  },
  {
   "cell_type": "code",
   "execution_count": 42,
   "id": "1b1fa012",
   "metadata": {},
   "outputs": [
    {
     "name": "stdout",
     "output_type": "stream",
     "text": [
      "['indentation', 'indentation', 'indentation', 'indentation', 'indentation']\n"
     ]
    }
   ],
   "source": [
    "print(re.findall(' indentation #Ignored', text, flags=re.IGNORECASE + re.VERBOSE))"
   ]
  },
  {
   "cell_type": "code",
   "execution_count": 44,
   "id": "0d117b88",
   "metadata": {},
   "outputs": [
    {
     "name": "stdout",
     "output_type": "stream",
     "text": [
      "['way;\\nb']\n"
     ]
    }
   ],
   "source": [
    "print(re.findall('w....b', text, flags=re.DOTALL))"
   ]
  },
  {
   "cell_type": "code",
   "execution_count": 45,
   "id": "1bd8cec6",
   "metadata": {},
   "outputs": [
    {
     "data": {
      "text/plain": [
       "['.', '.', '.']"
      ]
     },
     "execution_count": 45,
     "metadata": {},
     "output_type": "execute_result"
    }
   ],
   "source": [
    "text = 'Python.Is.Great.'             \n",
    "re.findall('\\.',text)            #The period character '\\.'"
   ]
  },
  {
   "cell_type": "code",
   "execution_count": 46,
   "id": "be60e0ec",
   "metadata": {},
   "outputs": [
    {
     "data": {
      "text/plain": [
       "['Python programming language']"
      ]
     },
     "execution_count": 46,
     "metadata": {},
     "output_type": "execute_result"
    }
   ],
   "source": [
    "# The asterisk quantifier * always applies to the preceding regular expression.(Matches zero or more occurences.)\n",
    "\n",
    "text = \"Python programming language\"\n",
    "re.findall('P.*',text)"
   ]
  },
  {
   "cell_type": "code",
   "execution_count": 47,
   "id": "7b41b0ea",
   "metadata": {},
   "outputs": [
    {
     "data": {
      "text/plain": [
       "['Python']"
      ]
     },
     "execution_count": 47,
     "metadata": {},
     "output_type": "execute_result"
    }
   ],
   "source": [
    "re.findall('P[a-z]*',text)"
   ]
  },
  {
   "cell_type": "code",
   "execution_count": 50,
   "id": "28b60734",
   "metadata": {},
   "outputs": [
    {
     "data": {
      "text/plain": [
       "['*', '*', '*', '*', '*', '*', '*', '*', '*']"
      ]
     },
     "execution_count": 50,
     "metadata": {},
     "output_type": "execute_result"
    }
   ],
   "source": [
    "# The asterisk character '\\*'\n",
    "text = '****great*****'\n",
    "re.findall('\\*',text)\n"
   ]
  },
  {
   "cell_type": "code",
   "execution_count": 51,
   "id": "3f563c28",
   "metadata": {},
   "outputs": [
    {
     "data": {
      "text/plain": [
       "['****', '', '', '', '', '', '*****', '']"
      ]
     },
     "execution_count": 51,
     "metadata": {},
     "output_type": "execute_result"
    }
   ],
   "source": [
    "re.findall('\\**',text)\n"
   ]
  },
  {
   "cell_type": "code",
   "execution_count": 52,
   "id": "77ae961d",
   "metadata": {},
   "outputs": [
    {
     "data": {
      "text/plain": [
       "['****', '*****']"
      ]
     },
     "execution_count": 52,
     "metadata": {},
     "output_type": "execute_result"
    }
   ],
   "source": [
    "re.findall('\\*+',text)"
   ]
  },
  {
   "cell_type": "code",
   "execution_count": 54,
   "id": "10ee1347",
   "metadata": {},
   "outputs": [
    {
     "data": {
      "text/plain": [
       "['xxxxx']"
      ]
     },
     "execution_count": 54,
     "metadata": {},
     "output_type": "execute_result"
    }
   ],
   "source": [
    "# The Plus Quantifier '+' (matches one or more.)\n",
    "re.findall('x+','xxxxxb')"
   ]
  },
  {
   "cell_type": "code",
   "execution_count": 55,
   "id": "0314d92b",
   "metadata": {},
   "outputs": [
    {
     "data": {
      "text/plain": [
       "['xyyyyy']"
      ]
     },
     "execution_count": 55,
     "metadata": {},
     "output_type": "execute_result"
    }
   ],
   "source": [
    "re.findall('xy+','xxxyyyyy')"
   ]
  },
  {
   "cell_type": "code",
   "execution_count": 56,
   "id": "165dff32",
   "metadata": {},
   "outputs": [
    {
     "data": {
      "text/plain": [
       "['xy']"
      ]
     },
     "execution_count": 56,
     "metadata": {},
     "output_type": "execute_result"
    }
   ],
   "source": [
    "re.findall('xy+?','xxxyyy')"
   ]
  },
  {
   "cell_type": "code",
   "execution_count": 57,
   "id": "e2aa2273",
   "metadata": {},
   "outputs": [
    {
     "data": {
      "text/plain": [
       "['danke', 'sehr']"
      ]
     },
     "execution_count": 57,
     "metadata": {},
     "output_type": "execute_result"
    }
   ],
   "source": [
    "re.findall('[a-z]+','danke sehr')"
   ]
  },
  {
   "cell_type": "code",
   "execution_count": 58,
   "id": "3b663887",
   "metadata": {},
   "outputs": [
    {
     "data": {
      "text/plain": [
       "['aaaab']"
      ]
     },
     "execution_count": 58,
     "metadata": {},
     "output_type": "execute_result"
    }
   ],
   "source": [
    "re.findall('a+b','aaaabb')"
   ]
  },
  {
   "cell_type": "code",
   "execution_count": 59,
   "id": "45c00fed",
   "metadata": {},
   "outputs": [
    {
     "data": {
      "text/plain": [
       "[]"
      ]
     },
     "execution_count": 59,
     "metadata": {},
     "output_type": "execute_result"
    }
   ],
   "source": [
    "re.findall('ab+','aaaaaaaaa')"
   ]
  },
  {
   "cell_type": "code",
   "execution_count": 60,
   "id": "3614e729",
   "metadata": {},
   "outputs": [
    {
     "data": {
      "text/plain": [
       "[]"
      ]
     },
     "execution_count": 60,
     "metadata": {},
     "output_type": "execute_result"
    }
   ],
   "source": [
    "text = '11 + 3 + 2 + 1'\n",
    "re.findall(' + ',text)"
   ]
  },
  {
   "cell_type": "code",
   "execution_count": 61,
   "id": "5831a3ab",
   "metadata": {},
   "outputs": [
    {
     "data": {
      "text/plain": [
       "[' + ', ' + ', ' + ']"
      ]
     },
     "execution_count": 61,
     "metadata": {},
     "output_type": "execute_result"
    }
   ],
   "source": [
    "re.findall(' \\+ ',text)"
   ]
  },
  {
   "cell_type": "code",
   "execution_count": 62,
   "id": "f31ae9ff",
   "metadata": {},
   "outputs": [
    {
     "data": {
      "text/plain": [
       "[' +', ' +', ' +']"
      ]
     },
     "execution_count": 62,
     "metadata": {},
     "output_type": "execute_result"
    }
   ],
   "source": [
    "re.findall(' \\++',text)"
   ]
  },
  {
   "cell_type": "code",
   "execution_count": 63,
   "id": "7703f2cb",
   "metadata": {},
   "outputs": [
    {
     "data": {
      "text/plain": [
       "[' +++++ ']"
      ]
     },
     "execution_count": 63,
     "metadata": {},
     "output_type": "execute_result"
    }
   ],
   "source": [
    "re.findall(' \\++ ','7 +++++ 10 = 17')"
   ]
  },
  {
   "cell_type": "code",
   "execution_count": 64,
   "id": "31895e88",
   "metadata": {},
   "outputs": [
    {
     "data": {
      "text/plain": [
       "['aac', 'aa', 'aad']"
      ]
     },
     "execution_count": 64,
     "metadata": {},
     "output_type": "execute_result"
    }
   ],
   "source": [
    "# The Question Mark Quantifier   (? matches either zero or one)\n",
    "\n",
    "re.findall('aa[cde]?','aacde aa aadecde')"
   ]
  },
  {
   "cell_type": "code",
   "execution_count": 65,
   "id": "199b2f93",
   "metadata": {},
   "outputs": [
    {
     "data": {
      "text/plain": [
       "['a', 'a', 'a', 'aa']"
      ]
     },
     "execution_count": 65,
     "metadata": {},
     "output_type": "execute_result"
    }
   ],
   "source": [
    "re.findall('aa?','acccacacccaa')"
   ]
  },
  {
   "cell_type": "code",
   "execution_count": 66,
   "id": "bf4b2f44",
   "metadata": {},
   "outputs": [
    {
     "data": {
      "text/plain": [
       "['cc', 'c', '', 'dd', '', 'e', 'e', '']"
      ]
     },
     "execution_count": 66,
     "metadata": {},
     "output_type": "execute_result"
    }
   ],
   "source": [
    "re.findall('[cd]?[cde]?','ccc dd ee')   # The regex [cd]? defines a character set [cd] which reads as \"match either c or d.\"\n",
    "                                # The regex [cde]? defines a character set [cde] which reads as \"match either c,d, or e.\""
   ]
  },
  {
   "cell_type": "code",
   "execution_count": 67,
   "id": "46873fd6",
   "metadata": {},
   "outputs": [
    {
     "data": {
      "text/plain": [
       "['a', 'a', 'a', 'a', 'a', 'a', 'a']"
      ]
     },
     "execution_count": 67,
     "metadata": {},
     "output_type": "execute_result"
    }
   ],
   "source": [
    "re.findall('ab?','aaaaaaa')"
   ]
  },
  {
   "cell_type": "code",
   "execution_count": 68,
   "id": "68d5ff10",
   "metadata": {},
   "outputs": [
    {
     "data": {
      "text/plain": [
       "[]"
      ]
     },
     "execution_count": 68,
     "metadata": {},
     "output_type": "execute_result"
    }
   ],
   "source": [
    "re.findall('ab+','aaaaaaa')"
   ]
  },
  {
   "cell_type": "code",
   "execution_count": 69,
   "id": "09cadc58",
   "metadata": {},
   "outputs": [
    {
     "name": "stdout",
     "output_type": "stream",
     "text": [
      "xy\n"
     ]
    }
   ],
   "source": [
    "print(re.findall('xy?','xyyy')[0])"
   ]
  },
  {
   "cell_type": "code",
   "execution_count": 72,
   "id": "9feeae6c",
   "metadata": {},
   "outputs": [
    {
     "name": "stdout",
     "output_type": "stream",
     "text": [
      "xyyy\n"
     ]
    }
   ],
   "source": [
    "print(re.findall('xy*','xyyy')[0])"
   ]
  },
  {
   "cell_type": "code",
   "execution_count": 75,
   "id": "13a95ba2",
   "metadata": {},
   "outputs": [
    {
     "name": "stdout",
     "output_type": "stream",
     "text": [
      "xyyy\n"
     ]
    }
   ],
   "source": [
    "print(re.findall('xy+','xyyy')[0])"
   ]
  },
  {
   "cell_type": "code",
   "execution_count": 76,
   "id": "c45ad013",
   "metadata": {},
   "outputs": [],
   "source": [
    "# Quantifier      Meaning\n",
    "#    A?           Match pattern A zero or one times\n",
    "#    A*           Match pattern A zero or more times\n",
    "#    A+           Match pattern A one or more times\n",
    "#    A{m}         Match pattern A exactly m times\n",
    "#    A{m,n}       Match pattern A between m and n times\n",
    "\n",
    "# You can make the default quantifiers ?,*,+,{m},{m,n} non-greedy by appending a question mark sembol '?' to them: ??,*?\n",
    "#  +?, {m}? and {m,n}?. They consume or match as few characters as possible so that the regex pattern is still satisfied.\n",
    "\n",
    "# What is the difference between the greedy and the non-greedy match?\n",
    "# The greedy one matches as many repeitions of the quantified pattern as possible.\n",
    "# The non-greedy one matches as few repetitions of the quantified pattern as possible."
   ]
  },
  {
   "cell_type": "code",
   "execution_count": 81,
   "id": "167d8fd4",
   "metadata": {},
   "outputs": [
    {
     "data": {
      "text/plain": [
       "['aaa', 'aaa']"
      ]
     },
     "execution_count": 81,
     "metadata": {},
     "output_type": "execute_result"
    }
   ],
   "source": [
    "re.findall('a{3}','aaaaaaaa')"
   ]
  },
  {
   "cell_type": "code",
   "execution_count": 83,
   "id": "4a95a677",
   "metadata": {},
   "outputs": [
    {
     "data": {
      "text/plain": [
       "['aa', 'aa', 'a']"
      ]
     },
     "execution_count": 83,
     "metadata": {},
     "output_type": "execute_result"
    }
   ],
   "source": [
    "re.findall('a{1,2}','aaaaa')"
   ]
  },
  {
   "cell_type": "code",
   "execution_count": 90,
   "id": "d96251ab",
   "metadata": {},
   "outputs": [
    {
     "data": {
      "text/plain": [
       "3.8906696000012744"
      ]
     },
     "execution_count": 90,
     "metadata": {},
     "output_type": "execute_result"
    }
   ],
   "source": [
    "import timeit\n",
    "timeit.timeit('import re;re.findall(\"a*\",\"aaaaaaa\")')"
   ]
  },
  {
   "cell_type": "code",
   "execution_count": 91,
   "id": "17708f24",
   "metadata": {},
   "outputs": [
    {
     "data": {
      "text/plain": [
       "9.788936400000239"
      ]
     },
     "execution_count": 91,
     "metadata": {},
     "output_type": "execute_result"
    }
   ],
   "source": [
    "import timeit\n",
    "timeit.timeit('import re;re.findall(\"a*?\",\"aaaaaaa\")')"
   ]
  },
  {
   "cell_type": "code",
   "execution_count": 92,
   "id": "85b1340f",
   "metadata": {},
   "outputs": [
    {
     "data": {
      "text/plain": [
       "3.0993054999999003"
      ]
     },
     "execution_count": 92,
     "metadata": {},
     "output_type": "execute_result"
    }
   ],
   "source": [
    "import timeit\n",
    "timeit.timeit('import re;re.search(\"a*\",\"aaaaaaa\")')"
   ]
  },
  {
   "cell_type": "code",
   "execution_count": 93,
   "id": "22ec89fe",
   "metadata": {},
   "outputs": [
    {
     "data": {
      "text/plain": [
       "3.083818399998563"
      ]
     },
     "execution_count": 93,
     "metadata": {},
     "output_type": "execute_result"
    }
   ],
   "source": [
    "import timeit\n",
    "timeit.timeit('import re;re.search(\"a*?\",\"aaaaaaa\")')"
   ]
  },
  {
   "cell_type": "code",
   "execution_count": 94,
   "id": "57d5105b",
   "metadata": {},
   "outputs": [
    {
     "data": {
      "text/plain": [
       "['Python']"
      ]
     },
     "execution_count": 94,
     "metadata": {},
     "output_type": "execute_result"
    }
   ],
   "source": [
    "# The Caret Operator (^) : Match the beginning of the string.\n",
    "re.findall('^Python', 'Python is great.')"
   ]
  },
  {
   "cell_type": "code",
   "execution_count": 95,
   "id": "0fd0057d",
   "metadata": {},
   "outputs": [
    {
     "data": {
      "text/plain": [
       "['Python']"
      ]
     },
     "execution_count": 95,
     "metadata": {},
     "output_type": "execute_result"
    }
   ],
   "source": [
    "re.findall('^Python', 'Python! Python PYTHON')       # flag =re.MULTILINE match at the beginning of each line"
   ]
  },
  {
   "cell_type": "code",
   "execution_count": 102,
   "id": "cde2559a",
   "metadata": {},
   "outputs": [
    {
     "data": {
      "text/plain": [
       "['fun']"
      ]
     },
     "execution_count": 102,
     "metadata": {},
     "output_type": "execute_result"
    }
   ],
   "source": [
    "# End of String ($)   \n",
    "re.findall('fun$','PYTHON is fun')"
   ]
  },
  {
   "cell_type": "code",
   "execution_count": 103,
   "id": "3c982ee2",
   "metadata": {},
   "outputs": [
    {
     "data": {
      "text/plain": [
       "['fun']"
      ]
     },
     "execution_count": 103,
     "metadata": {},
     "output_type": "execute_result"
    }
   ],
   "source": [
    "re.findall('fun$','fun fun fun fun')  # The trailing dolar sign $ ensures that the regex matches only at the end of the string."
   ]
  },
  {
   "cell_type": "code",
   "execution_count": 104,
   "id": "ebfbb03a",
   "metadata": {},
   "outputs": [
    {
     "data": {
      "text/plain": [
       "'Code is \\nPython'"
      ]
     },
     "execution_count": 104,
     "metadata": {},
     "output_type": "execute_result"
    }
   ],
   "source": [
    "# re.sub(pattern, repl, string, count=0, flags = 0) method returns a new string where all occurences of the pattern in the old\n",
    "# string are replaced by repl.\n",
    "\n",
    "re.sub('^Python','Code','Python is \\nPython')"
   ]
  },
  {
   "cell_type": "code",
   "execution_count": 105,
   "id": "1696eb66",
   "metadata": {},
   "outputs": [
    {
     "data": {
      "text/plain": [
       "'Code is \\nCode'"
      ]
     },
     "execution_count": 105,
     "metadata": {},
     "output_type": "execute_result"
    }
   ],
   "source": [
    "re.sub('^Python','Code','Python is \\nPython', flags = re.MULTILINE)"
   ]
  },
  {
   "cell_type": "code",
   "execution_count": 106,
   "id": "fa0ba77b",
   "metadata": {},
   "outputs": [
    {
     "data": {
      "text/plain": [
       "'Python\\nCode'"
      ]
     },
     "execution_count": 106,
     "metadata": {},
     "output_type": "execute_result"
    }
   ],
   "source": [
    "re.sub('Python$','Code','Python\\nPython')"
   ]
  },
  {
   "cell_type": "code",
   "execution_count": 107,
   "id": "69799492",
   "metadata": {},
   "outputs": [
    {
     "data": {
      "text/plain": [
       "['^', '^', '^']"
      ]
     },
     "execution_count": 107,
     "metadata": {},
     "output_type": "execute_result"
    }
   ],
   "source": [
    "# What if you search for the caret (^) or dollar ($) sembol themselves?\n",
    "# Escape the caret or dollar symbols using the backslash symbol. In particular, use '\\^' instead of '^' and '\\$' instead of '$'.\n",
    "\n",
    "text = 'The product ^^^ costs $17 today.'\n",
    "re.findall('\\^',text)"
   ]
  },
  {
   "cell_type": "code",
   "execution_count": 108,
   "id": "38b8f0f6",
   "metadata": {},
   "outputs": [
    {
     "data": {
      "text/plain": [
       "['$']"
      ]
     },
     "execution_count": 108,
     "metadata": {},
     "output_type": "execute_result"
    }
   ],
   "source": [
    "re.findall('\\$',text)"
   ]
  },
  {
   "cell_type": "code",
   "execution_count": 109,
   "id": "052ae100",
   "metadata": {},
   "outputs": [
    {
     "data": {
      "text/plain": [
       "['Code', 'Python']"
      ]
     },
     "execution_count": 109,
     "metadata": {},
     "output_type": "execute_result"
    }
   ],
   "source": [
    "# Or Operator (|)\n",
    "re.findall('(Python|Code)','Code, Python, Django ')"
   ]
  },
  {
   "cell_type": "code",
   "execution_count": 110,
   "id": "fd878eeb",
   "metadata": {},
   "outputs": [
    {
     "data": {
      "text/plain": [
       "['Code', 'Python', 'Django']"
      ]
     },
     "execution_count": 110,
     "metadata": {},
     "output_type": "execute_result"
    }
   ],
   "source": [
    "# Nested OR\n",
    "\n",
    "re.findall('(Python|Code|Django)','Code, Python, Django, Flask,Matplotlib ')"
   ]
  },
  {
   "cell_type": "code",
   "execution_count": 112,
   "id": "05fa73ba",
   "metadata": {},
   "outputs": [
    {
     "data": {
      "text/plain": [
       "[('x', 'x', 'x'), ('x', 'x', 'x'), ('x', 'x', 'x'), ('', '', '')]"
      ]
     },
     "execution_count": 112,
     "metadata": {},
     "output_type": "execute_result"
    }
   ],
   "source": [
    "re.findall('x(i|(zz|ii|(x|)))',' xxxx iii zzzz ii xxx')"
   ]
  },
  {
   "cell_type": "code",
   "execution_count": 115,
   "id": "18df132a",
   "metadata": {},
   "outputs": [
    {
     "data": {
      "text/plain": [
       "['guten', 'tag']"
      ]
     },
     "execution_count": 115,
     "metadata": {},
     "output_type": "execute_result"
    }
   ],
   "source": [
    "re.findall('[abcdefghijklmnopqrstuvwxyz]+','guten tag')"
   ]
  },
  {
   "cell_type": "code",
   "execution_count": 116,
   "id": "732ba8e9",
   "metadata": {},
   "outputs": [
    {
     "data": {
      "text/plain": [
       "['guten', 'morgen']"
      ]
     },
     "execution_count": 116,
     "metadata": {},
     "output_type": "execute_result"
    }
   ],
   "source": [
    "re.findall('[a-z]+','guten morgen')"
   ]
  },
  {
   "cell_type": "code",
   "execution_count": 117,
   "id": "d217accb",
   "metadata": {},
   "outputs": [
    {
     "data": {
      "text/plain": [
       "['x|z']"
      ]
     },
     "execution_count": 117,
     "metadata": {},
     "output_type": "execute_result"
    }
   ],
   "source": [
    "# Match The Vertical Line '|'\n",
    "re.findall('x\\|z','xxxxx|zzzzzz')"
   ]
  },
  {
   "cell_type": "code",
   "execution_count": 118,
   "id": "fe765fb4",
   "metadata": {},
   "outputs": [
    {
     "data": {
      "text/plain": [
       "['ababab']"
      ]
     },
     "execution_count": 118,
     "metadata": {},
     "output_type": "execute_result"
    }
   ],
   "source": [
    "# Ordered Regex AND Operator\n",
    "\n",
    "x = 'aba'\n",
    "y = 'bab'\n",
    "re.findall(x+y,'ababab')"
   ]
  },
  {
   "cell_type": "code",
   "execution_count": 122,
   "id": "93534875",
   "metadata": {},
   "outputs": [
    {
     "data": {
      "text/plain": [
       "['hallo wie geht es dir']"
      ]
     },
     "execution_count": 122,
     "metadata": {},
     "output_type": "execute_result"
    }
   ],
   "source": [
    "# Unordered Regex AND Operator\n",
    "\n",
    "pattern = '(?=.*dir)(?=.*hallo).*'\n",
    "re.findall(pattern,'hallo wie geht es dir')"
   ]
  },
  {
   "cell_type": "code",
   "execution_count": 124,
   "id": "8ab7c680",
   "metadata": {},
   "outputs": [
    {
     "data": {
      "text/plain": [
       "['n', 'n', 'x', 'z', 'y']"
      ]
     },
     "execution_count": 124,
     "metadata": {},
     "output_type": "execute_result"
    }
   ],
   "source": [
    "# How can you search a string for substrings that do NOT match a given pattern? In other words, what's \"the negative pattern\"\n",
    "# in Python's regular expressions?\n",
    "# The answer is two-fold: If you want to match all characters except a set of specific characters, you can use the negative\n",
    "# character set [^...]. If you want to match all substrings except the ones that match a regex pattern, you can use the feature\n",
    "# of negative lookahead (?!...). \n",
    "\n",
    "re.findall('[^a-m]','aaabbbaaabbmmnnmxzymmaa')"
   ]
  },
  {
   "cell_type": "code",
   "execution_count": 125,
   "id": "0d2fee4a",
   "metadata": {},
   "outputs": [
    {
     "data": {
      "text/plain": [
       "['gute', 'nacht']"
      ]
     },
     "execution_count": 125,
     "metadata": {},
     "output_type": "execute_result"
    }
   ],
   "source": [
    "re.findall('[a-z]+(?![a-z]+)','gute nacht')"
   ]
  },
  {
   "cell_type": "code",
   "execution_count": 126,
   "id": "0cc1bb15",
   "metadata": {},
   "outputs": [
    {
     "data": {
      "text/plain": [
       "['hell', 'world']"
      ]
     },
     "execution_count": 126,
     "metadata": {},
     "output_type": "execute_result"
    }
   ],
   "source": [
    "re.findall('[a-z]+(?! world)','hello world')"
   ]
  },
  {
   "cell_type": "code",
   "execution_count": 135,
   "id": "b87296ff",
   "metadata": {},
   "outputs": [],
   "source": [
    "# Matching Group pr Capture Group\n",
    "# A significant advantage of a matching group is taht it captures the matched substring.\n",
    "a = re.search(r'(s.n)','schön ist schön')\n"
   ]
  },
  {
   "cell_type": "code",
   "execution_count": 136,
   "id": "d641239f",
   "metadata": {},
   "outputs": [
    {
     "data": {
      "text/plain": [
       "<re.Match object; span=(9, 14), match='\"yes\"'>"
      ]
     },
     "execution_count": 136,
     "metadata": {},
     "output_type": "execute_result"
    }
   ],
   "source": [
    "re.search('(?P<quote>[\"\\']).*(?P=quote)','Just say \"yes\"')"
   ]
  },
  {
   "cell_type": "code",
   "execution_count": 137,
   "id": "1c36f738",
   "metadata": {},
   "outputs": [
    {
     "data": {
      "text/plain": [
       "<re.Match object; span=(0, 15), match='python is great'>"
      ]
     },
     "execution_count": 137,
     "metadata": {},
     "output_type": "execute_result"
    }
   ],
   "source": [
    "re.search('(?:python|C) is great','python is great. C is great.')"
   ]
  },
  {
   "cell_type": "code",
   "execution_count": 138,
   "id": "0f375e66",
   "metadata": {},
   "outputs": [
    {
     "data": {
      "text/plain": [
       "<re.Match object; span=(8, 9), match='i'>"
      ]
     },
     "execution_count": 138,
     "metadata": {},
     "output_type": "execute_result"
    }
   ],
   "source": [
    "# The negative lookahead only it checks that the given regex pattern does not occur going forward from a certain position.\n",
    "\n",
    "re.search('(?!.*hi.*).*','hi say hi')"
   ]
  },
  {
   "cell_type": "code",
   "execution_count": 139,
   "id": "fc5f383a",
   "metadata": {},
   "outputs": [
    {
     "data": {
      "text/plain": [
       "<re.Match object; span=(8, 9), match='i'>"
      ]
     },
     "execution_count": 139,
     "metadata": {},
     "output_type": "execute_result"
    }
   ],
   "source": [
    "re.search('(?!.*hi.*)(?!\\?).','hi say hi')"
   ]
  },
  {
   "cell_type": "code",
   "execution_count": 140,
   "id": "8756d236",
   "metadata": {},
   "outputs": [
    {
     "data": {
      "text/plain": [
       "['python']"
      ]
     },
     "execution_count": 140,
     "metadata": {},
     "output_type": "execute_result"
    }
   ],
   "source": [
    "# re.IGNORECASE\n",
    "re.findall('PYTHON','python is fun', flags =re.IGNORECASE )"
   ]
  },
  {
   "cell_type": "code",
   "execution_count": 142,
   "id": "6e52c094",
   "metadata": {},
   "outputs": [
    {
     "data": {
      "text/plain": [
       "['python']"
      ]
     },
     "execution_count": 142,
     "metadata": {},
     "output_type": "execute_result"
    }
   ],
   "source": [
    "# If you want to switch off the differentiation of capitalization\n",
    "re.findall('(?i:PYTHON)','python is great')"
   ]
  },
  {
   "cell_type": "code",
   "execution_count": 143,
   "id": "1421e8a0",
   "metadata": {},
   "outputs": [
    {
     "data": {
      "text/plain": [
       "['python']"
      ]
     },
     "execution_count": 143,
     "metadata": {},
     "output_type": "execute_result"
    }
   ],
   "source": [
    "# You can also switch off the capitalization for the whole regex with the 'global group flas' (?i)\n",
    "re.findall('(?i)PYTHON','python is great')"
   ]
  },
  {
   "cell_type": "code",
   "execution_count": 144,
   "id": "bf2fbc8f",
   "metadata": {},
   "outputs": [
    {
     "data": {
      "text/plain": [
       "['Learning', 'Python', 'with', 'Finxter!']"
      ]
     },
     "execution_count": 144,
     "metadata": {},
     "output_type": "execute_result"
    }
   ],
   "source": [
    "# re.split(pattern, strings, maxsplit = 0,flags=0)\n",
    "string = 'Learning Python with\\t Finxter!'\n",
    "re.split('\\s+',string)            # '\\s+' match all occurences of a positive number of subsequent whitespaces."
   ]
  },
  {
   "cell_type": "code",
   "execution_count": 147,
   "id": "51218d13",
   "metadata": {},
   "outputs": [
    {
     "data": {
      "text/plain": [
       "['', 'Python', 'ist', 'prächtig', '']"
      ]
     },
     "execution_count": 147,
     "metadata": {},
     "output_type": "execute_result"
    }
   ],
   "source": [
    "string = 'bdbdbdPythonbdistbdprächtigbdbdbd'\n",
    "re.split('[bd]+',string)"
   ]
  },
  {
   "cell_type": "code",
   "execution_count": 148,
   "id": "3f838611",
   "metadata": {},
   "outputs": [
    {
     "data": {
      "text/plain": [
       "'Python is fun. Python ...'"
      ]
     },
     "execution_count": 148,
     "metadata": {},
     "output_type": "execute_result"
    }
   ],
   "source": [
    "# re.sub(pattern, repl, string,count=0,flag = 0)      # Ignore the capitalization by using the flag re.I\n",
    "text = 'Django is fun. Django ...'\n",
    "re.sub('Django','Python', text)"
   ]
  },
  {
   "cell_type": "code",
   "execution_count": 149,
   "id": "e15d42d6",
   "metadata": {},
   "outputs": [
    {
     "data": {
      "text/plain": [
       "'Python is fun'"
      ]
     },
     "execution_count": 149,
     "metadata": {},
     "output_type": "execute_result"
    }
   ],
   "source": [
    "# string.replace\n",
    "'Python is python'.replace('python','fun')"
   ]
  },
  {
   "cell_type": "code",
   "execution_count": 150,
   "id": "35d6c97d",
   "metadata": {},
   "outputs": [
    {
     "data": {
      "text/plain": [
       "'fun is fun is fun'"
      ]
     },
     "execution_count": 150,
     "metadata": {},
     "output_type": "execute_result"
    }
   ],
   "source": [
    "re.sub('python','fun','Python is python is PYTHON',flags =re.I)"
   ]
  },
  {
   "cell_type": "code",
   "execution_count": 153,
   "id": "72e06aba",
   "metadata": {},
   "outputs": [],
   "source": [
    "# The re.compile(pattern) method returns a match object.\n",
    "\n",
    "regex = re.compile('Py...n')\n",
    "match = regex.search('Python is great')\n",
    "# match = re.search('Py...n', Python is great.)   //Equivalent to..."
   ]
  },
  {
   "cell_type": "code",
   "execution_count": null,
   "id": "f1f2c05e",
   "metadata": {},
   "outputs": [],
   "source": []
  }
 ],
 "metadata": {
  "kernelspec": {
   "display_name": "Python 3",
   "language": "python",
   "name": "python3"
  },
  "language_info": {
   "codemirror_mode": {
    "name": "ipython",
    "version": 3
   },
   "file_extension": ".py",
   "mimetype": "text/x-python",
   "name": "python",
   "nbconvert_exporter": "python",
   "pygments_lexer": "ipython3",
   "version": "3.8.8"
  }
 },
 "nbformat": 4,
 "nbformat_minor": 5
}
