{
 "cells": [
  {
   "cell_type": "code",
   "execution_count": 1,
   "id": "c216ddd0",
   "metadata": {},
   "outputs": [],
   "source": [
    "# Depth First Search\n",
    "# Depth First Search algorithm is a recursive algorithm for searching all vertices of a graph or tree structure.It involves\n",
    "# exhaustive searches of all the nodes by going ahead, if possible, else by backtracking. The word backtrack means that\n",
    "# when you are moving forward and there are no more nodes along the current path, you move backwards on the same path to \n",
    "# find nodes to traverse. \n",
    "# The recursive nature of DFS can be implemented using stacks. The basic idea is as follows:\n",
    "# 1.Pick a starting node and push all adjacent nodes into a stack.\n",
    "# 2.Pop a node from stack to seleck the next node to visit and push all its adjacent nodes into a stack.\n",
    "# Repeat this process until the stack is empty. However, you ensure that the nodes that are marked as visited.\n",
    "\n",
    "\n"
   ]
  },
  {
   "cell_type": "code",
   "execution_count": 6,
   "id": "955e6fc8",
   "metadata": {},
   "outputs": [
    {
     "name": "stdout",
     "output_type": "stream",
     "text": [
      "1\n",
      "2\n",
      "3\n",
      "5\n",
      "4\n"
     ]
    }
   ],
   "source": [
    "def depth_first_search(graph,node,visited):\n",
    "    if node not in visited:\n",
    "        print(node)\n",
    "        visited.add(node)\n",
    "        for neighbour in graph[node]:\n",
    "            depth_first_search(graph, neighbour,visited)\n",
    "\n",
    "\n",
    "graph= {\n",
    "    '1':['2','4'],\n",
    "    '2':['3','1'],\n",
    "    '3':['5'],\n",
    "    '4':['2'],\n",
    "    '5':['4']\n",
    "    \n",
    "}\n",
    "visited = set()\n",
    "depth_first_search(graph,'1',visited)"
   ]
  },
  {
   "cell_type": "code",
   "execution_count": 12,
   "id": "455a8954",
   "metadata": {},
   "outputs": [
    {
     "name": "stdout",
     "output_type": "stream",
     "text": [
      "1 2 3 4 "
     ]
    }
   ],
   "source": [
    "from collections import defaultdict\n",
    "class Graph:\n",
    "    def __init__(self):\n",
    "        self.graph = defaultdict(list)\n",
    "    def add_edge(self,u,v):\n",
    "        self.graph[u].append(v)\n",
    "    def DFS_util(self,node, visited):\n",
    "        visited.add(node)\n",
    "        print(node, end= \" \")\n",
    "        \n",
    "        for neighbour in self.graph[node]:\n",
    "            if neighbour not in visited:\n",
    "                self.DFS_util(neighbour,visited)\n",
    "    def DFS(self,node):\n",
    "        visited = set()\n",
    "        self.DFS_util(node,visited)  # Call the recursive helper function to print DFS traversal\n",
    "g = Graph()\n",
    "g.add_edge(1,2)\n",
    "g.add_edge(1,4)   \n",
    "g.add_edge(2,1)\n",
    "g.add_edge(2,3)\n",
    "g.add_edge(3,1)\n",
    "g.add_edge(4,2)\n",
    "g.DFS(1)\n"
   ]
  },
  {
   "cell_type": "code",
   "execution_count": null,
   "id": "0d95ec81",
   "metadata": {},
   "outputs": [],
   "source": []
  }
 ],
 "metadata": {
  "kernelspec": {
   "display_name": "Python 3",
   "language": "python",
   "name": "python3"
  },
  "language_info": {
   "codemirror_mode": {
    "name": "ipython",
    "version": 3
   },
   "file_extension": ".py",
   "mimetype": "text/x-python",
   "name": "python",
   "nbconvert_exporter": "python",
   "pygments_lexer": "ipython3",
   "version": "3.8.8"
  }
 },
 "nbformat": 4,
 "nbformat_minor": 5
}
