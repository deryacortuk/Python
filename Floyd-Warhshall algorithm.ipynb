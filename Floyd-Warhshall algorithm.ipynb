{
 "cells": [
  {
   "cell_type": "code",
   "execution_count": 1,
   "id": "34d4885a",
   "metadata": {},
   "outputs": [],
   "source": [
    "# Floyd-Warhshall algorithm is also called as Floyd's algorithm, Roy-Floyd algorithm, Roy-Warshall algorithm, or WFI algorithm.\n",
    "# The Floyd Warshall Algorithm is for solving the All Pairs Shortest Path problem. The problem is to find shortest\n",
    "# distances between every pair of vertices in a given edge weighted directed Graph. \n",
    "#  This algorithm works for both the directed and undirected weighted graphs. But, it does not work for the graphs with negative\n",
    "# cycles (where the sum of the edges in a cycle is negative).\n",
    "\n",
    "# pseudocode:\n",
    "# Pick a vertex – v\n",
    "# Calculate distance for each set of vertices\n",
    "# If the distance through vertex v is less than the currently recorded distance between two vertices, replace that distance\n",
    "# Repeat steps 1 through 3 for each vertex\n",
    "\n",
    "# We can use Dijskstra’s shortest path algorithm for finding all pair shortest paths by running it for every vertex. \n",
    "# But time complexity of this would be O(VE Log V) which can go (V3 Log V) in worst case.\n",
    "\n",
    "# Another important differentiating factor between the algorithms is their working towards distributed systems. \n",
    "# Unlike Dijkstra’s algorithm, Floyd Warshall can be implemented in a distributed system, making it suitable for data \n",
    "# structures such as Graph of Graphs (Used in Maps).\n",
    "\n",
    "# Lastly Floyd Warshall works for negative edge but no negative cycle, whereas Dijkstra’s algorithm don’t work for negative \n",
    "# edges."
   ]
  },
  {
   "cell_type": "code",
   "execution_count": 8,
   "id": "26b6c841",
   "metadata": {},
   "outputs": [
    {
     "name": "stdout",
     "output_type": "stream",
     "text": [
      "Following matrix shows the shortest distances between every pair of vertices\n",
      "      0\t       3\t     INF       5\t \n",
      "    INF       0\t     INF       4\t \n",
      "    INF       1\t       0\t       5\t \n",
      "    INF     INF     INF       0\t \n"
     ]
    }
   ],
   "source": [
    "\n",
    "V = 4\n",
    " \n",
    "\n",
    "INF = 999999\n",
    "\n",
    " \n",
    "def floydWarshall(graph):\n",
    "  \n",
    " \n",
    "    dist = list(map(lambda i: list(map(lambda j: j, i)), graph))\n",
    " \n",
    "    for k in range(V):\n",
    " \n",
    "    \n",
    "        for i in range(V):\n",
    " \n",
    "           \n",
    "            for j in range(V):\n",
    " \n",
    "                \n",
    "                dist[i][j] = min(dist[i][j],\n",
    "                                 dist[i][k] + dist[k][j]\n",
    "                                 )\n",
    "    printSolution(dist)\n",
    " \n",
    " \n",
    "\n",
    "def printSolution(dist):\n",
    "    print (\"Following matrix shows the shortest distances between every pair of vertices\")\n",
    "    for i in range(V):\n",
    "        for j in range(V):\n",
    "            if(dist[i][j] == INF):\n",
    "                print (\"%7s\" % (\"INF\"),end=\" \")\n",
    "            else:\n",
    "                print (\"%7d\\t\" % (dist[i][j]),end=' ')\n",
    "            if j == V-1:\n",
    "                print ()\n",
    " \n",
    "\n",
    "\"\"\"\n",
    "            10\n",
    "       (0)------->(3)\n",
    "        |         /|\\\n",
    "      5 |          |\n",
    "        |          | 1\n",
    "       \\|/         |\n",
    "       (1)------->(2)\n",
    "            3           \"\"\"\n",
    "G = [[0, 3, INF, 5],\n",
    "         [INF, 0, INF, 4],\n",
    "         [INF, 1, 0, INF],\n",
    "         [INF, INF, INF, 0]]\n",
    "\n",
    "floydWarshall(G)\n"
   ]
  },
  {
   "cell_type": "code",
   "execution_count": null,
   "id": "e55f9392",
   "metadata": {},
   "outputs": [],
   "source": []
  }
 ],
 "metadata": {
  "kernelspec": {
   "display_name": "Python 3",
   "language": "python",
   "name": "python3"
  },
  "language_info": {
   "codemirror_mode": {
    "name": "ipython",
    "version": 3
   },
   "file_extension": ".py",
   "mimetype": "text/x-python",
   "name": "python",
   "nbconvert_exporter": "python",
   "pygments_lexer": "ipython3",
   "version": "3.8.8"
  }
 },
 "nbformat": 4,
 "nbformat_minor": 5
}
