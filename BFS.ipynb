{
 "cells": [
  {
   "cell_type": "code",
   "execution_count": 1,
   "id": "3d49fdcd",
   "metadata": {},
   "outputs": [],
   "source": [
    "# Breadth First Search \n",
    "# Graph traversal means visiting every vertex and edge exacly once in a well-defined order.It is important that you track which \n",
    "# vertices have been visited.The purpose of the algorithm is to mark each vertex as visited while avoiding cycles.\n",
    "# The algorithm works as follows:\n",
    "# 1.Start by putting any one of the graph's vertices at the back of a queue.\n",
    "# 2.Take the front item of the queue and add it to the visited list.\n",
    "# 3.Create a list of that vertex's adjacent nodes. Add the ones which aren't in the visited list to the back of the queue.\n",
    "# 4. Keep repeating steps 2 and 3 until the queue is empty.\n",
    "\n"
   ]
  },
  {
   "cell_type": "code",
   "execution_count": 15,
   "id": "1666bac9",
   "metadata": {},
   "outputs": [
    {
     "name": "stdout",
     "output_type": "stream",
     "text": [
      "1 3 4 6 5 2 "
     ]
    }
   ],
   "source": [
    "visited = []\n",
    "queue = []\n",
    "\n",
    "def breath_first_search(graph, visited, root):\n",
    "    visited.append(root)\n",
    "    queue.append(root)\n",
    "    \n",
    "    while queue:\n",
    "        s = queue.pop(0)\n",
    "        print(s, end = \" \")\n",
    "        \n",
    "        for neighbour in graph[s]:\n",
    "            if neighbour not in visited:\n",
    "                visited.append(neighbour)\n",
    "                queue.append(neighbour)\n",
    "\n",
    "\n",
    "\n",
    "graph = {\n",
    "   \n",
    "    1 : [3,4],\n",
    "    2 : [5],\n",
    "    3 : [],\n",
    "    4 : [6],\n",
    "    5 : [2],\n",
    "    6 : [5]\n",
    " }\n",
    "\n",
    "breath_first_search(graph,visited,1)\n",
    "\n",
    "\n"
   ]
  },
  {
   "cell_type": "code",
   "execution_count": 21,
   "id": "51b44966",
   "metadata": {},
   "outputs": [
    {
     "name": "stdout",
     "output_type": "stream",
     "text": [
      "1 3 4 6 5 2 "
     ]
    }
   ],
   "source": [
    "import collections\n",
    "\n",
    "def breath_fs(graph,root):\n",
    "    visited = set()\n",
    "    queue = collections.deque([root])\n",
    "    visited.add(root)\n",
    "    \n",
    "    while queue:\n",
    "        node = queue.popleft()\n",
    "        print(str(node) + \" \", end = \"\")\n",
    "        \n",
    "        for neighbour in graph[node]:\n",
    "            if neighbour not in visited:\n",
    "                visited.add(neighbour)\n",
    "                queue.append(neighbour)\n",
    "\n",
    "\n",
    "graph = {\n",
    "   \n",
    "    1 : [3,4],\n",
    "    2 : [5],\n",
    "    3 : [],\n",
    "    4 : [6],\n",
    "    5 : [2],\n",
    "    6 : [5]\n",
    " } \n",
    "\n",
    "breath_fs(graph,1)"
   ]
  },
  {
   "cell_type": "code",
   "execution_count": 29,
   "id": "01f3ff85",
   "metadata": {},
   "outputs": [
    {
     "name": "stdout",
     "output_type": "stream",
     "text": [
      "2 0 3 1 "
     ]
    }
   ],
   "source": [
    "from collections import defaultdict\n",
    "\n",
    "class Graph:\n",
    "    def __init__(self):\n",
    "        self.graph = defaultdict(list)\n",
    "    def add_edge(self,u,v):\n",
    "        self.graph[u].append(v)\n",
    "    def breath_first_search(self,root):\n",
    "        visited = [False] * (max(self.graph) + 1)        \n",
    "        queue = []\n",
    "        queue.append(root)\n",
    "        visited[root] = True\n",
    "        \n",
    "        while queue:\n",
    "            node = queue.pop(0)\n",
    "            print(node, end = \" \")\n",
    "            \n",
    "            for neighbour in self.graph[node]:\n",
    "                if visited[neighbour] == False:\n",
    "                    queue.append(neighbour)\n",
    "                    visited[neighbour] = True\n",
    "                    \n",
    "bfs = Graph()\n",
    "bfs.add_edge(0,1)\n",
    "bfs.add_edge(0,3)\n",
    "bfs.add_edge(1,2)\n",
    "bfs.add_edge(2,0)\n",
    "bfs.add_edge(2,3)\n",
    "bfs.add_edge(3,3)\n",
    "bfs.breath_first_search(2)"
   ]
  },
  {
   "cell_type": "code",
   "execution_count": null,
   "id": "11d8717e",
   "metadata": {},
   "outputs": [],
   "source": []
  }
 ],
 "metadata": {
  "kernelspec": {
   "display_name": "Python 3",
   "language": "python",
   "name": "python3"
  },
  "language_info": {
   "codemirror_mode": {
    "name": "ipython",
    "version": 3
   },
   "file_extension": ".py",
   "mimetype": "text/x-python",
   "name": "python",
   "nbconvert_exporter": "python",
   "pygments_lexer": "ipython3",
   "version": "3.8.8"
  }
 },
 "nbformat": 4,
 "nbformat_minor": 5
}
