{
 "cells": [
  {
   "cell_type": "code",
   "execution_count": 2,
   "id": "1170cff5",
   "metadata": {},
   "outputs": [
    {
     "name": "stdout",
     "output_type": "stream",
     "text": [
      "41\n"
     ]
    }
   ],
   "source": [
    "def max_num(list1):\n",
    "    maximum =list1[0]\n",
    "    for i in range(1,len(list1)):\n",
    "        if list1[i]>maximum:\n",
    "            maximum = list1[i]\n",
    "    return maximum\n",
    "list1=[11,21,22,17,28,41]\n",
    "print(max_num(list1))\n",
    "    "
   ]
  },
  {
   "cell_type": "code",
   "execution_count": 4,
   "id": "f388ad51",
   "metadata": {},
   "outputs": [
    {
     "name": "stdout",
     "output_type": "stream",
     "text": [
      "3\n"
     ]
    }
   ],
   "source": [
    "def min_num(list1):\n",
    "    minimum = list1[0]\n",
    "    for i in list1:\n",
    "        if i<minimum:\n",
    "            minimum =i\n",
    "    return minimum\n",
    "list1 = [17,7,11,21,5,3]\n",
    "print(min_num(list1))\n",
    "    "
   ]
  },
  {
   "cell_type": "code",
   "execution_count": 6,
   "id": "0ec4dc14",
   "metadata": {},
   "outputs": [
    {
     "name": "stdout",
     "output_type": "stream",
     "text": [
      "Please enter first number: 48\n",
      "Please enter second number: 72\n",
      "The Lowest Common Multiple ( LCM ) 48 and 72 is 144\n"
     ]
    }
   ],
   "source": [
    "def calculate_lcm(x,y):\n",
    "    if x>y:\n",
    "        greater =x\n",
    "    else:\n",
    "        greater =y\n",
    "    while(True):\n",
    "        if((greater%x==0)and (greater%y==0)):\n",
    "            lcm =greater\n",
    "            break\n",
    "        greater +=1\n",
    "    return lcm\n",
    "num1=int(input(\"Please enter first number: \"))\n",
    "num2=int(input(\"Please enter second number: \"))\n",
    "print(\"The Lowest Common Multiple ( LCM )\", num1,\"and\",num2,\"is\", calculate_lcm(num1,num2))"
   ]
  },
  {
   "cell_type": "code",
   "execution_count": 8,
   "id": "c4f64e4d",
   "metadata": {},
   "outputs": [
    {
     "name": "stdout",
     "output_type": "stream",
     "text": [
      "The highest Common Factor of  72 and 45 is 9\n"
     ]
    }
   ],
   "source": [
    "def calculate_hcf(x,y):\n",
    "    if x>y:\n",
    "        smaller = y\n",
    "    else:\n",
    "        smaller =x\n",
    "    for i in range(1,smaller+1):\n",
    "        if((x%i==0) and (y%i==0)):\n",
    "            hcf =i\n",
    "    return hcf\n",
    "num1=72\n",
    "num2=45\n",
    "print(\"The highest Common Factor of \",num1, \"and\", num2,\"is\", calculate_hcf(num1,num2))"
   ]
  },
  {
   "cell_type": "code",
   "execution_count": 9,
   "id": "dfa8f290",
   "metadata": {},
   "outputs": [
    {
     "name": "stdout",
     "output_type": "stream",
     "text": [
      "280\n"
     ]
    }
   ],
   "source": [
    "def multiply_list(list1):\n",
    "    result=1\n",
    "    for i in list1:\n",
    "        result *=i\n",
    "    return result\n",
    "\n",
    "print(multiply_list([2,4,5,7]))\n",
    "    \n",
    "    "
   ]
  },
  {
   "cell_type": "code",
   "execution_count": 10,
   "id": "3f5b1deb",
   "metadata": {},
   "outputs": [
    {
     "name": "stdout",
     "output_type": "stream",
     "text": [
      "{32, 5, 8, 11, 14, 21, 23}\n",
      "[11, 21, 23, 14, 5, 32, 8]\n"
     ]
    }
   ],
   "source": [
    "def remove_duplicate(list1):\n",
    "    dup_items=set()\n",
    "    unique_items=[]\n",
    "    for i in list1:\n",
    "        if i not in dup_items:\n",
    "            unique_items.append(i)\n",
    "            dup_items.add(i)\n",
    "    print(dup_items)\n",
    "    print(unique_items)\n",
    "list1 =[11,21,11,23,14,5,5,32,23,8]\n",
    "remove_duplicate(list1)"
   ]
  },
  {
   "cell_type": "code",
   "execution_count": 14,
   "id": "c5dc9823",
   "metadata": {},
   "outputs": [
    {
     "name": "stdout",
     "output_type": "stream",
     "text": [
      "{'x': 12, 'y': 16, 'z': 56, 'k': 17}\n",
      "{'x': 12, 'z': 56, 'k': 17}\n"
     ]
    }
   ],
   "source": [
    "def remove_key(myDict=None):\n",
    "    \n",
    "    print(myDict)\n",
    "    if 'y' in myDict:\n",
    "        del myDict['y']\n",
    "    print(myDict)\n",
    "mydict={'x':12,'y':16,'z':56,'k':17}\n",
    "remove_key(mydict)"
   ]
  },
  {
   "cell_type": "code",
   "execution_count": 16,
   "id": "8b4357f0",
   "metadata": {},
   "outputs": [
    {
     "name": "stdout",
     "output_type": "stream",
     "text": [
      "-56\n"
     ]
    }
   ],
   "source": [
    "def multiply_value(myDict=None):\n",
    "    result =1\n",
    "    for key in myDict:\n",
    "        result *=myDict[key]\n",
    "    return result\n",
    "mydict={\"x\":2,\"y\":4,\"z\":7,\"k\":-1}\n",
    "print(multiply_value(mydict))"
   ]
  },
  {
   "cell_type": "code",
   "execution_count": 17,
   "id": "7176711e",
   "metadata": {},
   "outputs": [
    {
     "name": "stdout",
     "output_type": "stream",
     "text": [
      "14\n"
     ]
    }
   ],
   "source": [
    "def sum_value(mydict=None):\n",
    "    total =0\n",
    "    for key in mydict:\n",
    "        total +=mydict[key]\n",
    "    return total\n",
    "mydict={\"x\":2,\"y\":4,\"z\":7,\"k\":1}\n",
    "print(sum_value(mydict))"
   ]
  },
  {
   "cell_type": "code",
   "execution_count": 18,
   "id": "9e736d13",
   "metadata": {},
   "outputs": [
    {
     "name": "stdout",
     "output_type": "stream",
     "text": [
      "orange corresponds to 1\n",
      "purple corresponds to 2\n",
      "blue corresponds to 3\n",
      "green corresponds to 4\n"
     ]
    }
   ],
   "source": [
    "def show_dict(mydict=None):\n",
    "    for key, value in mydict.items():\n",
    "        print(key,'corresponds to',mydict[key])\n",
    "mydict={\"orange\":1,\"purple\":2,\"blue\":3,\"green\":4}\n",
    "show_dict(mydict)"
   ]
  },
  {
   "cell_type": "code",
   "execution_count": 19,
   "id": "1339f6be",
   "metadata": {},
   "outputs": [
    {
     "name": "stdout",
     "output_type": "stream",
     "text": [
      "{'x': 11, 'y': 3, 'z': 17, 'k': 11}\n"
     ]
    }
   ],
   "source": [
    "def merge_dicts(dict1,dict2):\n",
    "    new_dict=dict1.copy()\n",
    "    new_dict.update(dict2)\n",
    "    print(new_dict)\n",
    "dict1={'x':11,'y':3}\n",
    "dict2={'z':17,'k':11}\n",
    "merge_dicts(dict1,dict2)"
   ]
  },
  {
   "cell_type": "code",
   "execution_count": 21,
   "id": "c5f6be39",
   "metadata": {},
   "outputs": [
    {
     "name": "stdout",
     "output_type": "stream",
     "text": [
      "Current date and time: 2022-04-29 21:05:02\n"
     ]
    }
   ],
   "source": [
    "import datetime\n",
    "now = datetime.datetime.now()\n",
    "print(\"Current date and time:\", now.strftime(\"%Y-%m-%d %H:%M:%S\"))"
   ]
  },
  {
   "cell_type": "code",
   "execution_count": 22,
   "id": "7a4d5ba0",
   "metadata": {},
   "outputs": [
    {
     "name": "stdout",
     "output_type": "stream",
     "text": [
      "Absolute file path: C:\\Users\\Derya\\path_fname\n"
     ]
    }
   ],
   "source": [
    "def absolute_file_path(path_fname):\n",
    "    import os\n",
    "    return os.path.abspath('path_fname')\n",
    "print(\"Absolute file path:\", absolute_file_path(\"python.txt\"))"
   ]
  },
  {
   "cell_type": "code",
   "execution_count": 23,
   "id": "0d167afd",
   "metadata": {},
   "outputs": [
    {
     "name": "stdout",
     "output_type": "stream",
     "text": [
      "True\n"
     ]
    }
   ],
   "source": [
    "import os.path\n",
    "open('test.txt','w')\n",
    "print(os.path.isfile(\"test.txt\"))"
   ]
  },
  {
   "cell_type": "code",
   "execution_count": 25,
   "id": "a6cb9900",
   "metadata": {},
   "outputs": [
    {
     "name": "stdout",
     "output_type": "stream",
     "text": [
      "List1-List2: ['yellow', 'white']\n",
      "List2-List2: ['black', 'red', 'orange']\n"
     ]
    }
   ],
   "source": [
    "from collections import Counter\n",
    "\n",
    "list1=[\"green\",\"blue\",\"yellow\",\"white\"]\n",
    "list2 =[\"black\",\"red\",\"blue\",\"green\",\"orange\"]\n",
    "counter1=Counter(list1)\n",
    "counter2=Counter(list2)\n",
    "print(\"List1-List2:\",list(counter1-counter2))\n",
    "print(\"List2-List2:\",list(counter2-counter1))"
   ]
  },
  {
   "cell_type": "code",
   "execution_count": 26,
   "id": "45bba92e",
   "metadata": {},
   "outputs": [
    {
     "name": "stdout",
     "output_type": "stream",
     "text": [
      "[(2, 3, 5, 6), (2, 3, 6, 5), (2, 5, 3, 6), (2, 5, 6, 3), (2, 6, 3, 5), (2, 6, 5, 3), (3, 2, 5, 6), (3, 2, 6, 5), (3, 5, 2, 6), (3, 5, 6, 2), (3, 6, 2, 5), (3, 6, 5, 2), (5, 2, 3, 6), (5, 2, 6, 3), (5, 3, 2, 6), (5, 3, 6, 2), (5, 6, 2, 3), (5, 6, 3, 2), (6, 2, 3, 5), (6, 2, 5, 3), (6, 3, 2, 5), (6, 3, 5, 2), (6, 5, 2, 3), (6, 5, 3, 2)]\n"
     ]
    }
   ],
   "source": [
    "import itertools\n",
    "print(list(itertools.permutations([2,3,5,6])))"
   ]
  },
  {
   "cell_type": "code",
   "execution_count": 29,
   "id": "12c36e0d",
   "metadata": {},
   "outputs": [
    {
     "name": "stdout",
     "output_type": "stream",
     "text": [
      "index 0 value 11\n",
      "index 1 value 12\n",
      "index 2 value 32\n",
      "index 3 value 13\n",
      "index 4 value 43\n",
      "index 5 value 45\n"
     ]
    }
   ],
   "source": [
    "numbers=[11,12,32,13,43,45]\n",
    "for index,value in enumerate(numbers):\n",
    "    print('index',index,'value',value)"
   ]
  },
  {
   "cell_type": "code",
   "execution_count": 30,
   "id": "67197029",
   "metadata": {},
   "outputs": [
    {
     "name": "stdout",
     "output_type": "stream",
     "text": [
      "abcd\n"
     ]
    }
   ],
   "source": [
    "list1=[\"a\",\"b\",\"c\",\"d\"]\n",
    "str1=''.join(list1)\n",
    "print(str1)"
   ]
  },
  {
   "cell_type": "code",
   "execution_count": 31,
   "id": "94ff9617",
   "metadata": {},
   "outputs": [
    {
     "name": "stdout",
     "output_type": "stream",
     "text": [
      "2\n"
     ]
    }
   ],
   "source": [
    "number =[11,21,23,4,8]\n",
    "print(number.index(23))"
   ]
  },
  {
   "cell_type": "code",
   "execution_count": 32,
   "id": "a944f037",
   "metadata": {},
   "outputs": [
    {
     "name": "stdout",
     "output_type": "stream",
     "text": [
      "Frequency of the elements in the List:  Counter({2: 4, 1: 3, 4: 3, 5: 3, 6: 3, 3: 2, 7: 1})\n"
     ]
    }
   ],
   "source": [
    "import collections\n",
    "list1=[1,2,1,1,2,2,2,3,4,5,3,4,5,4,5,7,6,6,6]\n",
    "counter = collections.Counter(list1)\n",
    "print(\"Frequency of the elements in the List: \", counter)"
   ]
  },
  {
   "cell_type": "code",
   "execution_count": 35,
   "id": "5ac938d9",
   "metadata": {},
   "outputs": [
    {
     "name": "stdout",
     "output_type": "stream",
     "text": [
      "18\n"
     ]
    }
   ],
   "source": [
    "def recursive_sum(data):\n",
    "    total = 0\n",
    "    for i in data:\n",
    "        if type(i)==type([]):\n",
    "            total +=recursive_sum(i)\n",
    "        else:\n",
    "            total +=i\n",
    "    return total\n",
    "print(recursive_sum([1,3,5,[2,1],[2,4]]))\n",
    "       "
   ]
  },
  {
   "cell_type": "code",
   "execution_count": 37,
   "id": "329c6274",
   "metadata": {},
   "outputs": [
    {
     "name": "stdout",
     "output_type": "stream",
     "text": [
      "120\n",
      "1\n",
      "1\n",
      "Factorial must be integer.\n"
     ]
    }
   ],
   "source": [
    "def factorial(number):\n",
    "    result =1\n",
    "    if number ==1 or number ==0:\n",
    "        return result\n",
    "    elif(number<0):\n",
    "        return \"Factorial must be integer.\"\n",
    "    else:       \n",
    "        return  number*factorial(number-1)\n",
    "print(factorial(5))\n",
    "print(factorial(1))\n",
    "print(factorial(0))\n",
    "print(factorial(-4))\n",
    "                            "
   ]
  },
  {
   "cell_type": "code",
   "execution_count": null,
   "id": "dd3b9b0f",
   "metadata": {},
   "outputs": [],
   "source": [
    "import random\n",
    "list1 = [\"orange\",\"blue\",\"green\",\"white\",\"yellow\"]\n",
    "print(random.coi)"
   ]
  }
 ],
 "metadata": {
  "kernelspec": {
   "display_name": "Python 3",
   "language": "python",
   "name": "python3"
  },
  "language_info": {
   "codemirror_mode": {
    "name": "ipython",
    "version": 3
   },
   "file_extension": ".py",
   "mimetype": "text/x-python",
   "name": "python",
   "nbconvert_exporter": "python",
   "pygments_lexer": "ipython3",
   "version": "3.8.8"
  }
 },
 "nbformat": 4,
 "nbformat_minor": 5
}
