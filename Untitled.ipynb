{
 "cells": [
  {
   "cell_type": "code",
   "execution_count": 40,
   "id": "47c20199",
   "metadata": {},
   "outputs": [
    {
     "name": "stdout",
     "output_type": "stream",
     "text": [
      "7\n"
     ]
    }
   ],
   "source": [
    "x=6\n",
    "if False or [False] or (False):\n",
    "    x+=1\n",
    "print(x)"
   ]
  },
  {
   "cell_type": "code",
   "execution_count": 42,
   "id": "fd086df8",
   "metadata": {},
   "outputs": [
    {
     "name": "stdout",
     "output_type": "stream",
     "text": [
      "('x', 'y', 'z')\n",
      "3\n"
     ]
    }
   ],
   "source": [
    "s='xyz'\n",
    "for _ in range(10):\n",
    "    s=tuple(s)\n",
    "print(s)\n",
    "print(len(s))"
   ]
  },
  {
   "cell_type": "code",
   "execution_count": 44,
   "id": "a69bf3d3",
   "metadata": {},
   "outputs": [
    {
     "name": "stdout",
     "output_type": "stream",
     "text": [
      "[1, 2, True]\n",
      "3\n"
     ]
    }
   ],
   "source": [
    "x =[1,2,3,4,5]  \n",
    "y=x.pop() > x.pop() >x.pop()               #Each call of the function pop() on a list returns and removes its last element.\n",
    "x.append(y)\n",
    "print(x)\n",
    "print(len(x))"
   ]
  },
  {
   "cell_type": "code",
   "execution_count": 46,
   "id": "28682ead",
   "metadata": {},
   "outputs": [
    {
     "name": "stdout",
     "output_type": "stream",
     "text": [
      "4\n",
      "[1, 2, False, 3]\n"
     ]
    }
   ],
   "source": [
    "x =[1,2,3,4,5]\n",
    "y = (x.pop() < x.pop()), x.pop()    \n",
    "x.extend(y)                          # The method extend() adds both tuple elements to list x. \n",
    "print(len(x))\n",
    "print(x)"
   ]
  },
  {
   "cell_type": "code",
   "execution_count": 48,
   "id": "3334a79c",
   "metadata": {},
   "outputs": [
    {
     "name": "stdout",
     "output_type": "stream",
     "text": [
      "[1, 2, 3]\n",
      "4\n",
      "[1, 2, 3, []]\n"
     ]
    }
   ],
   "source": [
    "x =[1,2,3]\n",
    "x.extend([])       # The extend() method doesn't change the list x.The method extend(iter) takes an iterable iter \n",
    "                   # and adds its items to the end of the list.\n",
    "x.append([])       #The method append(element)adds the argument element to the end of the list.\n",
    "print(len(x))\n",
    "print(x)"
   ]
  },
  {
   "cell_type": "code",
   "execution_count": 49,
   "id": "3a6efe2c",
   "metadata": {},
   "outputs": [
    {
     "name": "stdout",
     "output_type": "stream",
     "text": [
      "[7, 17]\n"
     ]
    }
   ],
   "source": [
    "x = [1,2,3,[7],6,4]\n",
    "y=x[3]\n",
    "y.append(17)\n",
    "print(x[3])"
   ]
  },
  {
   "cell_type": "code",
   "execution_count": 50,
   "id": "4f1d02fd",
   "metadata": {},
   "outputs": [
    {
     "name": "stdout",
     "output_type": "stream",
     "text": [
      "5\n"
     ]
    }
   ],
   "source": [
    "x =\"-2\\\\62\"\n",
    "print(len(x))    #Because of the special character, also called the \"escape\" character.( backslash \"\\\")"
   ]
  },
  {
   "cell_type": "code",
   "execution_count": 55,
   "id": "3c290378",
   "metadata": {},
   "outputs": [
    {
     "name": "stdout",
     "output_type": "stream",
     "text": [
      "x-y-z-i-j?"
     ]
    }
   ],
   "source": [
    "t ='xyzij'\n",
    "d ={'sep':'-','end':'?'}\n",
    "\n",
    "print(*t,**d)"
   ]
  },
  {
   "cell_type": "code",
   "execution_count": 58,
   "id": "5f566e7b",
   "metadata": {},
   "outputs": [
    {
     "name": "stdout",
     "output_type": "stream",
     "text": [
      "4\n"
     ]
    }
   ],
   "source": [
    "x=9\n",
    "y={x:1, 15:4}\n",
    "x=15\n",
    "print(y[x])"
   ]
  },
  {
   "cell_type": "code",
   "execution_count": 59,
   "id": "d4123911",
   "metadata": {},
   "outputs": [
    {
     "name": "stdout",
     "output_type": "stream",
     "text": [
      "True\n",
      "False\n"
     ]
    }
   ],
   "source": [
    "s='Python Programming Language'\n",
    "x = s.find('Python') == False      #The string find() method returns  the start index of the searched substring, \n",
    "print(x)                             #  or -1 if it doesn't exist.\n",
    "y = s.find('Language')==False\n",
    "print(y)"
   ]
  },
  {
   "cell_type": "code",
   "execution_count": 63,
   "id": "bd339075",
   "metadata": {},
   "outputs": [
    {
     "name": "stdout",
     "output_type": "stream",
     "text": [
      "englen\n"
     ]
    }
   ],
   "source": [
    "s ='intelligence'\n",
    "print(s[:-50:-2])"
   ]
  },
  {
   "cell_type": "code",
   "execution_count": 65,
   "id": "b9046e74",
   "metadata": {},
   "outputs": [
    {
     "name": "stdout",
     "output_type": "stream",
     "text": [
      "[(2, 3, 4, 5)]\n",
      "[(2, 3, 4, 5), 3]\n",
      "[(2, 3, 4, 5)]\n",
      "1\n"
     ]
    }
   ],
   "source": [
    "tup=2,3,4,5\n",
    "list1 = [tup]\n",
    "print(list1)\n",
    "list1.append(3)\n",
    "print(list1)\n",
    "list1.pop(1)\n",
    "print(list1)\n",
    "print(len(list1))"
   ]
  },
  {
   "cell_type": "code",
   "execution_count": 69,
   "id": "50ba4493",
   "metadata": {},
   "outputs": [
    {
     "name": "stdout",
     "output_type": "stream",
     "text": [
      "[2, 3, 4, 5]\n",
      "[2, 3, 4, 5, 7]\n",
      "4\n",
      "[2, 4, 5, 7]\n"
     ]
    }
   ],
   "source": [
    "tup = 2,3,4,5\n",
    "list1=list(tup)\n",
    "print(list1)\n",
    "list1.append(7)\n",
    "print(list1)\n",
    "list1.pop(1)\n",
    "print(len(list1))\n",
    "print(list1)"
   ]
  },
  {
   "cell_type": "code",
   "execution_count": 71,
   "id": "1fc177bc",
   "metadata": {},
   "outputs": [
    {
     "name": "stdout",
     "output_type": "stream",
     "text": [
      "[('ijk', 'i'), ('qw', 'j')]\n",
      "2\n"
     ]
    }
   ],
   "source": [
    "x =['ijk','qw']\n",
    "y=['i','j','k']\n",
    "zipped = list(zip(x,y))\n",
    "print(zipped)\n",
    "print(len(zipped))"
   ]
  },
  {
   "cell_type": "code",
   "execution_count": 74,
   "id": "d624a3c1",
   "metadata": {},
   "outputs": [
    {
     "name": "stdout",
     "output_type": "stream",
     "text": [
      "4\n"
     ]
    }
   ],
   "source": [
    "x = 0\n",
    "for i in range(7,0,-1):\n",
    "    x += i>x            #The result of the comparison can be True or False.\n",
    "                        #Python converts these values implicitly to 0(False) and 1(True).\n",
    "print(x)"
   ]
  },
  {
   "cell_type": "code",
   "execution_count": 75,
   "id": "4c461560",
   "metadata": {},
   "outputs": [
    {
     "name": "stdout",
     "output_type": "stream",
     "text": [
      "[1, 2, 3, 4, 6]\n",
      "[1, 2, 3, 4, [7]]\n",
      "5\n"
     ]
    }
   ],
   "source": [
    "x = [1,2,3,4,5]\n",
    "x[-1:]=[6]\n",
    "print(x)\n",
    "x[-1]=[7]\n",
    "print(x)\n",
    "print(len(x))"
   ]
  },
  {
   "cell_type": "code",
   "execution_count": 79,
   "id": "7974062a",
   "metadata": {},
   "outputs": [
    {
     "name": "stdout",
     "output_type": "stream",
     "text": [
      "[100, 1, 2]\n",
      "[0, 1, 2]\n"
     ]
    }
   ],
   "source": [
    "x = [1,2,3]\n",
    "y = x*2   # By multiplying by 2 we create a new list, thus variable y points to another address in memory.\n",
    "x[0]=100\n",
    "print(x)\n",
    "print(y)"
   ]
  },
  {
   "cell_type": "code",
   "execution_count": 82,
   "id": "d6cccb70",
   "metadata": {},
   "outputs": [
    {
     "name": "stdout",
     "output_type": "stream",
     "text": [
      "[50, 2, 10, 4, 5]\n"
     ]
    }
   ],
   "source": [
    "x = [1,2,3,4,5]\n",
    "x[2::-2]=[10,50]\n",
    "print(x)"
   ]
  },
  {
   "cell_type": "code",
   "execution_count": 84,
   "id": "279de670",
   "metadata": {},
   "outputs": [
    {
     "name": "stdout",
     "output_type": "stream",
     "text": [
      "1\n"
     ]
    }
   ],
   "source": [
    "x = [1,3,-2,5,-9]\n",
    "key = lambda i: -abs(i)\n",
    "print(max(x,key=key))"
   ]
  },
  {
   "cell_type": "code",
   "execution_count": 89,
   "id": "bd836a2c",
   "metadata": {},
   "outputs": [
    {
     "name": "stdout",
     "output_type": "stream",
     "text": [
      "1\n"
     ]
    }
   ],
   "source": [
    "x =[8,2,1,3,4,5,6]\n",
    "print(max(x,key=lambda i: i%2))  #Since 1 is the first odd element in the list x with max key value."
   ]
  },
  {
   "cell_type": "code",
   "execution_count": 90,
   "id": "bf07f91c",
   "metadata": {},
   "outputs": [
    {
     "name": "stdout",
     "output_type": "stream",
     "text": [
      "[5, 15]\n"
     ]
    }
   ],
   "source": [
    "x = [3]\n",
    "def fnc():\n",
    "    x.append(15)\n",
    "x=[5]\n",
    "fnc()\n",
    "print(x)"
   ]
  },
  {
   "cell_type": "code",
   "execution_count": 93,
   "id": "1d7e71dd",
   "metadata": {},
   "outputs": [
    {
     "name": "stdout",
     "output_type": "stream",
     "text": [
      "0 1 2\n"
     ]
    }
   ],
   "source": [
    "x,y,z=dict((i,i*i) for i in range(3))\n",
    "print(x,y,z)\n"
   ]
  },
  {
   "cell_type": "code",
   "execution_count": 101,
   "id": "9412cdf6",
   "metadata": {},
   "outputs": [
    {
     "name": "stdout",
     "output_type": "stream",
     "text": [
      "sssss\n"
     ]
    }
   ],
   "source": [
    "list1=[\"qs\",\"nnmmm\",\"sssss\"]\n",
    "test=min(list1,key=lambda x:len(set(x)))\n",
    "print(test)"
   ]
  },
  {
   "cell_type": "code",
   "execution_count": 102,
   "id": "e0a33324",
   "metadata": {},
   "outputs": [
    {
     "name": "stdout",
     "output_type": "stream",
     "text": [
      "-4\n"
     ]
    }
   ],
   "source": [
    "x =[-1,-2,-3,-4]\n",
    "x[x[-1]:x[-4]] = x[-1],x[-4]\n",
    "print(x[0])"
   ]
  },
  {
   "cell_type": "code",
   "execution_count": 103,
   "id": "7b406559",
   "metadata": {},
   "outputs": [
    {
     "name": "stdout",
     "output_type": "stream",
     "text": [
      "2\n"
     ]
    }
   ],
   "source": [
    "def fnc(x,y,z=0):\n",
    "    if z:\n",
    "        return min(y)\n",
    "    else:\n",
    "        return max(y)\n",
    "args = {'y':(2,3,4),'z':5}\n",
    "print(fnc(x=1,**args))"
   ]
  },
  {
   "cell_type": "code",
   "execution_count": 104,
   "id": "cf164e70",
   "metadata": {},
   "outputs": [
    {
     "name": "stdout",
     "output_type": "stream",
     "text": [
      "15\n"
     ]
    }
   ],
   "source": [
    "class A:\n",
    "    z =15\n",
    "    def __init__(self,x,y=1):\n",
    "        self.x =x\n",
    "        self.y = y\n",
    "a =A(7)\n",
    "z=a.z \n",
    "A.z=11    # A.z doesn't change the variable z in the outer scope.\n",
    "print(z)"
   ]
  },
  {
   "cell_type": "code",
   "execution_count": 106,
   "id": "bb794495",
   "metadata": {},
   "outputs": [
    {
     "name": "stdout",
     "output_type": "stream",
     "text": [
      "[0, 1, 2, 0]\n"
     ]
    }
   ],
   "source": [
    "x = [0,1,2]\n",
    "x[2:] +=[x[0]]\n",
    "print(x)"
   ]
  },
  {
   "cell_type": "code",
   "execution_count": 108,
   "id": "bda2f270",
   "metadata": {},
   "outputs": [
    {
     "name": "stdout",
     "output_type": "stream",
     "text": [
      "32\n"
     ]
    }
   ],
   "source": [
    "x,*y='3426'\n",
    "print(x+min(y))"
   ]
  },
  {
   "cell_type": "code",
   "execution_count": 116,
   "id": "2b49b9de",
   "metadata": {},
   "outputs": [
    {
     "name": "stdout",
     "output_type": "stream",
     "text": [
      "[1, 0]\n"
     ]
    }
   ],
   "source": [
    "x = [1,0,3,9]\n",
    "while x.pop():\n",
    "    if x.pop():\n",
    "        break\n",
    "else:\n",
    "    x.pop()\n",
    "print(x)"
   ]
  },
  {
   "cell_type": "code",
   "execution_count": 120,
   "id": "0818df52",
   "metadata": {},
   "outputs": [
    {
     "name": "stdout",
     "output_type": "stream",
     "text": [
      "1\n"
     ]
    }
   ],
   "source": [
    "x ={0:'Tom',1:'Jenny',2:'Bill'}\n",
    "for i,j in enumerate(x):\n",
    "    if i%2:\n",
    "        print(j)        \n",
    "        break"
   ]
  },
  {
   "cell_type": "code",
   "execution_count": 123,
   "id": "7c5c4e74",
   "metadata": {},
   "outputs": [
    {
     "name": "stdout",
     "output_type": "stream",
     "text": [
      "[]\n"
     ]
    }
   ],
   "source": [
    "x = [2,3,4,5]\n",
    "print(x[-1:-2])"
   ]
  },
  {
   "cell_type": "code",
   "execution_count": 125,
   "id": "dcdde02b",
   "metadata": {},
   "outputs": [
    {
     "name": "stdout",
     "output_type": "stream",
     "text": [
      "478\n"
     ]
    }
   ],
   "source": [
    "x,y = \"45\"\n",
    "y,z=\"78\"\n",
    "\n",
    "print(x+y+z)"
   ]
  },
  {
   "cell_type": "code",
   "execution_count": null,
   "id": "6d1dc7cc",
   "metadata": {},
   "outputs": [],
   "source": []
  }
 ],
 "metadata": {
  "kernelspec": {
   "display_name": "Python 3",
   "language": "python",
   "name": "python3"
  },
  "language_info": {
   "codemirror_mode": {
    "name": "ipython",
    "version": 3
   },
   "file_extension": ".py",
   "mimetype": "text/x-python",
   "name": "python",
   "nbconvert_exporter": "python",
   "pygments_lexer": "ipython3",
   "version": "3.8.8"
  }
 },
 "nbformat": 4,
 "nbformat_minor": 5
}
