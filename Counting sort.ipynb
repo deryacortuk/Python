{
 "cells": [
  {
   "cell_type": "code",
   "execution_count": 1,
   "id": "2eaefc3c",
   "metadata": {},
   "outputs": [],
   "source": [
    "# Counting sort is a sorting algorithm that sorts the elements of an array in linear time by counting the number of occurrences \n",
    "# of each unique element in the array. The count is stored in an auxiliary array and the sorting is done by mapping\n",
    "# the count as an index of the auxiliary array.\n",
    "\n",
    "# Counting sort uses the partial hashing technique to count the occurrence of the element in O(1).\n",
    "# The most important feature of working with counting sort is that it works with negative elements also. \n",
    "# It uses the subroutine to another sorting algorithm. The counting sort is not a comparison-based sorting algorithm and\n",
    "# its time complexity is O(n) with space proportional to the range of elements. \n",
    "# Therefore, the efficiency of counting sort is maximum if the range of elements is not greater than the number of\n",
    "# elements to be sorted. \n",
    "\n",
    "# Counting sort is not a stable algorithm. But it can be made stable with some code changes.\n",
    "\n",
    "# Counting Sort works by counting the number of elements, that fit a distinct key value, \n",
    "# and then calculates the positions of each key.\n",
    "\n",
    "# Working of Counting Sort\n",
    "# Find out the maximum element (let it be max) from the given array.\n",
    "# Initialize an array of length max+1 with all elements 0. This array is used\n",
    "# for storing the count of the elements in the array.\n",
    "# Store the count of each element at their respective index in count array.\n",
    "# Store cumulative sum of the elements of the count array.  It helps in placing the elements into \n",
    "# the correct index of the sorted array.\n",
    "# Find the index of each element of the original array in the count array. This gives the cumulative count.\n",
    "# After placing each element at its correct position, decrease its count by one.\n",
    "\n",
    "# Overall complexity = O(max)+O(size)+O(max)+O(size) = O(max+size)\n",
    "\n",
    "# Worst Case Complexity: O(n+k)\n",
    "# Best Case Complexity: O(n+k)\n",
    "# Average Case Complexity: O(n+k)\n",
    "\n",
    "# Counting sort is used when:\n",
    "# there are smaller integers with multiple counts.\n",
    "# linear complexity is the need."
   ]
  },
  {
   "cell_type": "code",
   "execution_count": 2,
   "id": "fecef40f",
   "metadata": {},
   "outputs": [
    {
     "name": "stdout",
     "output_type": "stream",
     "text": [
      "Sorted Array in Ascending Order: \n",
      "[1, 2, 2, 3, 3, 4, 8]\n"
     ]
    }
   ],
   "source": [
    "def countingSort(array):\n",
    "    size = len(array)\n",
    "    output = [0] * size\n",
    "\n",
    "    # Initialize count array\n",
    "    count = [0] * 10\n",
    "\n",
    "    # Store the count of each elements in count array\n",
    "    for i in range(0, size):\n",
    "        count[array[i]] += 1\n",
    "\n",
    "    # Store the cummulative count\n",
    "    for i in range(1, 10):\n",
    "        count[i] += count[i - 1]\n",
    "\n",
    "    # Find the index of each element of the original array in count array\n",
    "    # place the elements in output array\n",
    "    i = size - 1\n",
    "    while i >= 0:\n",
    "        output[count[array[i]] - 1] = array[i]\n",
    "        count[array[i]] -= 1\n",
    "        i -= 1\n",
    "\n",
    "    # Copy the sorted elements into original array\n",
    "    for i in range(0, size):\n",
    "        array[i] = output[i]\n",
    "\n",
    "\n",
    "data = [4, 2, 2, 8, 3, 3, 1]\n",
    "countingSort(data)\n",
    "print(\"Sorted Array in Ascending Order: \")\n",
    "print(data)"
   ]
  },
  {
   "cell_type": "code",
   "execution_count": 3,
   "id": "a8afaea7",
   "metadata": {},
   "outputs": [
    {
     "name": "stdout",
     "output_type": "stream",
     "text": [
      "Sorted character array is [-10, -5, -3, -1, 0, 5, 8, 10]\n"
     ]
    }
   ],
   "source": [
    "def count_sort(arr):\n",
    "    max_element = int(max(arr))\n",
    "    min_element = int(min(arr))\n",
    "    range_of_elements = max_element - min_element + 1\n",
    " \n",
    "    count_arr = [0 for _ in range(range_of_elements)]\n",
    "    output_arr = [0 for _ in range(len(arr))]\n",
    " \n",
    "  \n",
    "    for i in range(0, len(arr)):\n",
    "        count_arr[arr[i]-min_element] += 1\n",
    " \n",
    "   \n",
    "    for i in range(1, len(count_arr)):\n",
    "        count_arr[i] += count_arr[i-1]\n",
    " \n",
    "  \n",
    "    for i in range(len(arr)-1, -1, -1):\n",
    "        output_arr[count_arr[arr[i] - min_element] - 1] = arr[i]\n",
    "        count_arr[arr[i] - min_element] -= 1\n",
    " \n",
    "\n",
    "    for i in range(0, len(arr)):\n",
    "        arr[i] = output_arr[i]\n",
    " \n",
    "    return arr\n",
    " \n",
    " \n",
    "\n",
    "arr = [-5, -10, 0, -3, 8, 5, -1, 10]\n",
    "ans = count_sort(arr)\n",
    "print(\"Sorted character array is \" + str(ans))"
   ]
  },
  {
   "cell_type": "code",
   "execution_count": null,
   "id": "22a44bd1",
   "metadata": {},
   "outputs": [],
   "source": []
  }
 ],
 "metadata": {
  "kernelspec": {
   "display_name": "Python 3",
   "language": "python",
   "name": "python3"
  },
  "language_info": {
   "codemirror_mode": {
    "name": "ipython",
    "version": 3
   },
   "file_extension": ".py",
   "mimetype": "text/x-python",
   "name": "python",
   "nbconvert_exporter": "python",
   "pygments_lexer": "ipython3",
   "version": "3.8.8"
  }
 },
 "nbformat": 4,
 "nbformat_minor": 5
}
