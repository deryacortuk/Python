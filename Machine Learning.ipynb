{
 "cells": [
  {
   "cell_type": "code",
   "execution_count": 19,
   "id": "76e67348",
   "metadata": {},
   "outputs": [
    {
     "name": "stdout",
     "output_type": "stream",
     "text": [
      "[229.33333333 237.83333333]\n"
     ]
    }
   ],
   "source": [
    "from sklearn.linear_model import LinearRegression, LogisticRegression\n",
    "import numpy as np\n",
    "\n",
    "stock = np.array([200,220,217])\n",
    "n = len(stock)\n",
    "\n",
    "model = LinearRegression().fit(np.arange(n).reshape((n,1)),stock)\n",
    "\n",
    "print(model.predict([[3],[4]]))"
   ]
  },
  {
   "cell_type": "code",
   "execution_count": 23,
   "id": "7f28b3f2",
   "metadata": {},
   "outputs": [
    {
     "name": "stdout",
     "output_type": "stream",
     "text": [
      "['No' 'No' 'No' 'Yes' 'Yes']\n"
     ]
    }
   ],
   "source": [
    "X = np.array([[0,'No'],[70,'Yes'],[10,'No'],[80,'Yes']])   # The idea of logistic regression is to fit an S-shape curve\n",
    "                                                             # (the sigmoid function) to the data.\n",
    "model = LogisticRegression().fit(X[:,0].reshape(4,1),X[:,1])\n",
    "\n",
    "print(model.predict([[2],[10],[11],[50],[90]]))"
   ]
  },
  {
   "cell_type": "code",
   "execution_count": 26,
   "id": "74faae0b",
   "metadata": {},
   "outputs": [
    {
     "name": "stdout",
     "output_type": "stream",
     "text": [
      "x0-------------->[[9.99611800e-01 3.88199735e-04]]\n",
      "x1-------------->[[9.99527619e-01 4.72380735e-04]]\n",
      "x2-------------->[[9.99425194e-01 5.74805863e-04]]\n",
      "x3-------------->[[9.99300576e-01 6.99424034e-04]]\n",
      "x4-------------->[[9.99148964e-01 8.51036475e-04]]\n",
      "x5-------------->[[0.99896452 0.00103548]]\n",
      "x6-------------->[[0.99874015 0.00125985]]\n",
      "x7-------------->[[0.99846725 0.00153275]]\n",
      "x8-------------->[[0.99813533 0.00186467]]\n",
      "x9-------------->[[0.99773171 0.00226829]]\n",
      "x10-------------->[[0.99724095 0.00275905]]\n",
      "x11-------------->[[0.99664438 0.00335562]]\n",
      "x12-------------->[[0.99591934 0.00408066]]\n",
      "x13-------------->[[0.99503843 0.00496157]]\n",
      "x14-------------->[[0.99396849 0.00603151]]\n",
      "x15-------------->[[0.99266954 0.00733046]]\n",
      "x16-------------->[[0.99109334 0.00890666]]\n",
      "x17-------------->[[0.98918193 0.01081807]]\n",
      "x18-------------->[[0.98686575 0.01313425]]\n",
      "x19-------------->[[0.98406166 0.01593834]]\n"
     ]
    }
   ],
   "source": [
    "for i in range(20):\n",
    "    print(\"x\" + str(i) + \"-------------->\" + str(model.predict_proba([[i]])))"
   ]
  },
  {
   "cell_type": "code",
   "execution_count": 27,
   "id": "50017928",
   "metadata": {},
   "outputs": [],
   "source": [
    "# The K-Means clustering algorithm computes centroids and repeats until the optimal centroid is found. \n",
    "# It is presumptively known how many clusters there are. It is also known as the flat clustering algorithm. \n",
    "# The number of clusters found from data by the method is denoted by the letter ‘K’ in K-means.\n",
    "# The cluster centers match the clustered data.\n",
    "# The K-Means algorithm requires 'the number of cluster center k' as an input."
   ]
  },
  {
   "cell_type": "code",
   "execution_count": 35,
   "id": "1d700470",
   "metadata": {},
   "outputs": [
    {
     "name": "stdout",
     "output_type": "stream",
     "text": [
      "[[  22.5 3750. ]\n",
      " [  50.  9000. ]\n",
      " [  15.  2000. ]\n",
      " [  50.  7500. ]]\n"
     ]
    },
    {
     "data": {
      "text/plain": [
       "[<matplotlib.lines.Line2D at 0x2acd39fa040>,\n",
       " <matplotlib.lines.Line2D at 0x2acd39fa100>]"
      ]
     },
     "execution_count": 35,
     "metadata": {},
     "output_type": "execute_result"
    },
    {
     "data": {
      "image/png": "[encoded data removed]",
      "text/plain": [
       "<Figure size 432x288 with 1 Axes>"
      ]
     },
     "metadata": {
      "needs_background": "light"
     },
     "output_type": "display_data"
    }
   ],
   "source": [
    "from sklearn.cluster import KMeans\n",
    "\n",
    "data = np.array([[35,9000],[45,8500],[70,9500],[25,4000],[20,3500],[50,7500],[15,2000]])\n",
    "\n",
    "kmeans = KMeans(n_clusters=4).fit(data)\n",
    "cc = kmeans.cluster_centers_\n",
    "print(cc)\n",
    "\n",
    "plt.plot(cc)"
   ]
  },
  {
   "cell_type": "code",
   "execution_count": 36,
   "id": "85252924",
   "metadata": {},
   "outputs": [],
   "source": [
    "# K-Nearest Neighbors in One Line\n",
    "# K-Nearest Neighbors algorith is used for regression and classification in many applications such as recommender systems,\n",
    "# image classification, and financial data forecasting. \n",
    "# The linear and logistic regression algorithms define learning parameters, while the clustering algorithm calculates\n",
    "# cluster center based on the training data. However, the KNN algoritm is different, which does not compute a new model\n",
    "# (or representation) but uses the whole data set as a model. \n",
    "# You can use the KNN algorithm for prediction or classification.\n",
    "# You execute the following strategy, given your input vector x:\n",
    "\n",
    "# 1.Find the k nearest neigbords of x (according to a predefined distance metric)\n",
    "# Aggregate the k nearest neighbors into a single prediction of classification value.You can use any  aggregator\n",
    "# function such as average, mean, max, min."
   ]
  },
  {
   "cell_type": "code",
   "execution_count": 55,
   "id": "54c0e372",
   "metadata": {},
   "outputs": [
    {
     "name": "stdout",
     "output_type": "stream",
     "text": [
      "[68333.33333333]\n"
     ]
    },
    {
     "data": {
      "image/png": "[encoded data removed]",
      "text/plain": [
       "<Figure size 432x288 with 1 Axes>"
      ]
     },
     "metadata": {
      "needs_background": "light"
     },
     "output_type": "display_data"
    }
   ],
   "source": [
    "from sklearn.neighbors import KNeighborsRegressor\n",
    "\n",
    "data = np.array([[50, 70000],[55,80000],[45,55000],[40,50000],[35,45000],[60,90000]])\n",
    "\n",
    "KNN = KNeighborsRegressor(n_neighbors =3).fit(data[:,0].reshape(-1,1),data[:,1])\n",
    "\n",
    "result = KNN.predict([[50]])\n",
    "print(result)\n",
    "\n",
    "nm = [50,55,45,40,35,60]\n",
    "values = [70000,80000,55000,50000,45000,90000]\n",
    "plt.scatter(nm,values, color='purple')\n",
    "plt.grid()\n",
    "plt.show()\n",
    "\n"
   ]
  },
  {
   "cell_type": "code",
   "execution_count": 67,
   "id": "ec3efaed",
   "metadata": {},
   "outputs": [
    {
     "name": "stdout",
     "output_type": "stream",
     "text": [
      "[652.06947773]\n",
      "[6564.1903109]\n",
      "[6564.1903109]\n"
     ]
    }
   ],
   "source": [
    "# Neural Network Analysis\n",
    "#The multilayer perceptron is one of the most popular neural network represantations.\n",
    "\n",
    "from sklearn.neural_network import MLPRegressor\n",
    "\n",
    "data = np.array([[20,12,20,30,400,3000],[30,1,4,65,0,3800],  [7,16,5,0,0,1500],[2,0, 1,10,0,1400],\n",
    "              [10,32,10,0,5,2400],  [40,3,-1,95,0,1000] ])\n",
    "neural_net = MLPRegressor(max_iter =10000).fit(data[:,:-1],data[:,-1])\n",
    "result = neural_net.predict([[0,0,0,0,0]])\n",
    "print(result)\n",
    "result1 = neural_net.predict([[5,0,10,0,0]])\n",
    "print(result1)\n",
    "result2 = neural_net.predict([[5,1,5,0,0]])\n",
    "print(result1)"
   ]
  },
  {
   "cell_type": "code",
   "execution_count": 76,
   "id": "89188b08",
   "metadata": {},
   "outputs": [
    {
     "name": "stdout",
     "output_type": "stream",
     "text": [
      "['Linguistic']\n",
      "['Computer Science']\n",
      "['Art']\n"
     ]
    }
   ],
   "source": [
    "# Decision-Tree Learning\n",
    "# Decision trees are human-readable.\n",
    "\n",
    "from sklearn import tree\n",
    "\n",
    "data = np.array([[9,7,6,'Computer Science'],[2,9,3,'Linguistic'],[5,7,9,'Art']])\n",
    "\n",
    "Tree = tree.DecisionTreeClassifier().fit(data[:,:-1],data[:,-1])\n",
    "\n",
    "person_0 = Tree.predict([[1,9,2]])      # The algorithm is nondeterministic. \n",
    "print(person_0)\n",
    "\n",
    "person_1 = Tree.predict([[8,8,6]])\n",
    "print(person_1)\n",
    "\n",
    "person_2 = Tree.predict([[3,7,9]])\n",
    "print(person_2)"
   ]
  },
  {
   "cell_type": "code",
   "execution_count": 82,
   "id": "e11551fb",
   "metadata": {},
   "outputs": [
    {
     "name": "stdout",
     "output_type": "stream",
     "text": [
      "Row with minimum variance:4\n",
      "Variance: 0.25\n"
     ]
    }
   ],
   "source": [
    "# Vs in Big Data: volume, velocity, variety, veracity, and value\n",
    "# Variance is yet another important V: it measures the expected(squared) deviation of the data from its mean.\n",
    "# Variance measures how much data spreads around its average in the one dimensional or multidimensional space.\n",
    "\n",
    "data = np.array([[25,27,21,30],[2,4,6,2], [11,12,3,7], [1,5,3,2],[1,2,1,2]])\n",
    "\n",
    "min_row = min([(i, np.var(data[i,:])) for i in range(len(data))], key = lambda x:x[1]) \n",
    "                    # The NumPy var() function in combination with slicing to calculate the row variance.\n",
    "               # var = np.var(data, axis=1) # min_row = (np.where(var == min(var)),min(var))\n",
    "print(\"Row with minimum variance:\" + str(min_row[0]))\n",
    "print(\"Variance: \" + str(min_row[1]))\n",
    "                      "
   ]
  },
  {
   "cell_type": "code",
   "execution_count": 86,
   "id": "fb675bb5",
   "metadata": {},
   "outputs": [
    {
     "name": "stdout",
     "output_type": "stream",
     "text": [
      "Averages:  [4.5  4.75 8.25 4.25 3.5 ]\n",
      "Variances:  [ 5.25    3.6875 12.6875  6.6875  1.25  ]\n",
      "Standart Deviations:  [2.29128785 1.92028644 3.56195171 2.58602011 1.11803399]\n"
     ]
    }
   ],
   "source": [
    "data = np.array([[5,8,2,3],[2,4,6,7], [11,12,3,7], [1,5,3,8],[4,2,5,3]])\n",
    "\n",
    "print(\"Averages: \",np.average(data,axis =1))\n",
    "\n",
    "print(\"Variances: \",np.var(data, axis = 1))  \n",
    "\n",
    "print(\"Standart Deviations: \", np.std(data, axis = 1))   \n"
   ]
  },
  {
   "cell_type": "code",
   "execution_count": 90,
   "id": "5b8d68d6",
   "metadata": {},
   "outputs": [
    {
     "name": "stdout",
     "output_type": "stream",
     "text": [
      "[[2.5 6. ]\n",
      " [5.5 7.5]\n",
      " [4.5 3.5]]\n",
      "[[0.25 4.  ]\n",
      " [2.25 2.25]\n",
      " [0.25 6.25]]\n",
      "[[0.5 2. ]\n",
      " [1.5 1.5]\n",
      " [0.5 2.5]]\n"
     ]
    }
   ],
   "source": [
    "data = np.array([[[2,3],[4,8]],[[7,4],[6,9]],[[5,4],[6,1]]])\n",
    "\n",
    "print(np.average(data,axis =2))\n",
    "\n",
    "print(np.var(data, axis = 2))  \n",
    "\n",
    "print( np.std(data, axis = 2))   \n"
   ]
  },
  {
   "cell_type": "code",
   "execution_count": 91,
   "id": "1fbb2baf",
   "metadata": {},
   "outputs": [],
   "source": [
    "# Support-vector machines (SVMs) have robust classification performance, even in more dimensional spaces.\n",
    "# This is unusual for classification algorithms because of the curse dimensionality : with increasing dimensionality,\n",
    "# the data becomes extremely sparse, which makes it hard for algorithms to find patterns in the data sets.\n",
    "# Classification algorithms use the training data to find a decision boundary that divides data in the one class from data\n",
    "#  in the other class.\n",
    "# SVMs maximize the distance between the closest data points and decision boundary. The goal is to minimize the error\n",
    "# new points that are close to the decision boundary.\n",
    "# The idea of maximizing the margin of safety is intuitive and leads to robust performance when classifying boundary cases.\n",
    "# (Vectors fall within the margin safety.)\n",
    "\n"
   ]
  },
  {
   "cell_type": "code",
   "execution_count": 94,
   "id": "f8175564",
   "metadata": {},
   "outputs": [
    {
     "name": "stdout",
     "output_type": "stream",
     "text": [
      "['Linguistic']\n",
      "['Computer Science']\n",
      "['Art']\n"
     ]
    }
   ],
   "source": [
    "from sklearn import svm\n",
    "\n",
    "data = np.array([[9,7,6,'Computer Science'],[2,9,3,'Linguistic'],[5,7,9,'Art']])\n",
    "\n",
    "svm = svm.SVC().fit(data[:,:-1],data[:,-1]) # SVC stands for support-vector classification\n",
    "\n",
    "person_0 = svm.predict([[1,9,2]])      \n",
    "print(person_0)\n",
    "\n",
    "person_1 = svm.predict([[8,8,6]])\n",
    "print(person_1)\n",
    "\n",
    "person_2 = svm.predict([[3,7,9]])\n",
    "print(person_2)"
   ]
  },
  {
   "cell_type": "code",
   "execution_count": 95,
   "id": "0d8373d6",
   "metadata": {},
   "outputs": [],
   "source": [
    "# Ensemble learning\n",
    "#  You create a meta-classifier of multiple types or instances of basic machine learning algorithms. To classify \n",
    "# a single observation, you ask all models to classify the input independently. You return the class that was returned\n",
    "# most often, given your input, as a meta-prediction.  This is the final output of your ensemble learning algorithm.\n",
    "\n",
    "# Random forest are a special type of ensemble learning algorithms. They focus on decision-tree learning. A forest \n",
    "# consist of many trees. A forest consists of many trees. Similarlyü a random forest consists of many decision trees.\n",
    "# Each decision tree is built by injecting randomness in the tree-generation procedure during the training phase.\n",
    "# This leads to various decision trees.\n",
    "\n"
   ]
  },
  {
   "cell_type": "code",
   "execution_count": 96,
   "id": "aa9e20b6",
   "metadata": {},
   "outputs": [
    {
     "name": "stdout",
     "output_type": "stream",
     "text": [
      "['Linguistic' 'Computer Science' 'Art']\n"
     ]
    }
   ],
   "source": [
    "from sklearn.ensemble import RandomForestClassifier\n",
    "\n",
    "data = np.array([[9,7,6,'Computer Science'],[2,9,3,'Linguistic'],[5,7,9,'Art']])\n",
    "\n",
    "Forest = RandomForestClassifier(n_estimators=10).fit(data[:,:-1],data[:,-1]) \n",
    "    # n_estimators defines the number of trees in the forest.\n",
    "\n",
    "prediction = Forest.predict([[1,9,2],[8,8,6],[3,7,9]])\n",
    "\n",
    "print(prediction)"
   ]
  },
  {
   "cell_type": "code",
   "execution_count": null,
   "id": "0b569ad6",
   "metadata": {},
   "outputs": [],
   "source": []
  }
 ],
 "metadata": {
  "kernelspec": {
   "display_name": "Python 3",
   "language": "python",
   "name": "python3"
  },
  "language_info": {
   "codemirror_mode": {
    "name": "ipython",
    "version": 3
   },
   "file_extension": ".py",
   "mimetype": "text/x-python",
   "name": "python",
   "nbconvert_exporter": "python",
   "pygments_lexer": "ipython3",
   "version": "3.8.8"
  }
 },
 "nbformat": 4,
 "nbformat_minor": 5
}
