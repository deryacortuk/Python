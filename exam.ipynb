{
 "cells": [
  {
   "cell_type": "code",
   "execution_count": 5,
   "id": "efb6a6d6",
   "metadata": {},
   "outputs": [
    {
     "name": "stdout",
     "output_type": "stream",
     "text": [
      "[2, 3, 5, 7, 11, 11]\n",
      "[2, 3, 5, 7, 11]\n"
     ]
    }
   ],
   "source": [
    "class A:\n",
    "    t = [2,3,5,7]\n",
    "a1,a2=A(),A()\n",
    "a1.t +=[11]         # This concatenation doesn't create a new list, the memory address in variale t doesn't change.\n",
    "a2.t = a2.t + [11]  #You create a new list and the reference in attribute t in the instance a2 is updated.\n",
    "print(a2.t)\n",
    "print(A.t)"
   ]
  },
  {
   "cell_type": "code",
   "execution_count": 8,
   "id": "b4fd3ad6",
   "metadata": {},
   "outputs": [
    {
     "ename": "TypeError",
     "evalue": "fnc() got multiple values for keyword argument 'c'",
     "output_type": "error",
     "traceback": [
      "\u001b[1;31m---------------------------------------------------------------------------\u001b[0m",
      "\u001b[1;31mTypeError\u001b[0m                                 Traceback (most recent call last)",
      "\u001b[1;32m<ipython-input-8-f3fe86519d4e>\u001b[0m in \u001b[0;36m<module>\u001b[1;34m\u001b[0m\n\u001b[0;32m      3\u001b[0m \u001b[1;32mdef\u001b[0m \u001b[0mfnc\u001b[0m\u001b[1;33m(\u001b[0m\u001b[0mx\u001b[0m\u001b[1;33m,\u001b[0m\u001b[0my\u001b[0m\u001b[1;33m,\u001b[0m\u001b[0mz\u001b[0m\u001b[1;33m)\u001b[0m\u001b[1;33m:\u001b[0m\u001b[1;33m\u001b[0m\u001b[1;33m\u001b[0m\u001b[0m\n\u001b[0;32m      4\u001b[0m     \u001b[1;32mreturn\u001b[0m \u001b[0mmax\u001b[0m\u001b[1;33m(\u001b[0m\u001b[1;33m(\u001b[0m\u001b[0mx\u001b[0m\u001b[1;33m,\u001b[0m\u001b[0my\u001b[0m\u001b[1;33m,\u001b[0m\u001b[0mz\u001b[0m\u001b[1;33m)\u001b[0m\u001b[1;33m)\u001b[0m\u001b[1;33m\u001b[0m\u001b[1;33m\u001b[0m\u001b[0m\n\u001b[1;32m----> 5\u001b[1;33m \u001b[0mprint\u001b[0m\u001b[1;33m(\u001b[0m\u001b[0mfnc\u001b[0m\u001b[1;33m(\u001b[0m\u001b[1;33m**\u001b[0m\u001b[0md1\u001b[0m\u001b[1;33m,\u001b[0m\u001b[1;33m**\u001b[0m\u001b[0md2\u001b[0m\u001b[1;33m)\u001b[0m\u001b[1;33m)\u001b[0m   \u001b[1;31m#\u001b[0m\u001b[1;33m\u001b[0m\u001b[1;33m\u001b[0m\u001b[0m\n\u001b[0m",
      "\u001b[1;31mTypeError\u001b[0m: fnc() got multiple values for keyword argument 'c'"
     ]
    }
   ],
   "source": [
    "d1 = {'a':2,'b':3,'c':5}\n",
    "d2 = {'c':5,'d':7}\n",
    "def fnc(x,y,z):\n",
    "    return max((x,y,z))\n",
    "print(fnc(**d1,**d2))   #Since the key 'c' appears in both dictionaries.Although both keys 'c' have the same value, you can\n",
    "                         # only pass one key-value pair per argument."
   ]
  },
  {
   "cell_type": "code",
   "execution_count": 13,
   "id": "a11e92f5",
   "metadata": {},
   "outputs": [
    {
     "name": "stdout",
     "output_type": "stream",
     "text": [
      "2 7\n"
     ]
    }
   ],
   "source": [
    "class A:\n",
    "    x = 2\n",
    "class B(A):\n",
    "    pass\n",
    "\n",
    "cond = isinstance(B(),A) and hasattr(B,'x')      \n",
    "setattr(B,'x', 7 if cond else 5)                \n",
    "print(A.x,B.x)                                 \n",
    "                                              "
   ]
  },
  {
   "cell_type": "code",
   "execution_count": 17,
   "id": "dd7188b2",
   "metadata": {},
   "outputs": [
    {
     "name": "stdout",
     "output_type": "stream",
     "text": [
      "[0, 1]\n",
      "[1, 1, 0]\n"
     ]
    }
   ],
   "source": [
    "lst = [0,1,2]\n",
    "lst[::2] = lst[::-2] = lst[:2]   #Parallel Assignment\n",
    "print(lst)"
   ]
  },
  {
   "cell_type": "code",
   "execution_count": 18,
   "id": "60c8eba4",
   "metadata": {},
   "outputs": [
    {
     "name": "stdout",
     "output_type": "stream",
     "text": [
      "[4, 5]\n"
     ]
    }
   ],
   "source": [
    "lst = [1,2,3,4,5]\n",
    "for _ in lst:     #The loop executes three times, removing three elements from the list.\n",
    "    lst.pop(0)\n",
    "print(lst)"
   ]
  },
  {
   "cell_type": "code",
   "execution_count": 22,
   "id": "3458ad63",
   "metadata": {},
   "outputs": [
    {
     "name": "stdout",
     "output_type": "stream",
     "text": [
      "S\n"
     ]
    }
   ],
   "source": [
    "x = 'USA'\n",
    "y = 'UK'    #The function map() with multiple iterables as arguments. If there is only one iterable, the function map() applies\n",
    "j = min(map(max,x,y))       #the given function on each element in the iterable. If there are several iterables, you apply\n",
    "print(j)                   #the function to the tuple consisting of the i-th elements of each iterabble -increasing the value\n",
    "                           #of i until one of the iterables runs out of the elements.\n",
    "#Since maximum and minimum are computed based on the characters alphabetical order, the mininum is computed from 'U' and 'S'."
   ]
  },
  {
   "cell_type": "code",
   "execution_count": 25,
   "id": "090d790e",
   "metadata": {},
   "outputs": [
    {
     "name": "stdout",
     "output_type": "stream",
     "text": [
      "(1, 2, 3, 4)\n"
     ]
    }
   ],
   "source": [
    "x = (1,2)\n",
    "y = (3,4)\n",
    "z = x + y\n",
    "print(z)"
   ]
  },
  {
   "cell_type": "code",
   "execution_count": 26,
   "id": "7f9aea9c",
   "metadata": {},
   "outputs": [
    {
     "name": "stdout",
     "output_type": "stream",
     "text": [
      "1\n"
     ]
    }
   ],
   "source": [
    "x = ((())) + (((),),)       #The expression ((())) creates an empty tuple with zero elements. \n",
    "                #The expression (((),),) creates a tuple with one element ((),),which is again a tuple with one element().\n",
    "print(len(x))"
   ]
  },
  {
   "cell_type": "code",
   "execution_count": 30,
   "id": "d52f8c5b",
   "metadata": {},
   "outputs": [
    {
     "name": "stdout",
     "output_type": "stream",
     "text": [
      "5 17\n"
     ]
    }
   ],
   "source": [
    "class A:\n",
    "    x,y = 5,7\n",
    "class B:\n",
    "    x,y = 11,17\n",
    "    def __init__(self):\n",
    "        self.y = B.y\n",
    "        \n",
    "        \n",
    "class C(A,B):\n",
    "    pass\n",
    "c=C()\n",
    "print(c.x,c.y)"
   ]
  },
  {
   "cell_type": "code",
   "execution_count": 37,
   "id": "9a101ba6",
   "metadata": {},
   "outputs": [
    {
     "name": "stdout",
     "output_type": "stream",
     "text": [
      "[2, 3, 2, 3]\n"
     ]
    }
   ],
   "source": [
    "def fnc(a,lst=[]):\n",
    "    lst.append(a)\n",
    "    return lst\n",
    "\n",
    "newlist = fnc(2) + fnc(3)\n",
    "\n",
    "\n",
    "print(newlist)"
   ]
  },
  {
   "cell_type": "code",
   "execution_count": 38,
   "id": "a86ad3b4",
   "metadata": {},
   "outputs": [
    {
     "name": "stdout",
     "output_type": "stream",
     "text": [
      "[2]\n"
     ]
    }
   ],
   "source": [
    "t= [1]\n",
    "def f(t=t):\n",
    "    t.append(10)\n",
    "t=[2]\n",
    "f()\n",
    "print(t)"
   ]
  },
  {
   "cell_type": "code",
   "execution_count": 51,
   "id": "2fe10097",
   "metadata": {},
   "outputs": [
    {
     "name": "stdout",
     "output_type": "stream",
     "text": [
      "[Blue, Tall Orange]\n"
     ]
    }
   ],
   "source": [
    "class Person:\n",
    "    def __init__(self,name,gender,height):\n",
    "        self.name = name\n",
    "        self.gender = gender\n",
    "        self.height = height\n",
    "    def __repr__(self):\n",
    "        return 'Tall ' * (self.height > 170) + self.name\n",
    "p = Person('Blue','Boy',170)\n",
    "q = Person('Orange','Girl',171)\n",
    "print([p,q])"
   ]
  },
  {
   "cell_type": "code",
   "execution_count": 44,
   "id": "814c51f5",
   "metadata": {},
   "outputs": [
    {
     "name": "stdout",
     "output_type": "stream",
     "text": [
      "[2, '32', 2, '252', '3', '2']\n",
      "1\n"
     ]
    }
   ],
   "source": [
    "t = [2,'32',2,'252']\n",
    "t.extend('32')\n",
    "print(t)\n",
    "print(t.count('2'))"
   ]
  },
  {
   "cell_type": "code",
   "execution_count": 49,
   "id": "daa2d834",
   "metadata": {},
   "outputs": [
    {
     "name": "stdout",
     "output_type": "stream",
     "text": [
      "[(6,), (2,)]\n"
     ]
    }
   ],
   "source": [
    "t = [(1,2),(3,4,5),(6,)]\n",
    "x = [k[::-2] for k in t[::-2]]   \n",
    "print(x)        \n"
   ]
  },
  {
   "cell_type": "code",
   "execution_count": 50,
   "id": "63bbd2b9",
   "metadata": {},
   "outputs": [
    {
     "name": "stdout",
     "output_type": "stream",
     "text": [
      "[(0,), (1,), (2,)]\n"
     ]
    }
   ],
   "source": [
    "d = {0:'Orange',1:'Blue',2:'Gray'}\n",
    "zp = list(zip(d))\n",
    "print(zp)"
   ]
  },
  {
   "cell_type": "code",
   "execution_count": 58,
   "id": "be19d189",
   "metadata": {},
   "outputs": [
    {
     "name": "stdout",
     "output_type": "stream",
     "text": [
      "Tall Blue\n"
     ]
    }
   ],
   "source": [
    "class Person:\n",
    "    def __init__(self,name,gender,height):\n",
    "        self.name = name\n",
    "        self.gender = gender\n",
    "        self.height = height\n",
    "    def __str__(self):\n",
    "        return 'Tall '*(self.height > 170) +self.name\n",
    "names = ['Blue','Orange','Black']\n",
    "genders = ['Girl','Boy' ,'Girl']\n",
    "height = [175, 171,160]\n",
    "person = [Person(name,gender,height) for name, gender, height in zip(names,genders,height)]\n",
    "print(person[0])"
   ]
  },
  {
   "cell_type": "code",
   "execution_count": 61,
   "id": "35a38c81",
   "metadata": {},
   "outputs": [
    {
     "name": "stdout",
     "output_type": "stream",
     "text": [
      "[[3], 11]\n",
      "[1, 2, [3], 4]\n"
     ]
    }
   ],
   "source": [
    "t = [1,2,[3],4]\n",
    "y = t[2:3]\n",
    "y.append(11)\n",
    "print(y)\n",
    "print(t)"
   ]
  },
  {
   "cell_type": "code",
   "execution_count": 64,
   "id": "3ff10519",
   "metadata": {},
   "outputs": [
    {
     "name": "stdout",
     "output_type": "stream",
     "text": [
      "{True: 10, -1: -1}\n",
      "9\n"
     ]
    }
   ],
   "source": [
    "class A:\n",
    "    d={True:10}\n",
    "    def __init__(self,func,*args):\n",
    "        self.d.setdefault(args[0],func(*args))\n",
    "A(max,-1,-2,-3)\n",
    "A(pow,1,3)\n",
    "print(A.d)\n",
    "print(sum(A.d.values()))"
   ]
  },
  {
   "cell_type": "code",
   "execution_count": 65,
   "id": "1b43d755",
   "metadata": {},
   "outputs": [
    {
     "name": "stdout",
     "output_type": "stream",
     "text": [
      "True\n"
     ]
    }
   ],
   "source": [
    "capitals = {'UK':'London', 'Germany':'Berlin','Netherlands':'Amsterdam'}\n",
    "print(list(capitals) > list(capitals.values()))"
   ]
  },
  {
   "cell_type": "code",
   "execution_count": 66,
   "id": "0b4fb712",
   "metadata": {},
   "outputs": [
    {
     "name": "stdout",
     "output_type": "stream",
     "text": [
      "0\n"
     ]
    }
   ],
   "source": [
    "class A:\n",
    "    count = 0     #A class variable is defined globally for the whole class. An instance variable is defined locally,and it's\n",
    "    def loop(self,times):          #only seen by the local instance.\n",
    "        while self.count < times:    #All future modifications are performed on the instance variable -the class variable\n",
    "            self.count +=1          # A.count is still unmodified.\n",
    "a = A()\n",
    "a.loop(7)\n",
    "print(A.count)"
   ]
  },
  {
   "cell_type": "code",
   "execution_count": 67,
   "id": "aaa47cf7",
   "metadata": {},
   "outputs": [
    {
     "name": "stdout",
     "output_type": "stream",
     "text": [
      "1\n"
     ]
    }
   ],
   "source": [
    "class A:\n",
    "    var = 1\n",
    "class B(A):\n",
    "    pass\n",
    "class C:\n",
    "    var =3\n",
    "class D(B,C):\n",
    "    pass\n",
    "\n",
    "print(D.var)    #Python checks first class B for a definition of variable var-without success.But class B is a child class of A\n",
    "                #which defines variable var. The value of A.var is printed."
   ]
  },
  {
   "cell_type": "code",
   "execution_count": 69,
   "id": "e100ac75",
   "metadata": {},
   "outputs": [
    {
     "name": "stdout",
     "output_type": "stream",
     "text": [
      "13\n"
     ]
    }
   ],
   "source": [
    "class A:\n",
    "    x = [11,12,13,15]\n",
    "    def __init__(self):\n",
    "        self.x = self.x.pop()\n",
    "    def func(self):\n",
    "        return self.run()\n",
    "    def run(self):\n",
    "        return self.x\n",
    "class B(A):\n",
    "    pass\n",
    "class C(B):\n",
    "    pass\n",
    "b =B()\n",
    "c=C()\n",
    "print(c.func())"
   ]
  },
  {
   "cell_type": "code",
   "execution_count": 71,
   "id": "ba1d94a6",
   "metadata": {},
   "outputs": [
    {
     "name": "stdout",
     "output_type": "stream",
     "text": [
      "[1, False]\n"
     ]
    }
   ],
   "source": [
    "lst = [1,2,2,1]\n",
    "x = lst.pop() < lst.pop() < lst.pop() < lst.pop()   #Python's comparison operators support short-circuiting, which means\n",
    "lst.append(x)                    #the evaluation of a statement stops as soon as the final result is clear.\n",
    "print(lst)"
   ]
  },
  {
   "cell_type": "code",
   "execution_count": 74,
   "id": "240bd337",
   "metadata": {},
   "outputs": [
    {
     "name": "stdout",
     "output_type": "stream",
     "text": [
      "False\n"
     ]
    },
    {
     "name": "stderr",
     "output_type": "stream",
     "text": [
      "<>:1: SyntaxWarning: \"is not\" with a literal. Did you mean \"!=\"?\n",
      "<>:1: SyntaxWarning: \"is not\" with a literal. Did you mean \"!=\"?\n",
      "<ipython-input-74-e337c86d890a>:1: SyntaxWarning: \"is not\" with a literal. Did you mean \"!=\"?\n",
      "  print(0 not in [1] is not  0 in [1])\n"
     ]
    }
   ],
   "source": [
    "print(0 not in [1] is not  0 in [1])"
   ]
  },
  {
   "cell_type": "code",
   "execution_count": 76,
   "id": "b1df998a",
   "metadata": {},
   "outputs": [
    {
     "name": "stdout",
     "output_type": "stream",
     "text": [
      "False\n"
     ]
    }
   ],
   "source": [
    "a = 10 > 9.0\n",
    "b = not a\n",
    "print((not a) == (not b))"
   ]
  },
  {
   "cell_type": "code",
   "execution_count": 81,
   "id": "e870cec5",
   "metadata": {},
   "outputs": [
    {
     "name": "stdout",
     "output_type": "stream",
     "text": [
      "3\n"
     ]
    }
   ],
   "source": [
    "t1 = True, (), [], None\n",
    "t2 = True, (), [], None\n",
    "count = sum(map(lambda x, y : x is y, t1,t2))\n",
    "print(count)\n",
    "\n",
    "#You can use the map function to compare the i-th tuple elements using the is operator. If a pai of elements point to the same\n",
    "#memory location, the is operator returns True and False otherwise.\n",
    "#Immutable data types exist only once in memory -all variables initialize with a Boolean value, a tuple, or the value None\n",
    "#share the same object in memory, if possible. There's simply no need to create multiple objects of the same tuple in memory\n",
    "# if nobody can change the tuple value anyway. Thus, Python optimizes memory usage by sharing immutable objects among\n",
    "#different variables.\n",
    "#There's one element that's mutable: the empty list.Because of that,there are two empty list in memory- so [] is []\n",
    "#returns False."
   ]
  },
  {
   "cell_type": "code",
   "execution_count": 82,
   "id": "91d280e7",
   "metadata": {},
   "outputs": [
    {
     "name": "stdout",
     "output_type": "stream",
     "text": [
      "2\n"
     ]
    }
   ],
   "source": [
    "y = ~(~True + ~False)     \n",
    "print(y)\n",
    "\n",
    "#The tilde operator in Python is the complement of the bit represantation of the integer. The expression ~True is \n",
    "# equivalent to ~1. \n",
    "# ~(~True + ~False) = ~(~1 + ~0) = ~((-1 -1) + (-0-1)) = ~(-3) = -(-3 + 1)=2\n",
    "#"
   ]
  },
  {
   "cell_type": "code",
   "execution_count": null,
   "id": "117f5c5c",
   "metadata": {},
   "outputs": [],
   "source": []
  }
 ],
 "metadata": {
  "kernelspec": {
   "display_name": "Python 3",
   "language": "python",
   "name": "python3"
  },
  "language_info": {
   "codemirror_mode": {
    "name": "ipython",
    "version": 3
   },
   "file_extension": ".py",
   "mimetype": "text/x-python",
   "name": "python",
   "nbconvert_exporter": "python",
   "pygments_lexer": "ipython3",
   "version": "3.8.8"
  }
 },
 "nbformat": 4,
 "nbformat_minor": 5
}
