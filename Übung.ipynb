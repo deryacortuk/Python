{
 "cells": [
  {
   "cell_type": "code",
   "execution_count": 1,
   "id": "b3429f34",
   "metadata": {},
   "outputs": [
    {
     "name": "stdout",
     "output_type": "stream",
     "text": [
      "2\n"
     ]
    }
   ],
   "source": [
    "class Q:\n",
    "    def __init__(self,x,y=1):\n",
    "        self.x = x\n",
    "        self.y = y\n",
    "q1,q2=Q(1),Q(2)\n",
    "q1.x=q2.y +1\n",
    "print(q1.x)"
   ]
  },
  {
   "cell_type": "code",
   "execution_count": 3,
   "id": "6a0a9455",
   "metadata": {},
   "outputs": [
    {
     "name": "stdout",
     "output_type": "stream",
     "text": [
      "[[0], [1], [3]]\n",
      "([10], [1], [3])\n"
     ]
    }
   ],
   "source": [
    "tup = [0],[1],[3]\n",
    "lst = list(tup)\n",
    "print(lst)\n",
    "lst[0][0]=10\n",
    "print(tup)"
   ]
  },
  {
   "cell_type": "code",
   "execution_count": 6,
   "id": "949b80b8",
   "metadata": {},
   "outputs": [
    {
     "name": "stdout",
     "output_type": "stream",
     "text": [
      "[0, 25]\n"
     ]
    }
   ],
   "source": [
    "x=[0]\n",
    "def fnc(x=x):\n",
    "    x.append(25)\n",
    "    print(x)\n",
    "x=[1]\n",
    "fnc()\n"
   ]
  },
  {
   "cell_type": "code",
   "execution_count": 7,
   "id": "24c90cf8",
   "metadata": {},
   "outputs": [
    {
     "name": "stdout",
     "output_type": "stream",
     "text": [
      "4\n"
     ]
    }
   ],
   "source": [
    "class A:\n",
    "    x=1\n",
    "class B(A):\n",
    "    pass\n",
    "class C(B):\n",
    "    pass\n",
    "A.x,B.x=2,4\n",
    "print(C.x)"
   ]
  },
  {
   "cell_type": "code",
   "execution_count": 8,
   "id": "811b43a3",
   "metadata": {},
   "outputs": [
    {
     "name": "stdout",
     "output_type": "stream",
     "text": [
      "1\n"
     ]
    }
   ],
   "source": [
    "x = str(20) + str(15) == str(20+15)\n",
    "y = str(15) + str(20) == str(20) + str(15)\n",
    "z = str(20)*15 == 15*str(20)\n",
    "print(x+y+z)\n"
   ]
  },
  {
   "cell_type": "code",
   "execution_count": 10,
   "id": "673b6038",
   "metadata": {},
   "outputs": [
    {
     "name": "stdout",
     "output_type": "stream",
     "text": [
      "6\n",
      "['i', 'n', 'x', 't', 'e', 'r']\n"
     ]
    }
   ],
   "source": [
    "word ='finxter'\n",
    "letters = 'fix'\n",
    "select = [w for w in word if letters.find(w)]\n",
    "print(len(select))   # Every integer maps to True, except 0 that maps to False.\n",
    "print(select)"
   ]
  },
  {
   "cell_type": "code",
   "execution_count": 13,
   "id": "9754d869",
   "metadata": {},
   "outputs": [
    {
     "name": "stdout",
     "output_type": "stream",
     "text": [
      "1\n"
     ]
    }
   ],
   "source": [
    "x = int(1.9) + int(-2.9) == int (1.9 + -2.9)\n",
    "y = int ('3') + int('2') == int('3'+'2')\n",
    "z = int(-3.9) == -int(-3.9)\n",
    "print(x+y+z)"
   ]
  },
  {
   "cell_type": "code",
   "execution_count": 19,
   "id": "c5b1e016",
   "metadata": {},
   "outputs": [
    {
     "name": "stdout",
     "output_type": "stream",
     "text": [
      "4\n"
     ]
    }
   ],
   "source": [
    "x = [1,2,3,1,2,3]\n",
    "y = x.pop(3) + x.index(3) + x.count(1)\n",
    "print(y)"
   ]
  },
  {
   "cell_type": "code",
   "execution_count": 21,
   "id": "29e26a6a",
   "metadata": {},
   "outputs": [
    {
     "name": "stdout",
     "output_type": "stream",
     "text": [
      "-1\n"
     ]
    }
   ],
   "source": [
    "def swap(x,y):\n",
    "    y,x =x,y\n",
    "x,y =2,3       \n",
    "swap(x,y)\n",
    "print(x-y)     #Since both the global variables and the function arguments are named x and y.\n",
    "                #When calling swap(),the values of the variables x and y  didn't change in the global scope."
   ]
  },
  {
   "cell_type": "code",
   "execution_count": 22,
   "id": "e8e1ffe3",
   "metadata": {},
   "outputs": [
    {
     "name": "stdout",
     "output_type": "stream",
     "text": [
      "6\n"
     ]
    }
   ],
   "source": [
    "def func(x, *y, z=0):\n",
    "    if z:\n",
    "        return min(y)\n",
    "    return max(y)\n",
    "print(func(1,2,3,4,5,6))"
   ]
  },
  {
   "cell_type": "code",
   "execution_count": 25,
   "id": "00611f74",
   "metadata": {},
   "outputs": [
    {
     "name": "stdout",
     "output_type": "stream",
     "text": [
      "['UK', 'Deutschland']\n",
      "Italy\n",
      "USA\n"
     ]
    }
   ],
   "source": [
    "capitals = {'USA':'Washington','UK':'Manchester','Deutschland':'Berlin','Italy':'Rome'}\n",
    "x,*y,z = {**capitals ,'UK':'London'}\n",
    "print(y)\n",
    "print(z)\n",
    "print(x)"
   ]
  },
  {
   "cell_type": "code",
   "execution_count": 28,
   "id": "ec20a78a",
   "metadata": {},
   "outputs": [
    {
     "name": "stdout",
     "output_type": "stream",
     "text": [
      "[0, 1]\n"
     ]
    }
   ],
   "source": [
    "x = [0]\n",
    "y1 = y2 =x\n",
    "y1 = y1 + [1]  # It concatenates the list [0] and the list [1] and returns the result as a new list.\n",
    "\n",
    "y2 +=[1]   # It works like the extend() method: it appends the list elements on the right to the list on the left. \n",
    "            #So the variables x and y2 still point to the same memory address.\n",
    "print(x)"
   ]
  },
  {
   "cell_type": "code",
   "execution_count": 32,
   "id": "56f60d6f",
   "metadata": {},
   "outputs": [
    {
     "name": "stdout",
     "output_type": "stream",
     "text": [
      "11\n"
     ]
    }
   ],
   "source": [
    "def f(x):\n",
    "    if x%5 ==0:\n",
    "        return x\n",
    "    return 1 + f(x-1)\n",
    "n = f(f(11))\n",
    "print(n)"
   ]
  },
  {
   "cell_type": "code",
   "execution_count": 37,
   "id": "dae97511",
   "metadata": {},
   "outputs": [
    {
     "name": "stdout",
     "output_type": "stream",
     "text": [
      "danke sehr\n"
     ]
    }
   ],
   "source": [
    "translation ={'bitte':'please','danke sehr':'thank you','gut':'good'}\n",
    "for word in translation:\n",
    "    word = word.capitalize() if len(word.split())>1 else word.upper()\n",
    "print(list(translation)[1])"
   ]
  },
  {
   "cell_type": "code",
   "execution_count": 35,
   "id": "7e8b303c",
   "metadata": {},
   "outputs": [
    {
     "name": "stdout",
     "output_type": "stream",
     "text": [
      "[[100], [100], [100], [100]]\n"
     ]
    }
   ],
   "source": [
    "x = [0]\n",
    "t = [x for _ in range(4)]\n",
    "t[0][0]=100\n",
    "print(t)"
   ]
  },
  {
   "cell_type": "code",
   "execution_count": 36,
   "id": "a7b94e45",
   "metadata": {},
   "outputs": [
    {
     "name": "stdout",
     "output_type": "stream",
     "text": [
      "[1, 2, 3]\n"
     ]
    }
   ],
   "source": [
    "class A:\n",
    "    x = [1,2,3]\n",
    "    \n",
    "    def __init__(self,x=x):\n",
    "        self.x =x\n",
    "    def update(self):\n",
    "        self.x =self.x*2\n",
    "x =['günstig','schön']\n",
    "y = A()\n",
    "y.update()\n",
    "print(A.x)"
   ]
  },
  {
   "cell_type": "code",
   "execution_count": null,
   "id": "f0a00bef",
   "metadata": {},
   "outputs": [],
   "source": []
  }
 ],
 "metadata": {
  "kernelspec": {
   "display_name": "Python 3",
   "language": "python",
   "name": "python3"
  },
  "language_info": {
   "codemirror_mode": {
    "name": "ipython",
    "version": 3
   },
   "file_extension": ".py",
   "mimetype": "text/x-python",
   "name": "python",
   "nbconvert_exporter": "python",
   "pygments_lexer": "ipython3",
   "version": "3.8.8"
  }
 },
 "nbformat": 4,
 "nbformat_minor": 5
}
