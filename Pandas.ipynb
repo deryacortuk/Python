{
 "cells": [
  {
   "cell_type": "code",
   "execution_count": 1,
   "id": "62736b2d",
   "metadata": {},
   "outputs": [],
   "source": [
    "import pandas as pd\n"
   ]
  },
  {
   "cell_type": "code",
   "execution_count": 5,
   "id": "d3ba0911",
   "metadata": {},
   "outputs": [
    {
     "name": "stdout",
     "output_type": "stream",
     "text": [
      "0    41.0\n",
      "1    41.0\n",
      "2    41.0\n",
      "Name: const, dtype: float64\n",
      "123.0\n"
     ]
    }
   ],
   "source": [
    "series = pd.Series(41, index = [0,1,2], dtype = float, name= 'const')\n",
    "result = series.sum()\n",
    "\n",
    "print(series)\n",
    "print(result)"
   ]
  },
  {
   "cell_type": "code",
   "execution_count": 6,
   "id": "8d071e8a",
   "metadata": {},
   "outputs": [
    {
     "name": "stdout",
     "output_type": "stream",
     "text": [
      "0        Python\n",
      "1        Django\n",
      "2        Pandas\n",
      "3    Matplotlib\n",
      "4       Seaborn\n",
      "dtype: object\n",
      "Pandas\n"
     ]
    }
   ],
   "source": [
    "data = ['Python','Django','Pandas','Matplotlib','Seaborn']\n",
    "series = pd.Series(data)\n",
    "print(series)\n",
    "print(series[2])"
   ]
  },
  {
   "cell_type": "code",
   "execution_count": 8,
   "id": "5ee2b64c",
   "metadata": {},
   "outputs": [
    {
     "name": "stdout",
     "output_type": "stream",
     "text": [
      "0    2\n",
      "1    3\n",
      "2    4\n",
      "3    5\n",
      "4    6\n",
      "5    7\n",
      "dtype: int64\n",
      "(6,)\n"
     ]
    }
   ],
   "source": [
    "data = [2,3,4,5,6,7]\n",
    "idx = [0,1,2,3,4,5]\n",
    "series = pd.Series(data = data, index = idx)\n",
    "result = series.shape\n",
    "print(series)\n",
    "print(result)"
   ]
  },
  {
   "cell_type": "code",
   "execution_count": 13,
   "id": "39893307",
   "metadata": {},
   "outputs": [
    {
     "name": "stdout",
     "output_type": "stream",
     "text": [
      "Blue     20\n",
      "Gray     15\n",
      "White    18\n",
      "dtype: int64\n",
      "White\n",
      "18\n"
     ]
    }
   ],
   "source": [
    "data = {'Blue':20,'Gray':15,'White':18}\n",
    "series = pd.Series(data)\n",
    "print(series)\n",
    "print(series.index[2])\n",
    "print(series[2])"
   ]
  },
  {
   "cell_type": "code",
   "execution_count": 14,
   "id": "b1cd9b42",
   "metadata": {},
   "outputs": [
    {
     "name": "stdout",
     "output_type": "stream",
     "text": [
      "1\n"
     ]
    }
   ],
   "source": [
    "data = pd.Series(['Blue','White','Gray','Red','Black'])\n",
    "result = data.ndim   #You access the dimension by using the Series attribute ndim which results in the integer value 1.\n",
    "print(result)"
   ]
  },
  {
   "cell_type": "code",
   "execution_count": 15,
   "id": "0c03126e",
   "metadata": {},
   "outputs": [
    {
     "name": "stdout",
     "output_type": "stream",
     "text": [
      "6\n"
     ]
    }
   ],
   "source": [
    "data = [1,2,3,4,5,6]\n",
    "index = [1,3,5,7,9,11]\n",
    "series = pd.Series(data,index)\n",
    "result = series.size        #The size attribute of the Series object tracks its number of elements.\n",
    "print(result)"
   ]
  },
  {
   "cell_type": "code",
   "execution_count": 17,
   "id": "ff2f4f2e",
   "metadata": {},
   "outputs": [
    {
     "name": "stdout",
     "output_type": "stream",
     "text": [
      "True\n"
     ]
    }
   ],
   "source": [
    "import numpy as np\n",
    "\n",
    "data = pd.Series([1,2,np.NaN,4,np.NaN])\n",
    "result = data.hasnans  #The attribute hasnans returns  True if there is al least one NaN valur and False otherwise.\n",
    "print(result)"
   ]
  },
  {
   "cell_type": "code",
   "execution_count": 21,
   "id": "3f81c5f8",
   "metadata": {},
   "outputs": [
    {
     "name": "stdout",
     "output_type": "stream",
     "text": [
      "London\n"
     ]
    }
   ],
   "source": [
    "data = {'Germany':'Berlin','UK':'London','Italy':'Rome','France':'Paris'}\n",
    "capitals = pd.Series(data)\n",
    "result = capitals.iloc[-3]      #The integer-location index iloc[]\n",
    "print(result)"
   ]
  },
  {
   "cell_type": "code",
   "execution_count": 23,
   "id": "f52d7d45",
   "metadata": {},
   "outputs": [
    {
     "name": "stdout",
     "output_type": "stream",
     "text": [
      "2    2\n",
      "3    3\n",
      "5    5\n",
      "dtype: int64\n",
      "10\n"
     ]
    }
   ],
   "source": [
    "data = pd.Series(range(7))\n",
    "bs = [False, False, True, True,False,True,False]   \n",
    "result = data.loc[bs].sum()    # The loc[] index, you explicitly define which element you want to access from the Series.\n",
    "print(data.loc[bs])\n",
    "print(result)"
   ]
  },
  {
   "cell_type": "code",
   "execution_count": 24,
   "id": "d4b19957",
   "metadata": {},
   "outputs": [
    {
     "name": "stdout",
     "output_type": "stream",
     "text": [
      "True\n"
     ]
    }
   ],
   "source": [
    "data = pd.Series([True,True,False,True])\n",
    "result = data.all() | data.any()\n",
    "print(result)"
   ]
  },
  {
   "cell_type": "code",
   "execution_count": 26,
   "id": "ba5b3255",
   "metadata": {},
   "outputs": [
    {
     "name": "stdout",
     "output_type": "stream",
     "text": [
      "50\n"
     ]
    }
   ],
   "source": [
    "series = pd.Series(range(1,50))\n",
    "result = series.max() + min(series)\n",
    "print(result)"
   ]
  },
  {
   "cell_type": "code",
   "execution_count": 27,
   "id": "683e118e",
   "metadata": {},
   "outputs": [
    {
     "name": "stdout",
     "output_type": "stream",
     "text": [
      "BERLIN\n"
     ]
    }
   ],
   "source": [
    "cities = {1:'London',2:'Berlin',3:'Amsterdam'}\n",
    "zips = pd.Series(data = cities)\n",
    "zips = zips.apply(lambda x:x.upper())   #The Series method apply() applies a function to all values in the Series.\n",
    "result = zips.loc[2]\n",
    "print(result)"
   ]
  },
  {
   "cell_type": "code",
   "execution_count": 31,
   "id": "77842983",
   "metadata": {},
   "outputs": [
    {
     "name": "stdout",
     "output_type": "stream",
     "text": [
      "2    1\n",
      "3    3\n",
      "4    5\n",
      "1    6\n",
      "0    8\n",
      "dtype: int64\n",
      "8\n"
     ]
    }
   ],
   "source": [
    "data = pd.Series([8,6,1,3,5])\n",
    "data.sort_values(inplace = True)   #If you set inplace argument to True, Pandas applies the changes in-place, so that \n",
    "result = data[0]                # you don't need to reassign the result to a new variable or overwrite an existing one.\n",
    "                           #While this can improce readability and reduce the likelihood of bugs in your code, this also means \n",
    "print(result)            # that you can't do method chaining."
   ]
  },
  {
   "cell_type": "code",
   "execution_count": 32,
   "id": "e4f89704",
   "metadata": {},
   "outputs": [
    {
     "name": "stdout",
     "output_type": "stream",
     "text": [
      "False\n"
     ]
    }
   ],
   "source": [
    "data = pd.Series(range(0,100,50))\n",
    "x = data > 50\n",
    "result = x.any()\n",
    "print(result)"
   ]
  },
  {
   "cell_type": "code",
   "execution_count": 33,
   "id": "fe53c7df",
   "metadata": {},
   "outputs": [
    {
     "name": "stdout",
     "output_type": "stream",
     "text": [
      "True\n"
     ]
    }
   ],
   "source": [
    "xs = pd.Series([5,1,4,2,3])\n",
    "xs.where(xs > 2, inplace =True)   #The method where() filters a Series by a condition. Only the elements that satisfy \n",
    "result = xs.hasnans               # the condition remain in the resulting Series.\n",
    "print(result)"
   ]
  },
  {
   "cell_type": "code",
   "execution_count": 34,
   "id": "d3a4bcc7",
   "metadata": {},
   "outputs": [
    {
     "name": "stdout",
     "output_type": "stream",
     "text": [
      "0    3\n",
      "1    2\n",
      "2    0\n",
      "3    1\n",
      "dtype: int64\n"
     ]
    }
   ],
   "source": [
    "data = pd.Series([3,2,0,1])\n",
    "data.sort_values().sort_index()       #The Series method sort_values() sorts the Series by value. Because you don't set the\n",
    "print(data)                         #argument inplace=True,the method returns the sorted Series, and you can call another\n",
    "                            #method on the returned Series. This is denoted as method chaining."
   ]
  },
  {
   "cell_type": "code",
   "execution_count": 35,
   "id": "df30761a",
   "metadata": {},
   "outputs": [
    {
     "name": "stdout",
     "output_type": "stream",
     "text": [
      "10\n"
     ]
    }
   ],
   "source": [
    "data = pd.Series(range(10))\n",
    "result = data.cumsum(axis = 0)[4] #The method cumsum() computes cumulative sums -the i-th sum is computed as the (i-1)-th sum\n",
    "print(result)                       #plus the i-th element."
   ]
  },
  {
   "cell_type": "code",
   "execution_count": 37,
   "id": "e292ead1",
   "metadata": {},
   "outputs": [
    {
     "name": "stdout",
     "output_type": "stream",
     "text": [
      "4\n"
     ]
    }
   ],
   "source": [
    "a = pd.Series(range(1,9))\n",
    "b = pd.Series(range(1,9))\n",
    "result = (a + b)[1]              # The Series do not need to have the same size because once the first Series ends\n",
    "print(result)                   # the subsequent element-wise results are NaN values."
   ]
  },
  {
   "cell_type": "code",
   "execution_count": 41,
   "id": "551dc2be",
   "metadata": {},
   "outputs": [
    {
     "name": "stdout",
     "output_type": "stream",
     "text": [
      "    Color  Number\n",
      "0    blue     7.0\n",
      "1   white     3.0\n",
      "2  yellow     2.1\n",
      "0    14.0\n",
      "1    15.0\n",
      "2    16.8\n",
      "dtype: float64\n",
      "45.8\n"
     ]
    }
   ],
   "source": [
    "data = [['blue',7.0],['white',3.0],['yellow',2.1]]\n",
    "df = pd.DataFrame(data, columns= ['Color','Number'])\n",
    "print(df)\n",
    "lst = pd.Series([2,5,8])\n",
    "print(df['Number']*lst)\n",
    "result = (df['Number']*lst).sum()\n",
    "print(result)"
   ]
  },
  {
   "cell_type": "code",
   "execution_count": 42,
   "id": "95aae18b",
   "metadata": {},
   "outputs": [
    {
     "name": "stdout",
     "output_type": "stream",
     "text": [
      "   color  number  Count\n",
      "0   blue       2     11\n",
      "1  white       3     12\n",
      "2  green       5     13\n"
     ]
    }
   ],
   "source": [
    "color = ['blue','white','green']\n",
    "number = [2,3,5]\n",
    "data = {'color':color, 'number':number}\n",
    "\n",
    "df = pd.DataFrame(data)\n",
    "\n",
    "df['Count'] = [11,12,13]\n",
    "print(df)\n",
    "\n"
   ]
  },
  {
   "cell_type": "code",
   "execution_count": 46,
   "id": "869f542f",
   "metadata": {},
   "outputs": [
    {
     "name": "stdout",
     "output_type": "stream",
     "text": [
      "Audi\n"
     ]
    }
   ],
   "source": [
    "data = [{'Car':'Ferrari','Deriver':'Schumacher, Michael'},{'Car':'Lamborghini','Deriver':'Hamilton, Lewis'},\n",
    "             {'Car':'Audi'},  {'Car':'Mercedes'}             ]\n",
    "df = pd.DataFrame(data,index=['Rank 3', 'Rank 2','Rank 1','Rank 4'])\n",
    "\n",
    "df.sort_index(inplace=True)\n",
    "result = df['Car'].iloc[0]\n",
    "print(result)"
   ]
  },
  {
   "cell_type": "code",
   "execution_count": 47,
   "id": "5a883f7b",
   "metadata": {},
   "outputs": [
    {
     "name": "stdout",
     "output_type": "stream",
     "text": [
      "     Name  Number\n",
      "A    Blue      23\n",
      "B   Black      11\n",
      "C  Yellow      17\n",
      "11\n"
     ]
    }
   ],
   "source": [
    "names = ['Blue','Black','Yellow']\n",
    "number = [23,11,17]\n",
    "data = list(zip(names,number))\n",
    "\n",
    "df = pd.DataFrame(data, index = ['A','B','C'], columns = ['Name','Number'])\n",
    "print(df)\n",
    "result = df.loc['B','Number']\n",
    "print(result)"
   ]
  },
  {
   "cell_type": "code",
   "execution_count": 51,
   "id": "262f0b0d",
   "metadata": {},
   "outputs": [
    {
     "name": "stdout",
     "output_type": "stream",
     "text": [
      "    1   2   3   4   5   6   7   8   9    10\n",
      "1    1   2   3   4   5   6   7   8   9   10\n",
      "2    2   4   6   8  10  12  14  16  18   20\n",
      "3    3   6   9  12  15  18  21  24  27   30\n",
      "4    4   8  12  16  20  24  28  32  36   40\n",
      "5    5  10  15  20  25  30  35  40  45   50\n",
      "6    6  12  18  24  30  36  42  48  54   60\n",
      "7    7  14  21  28  35  42  49  56  63   70\n",
      "8    8  16  24  32  40  48  56  64  72   80\n",
      "9    9  18  27  36  45  54  63  72  81   90\n",
      "10  10  20  30  40  50  60  70  80  90  100\n",
      "20\n"
     ]
    }
   ],
   "source": [
    "data = {}\n",
    "idx = range(1,11)\n",
    "for i in range(1,11):\n",
    "    column = pd.Series(range(i,i*10+1,i),index = idx)\n",
    "    data[i] = column\n",
    "table = pd.DataFrame(data,index = range(1,11))\n",
    "print(table)\n",
    "result = table.loc[4,5]\n",
    "print(result)"
   ]
  },
  {
   "cell_type": "code",
   "execution_count": null,
   "id": "79276ddf",
   "metadata": {},
   "outputs": [],
   "source": [
    "# The DataFrame's head() method returns the first n rows. \n",
    "\n",
    "# The method tail of a DataFrame returns the last n rows.\n",
    "\n",
    "# The index iloc[] if Pandas DataFrames is integer-location based.\n",
    "\n",
    "# The index loc[] of a DataFrame is label-based, but you can also use it with list of Boolean values.\n",
    "\n",
    "# The method count() does not include NaN values.\n",
    "\n",
    "# The method info() prints information about DataFrame -including the index data type and column data types, non-null values\n",
    "# and memory usage.\n",
    "\n",
    "# The method describe() generates descriptive statistics. Descriptive statistics include those that summarize the central \n",
    "# tendency, dispersion, and shape of a dataset's distribution, excluding NaN values.\n",
    "\n",
    "# The method memory_usage() of Pandas DataFrames returns the memory usage in bytes for each column. It's useful for optimizing\n",
    "# the memory footprint of machine learning models that may need a lot of memory.\n",
    "\n",
    "# The method filter() on a DataFrame you can filer the columns. \n",
    "\n",
    "# The method fillna() replaces NaN values with a new value.\n",
    "\n",
    "# The method groupby() of the DataFrame class groups values by a given column -so all rows with the same column values\n",
    "# will be aggregated. You can reverse the grouping with the method explode()."
   ]
  },
  {
   "cell_type": "code",
   "execution_count": 53,
   "id": "dd65fb7d",
   "metadata": {},
   "outputs": [
    {
     "name": "stdout",
     "output_type": "stream",
     "text": [
      "1    [a]\n",
      "2    [b]\n",
      "3    [c]\n",
      "dtype: object\n",
      "   1  2  3\n",
      "0  a  b  c\n",
      "False\n"
     ]
    }
   ],
   "source": [
    "dct = {1:['a'],2:['b'],3:['c']}\n",
    "\n",
    "result1 = pd.Series(dct)\n",
    "result2 = pd.DataFrame(dct)\n",
    "\n",
    "print(result1)\n",
    "print(result2)\n",
    "\n",
    "print(len(result1) == len(result2))  #The number of rows of the Series and DataFrame are different."
   ]
  },
  {
   "cell_type": "code",
   "execution_count": 57,
   "id": "62724edf",
   "metadata": {},
   "outputs": [
    {
     "name": "stdout",
     "output_type": "stream",
     "text": [
      "[ True  True  True  True]\n"
     ]
    },
    {
     "name": "stderr",
     "output_type": "stream",
     "text": [
      "<ipython-input-57-0b024c7a9d22>:1: FutureWarning: The pandas.np module is deprecated and will be removed from pandas in a future version. Import numpy directly instead\n",
      "  a = pd.np.array([1,2,3,4])\n"
     ]
    }
   ],
   "source": [
    "a = pd.np.array([1,2,3,4])\n",
    "b = np.array([1,2,3,4])\n",
    "\n",
    "c = a == b   \n",
    "print(c)"
   ]
  },
  {
   "cell_type": "code",
   "execution_count": null,
   "id": "70006251",
   "metadata": {},
   "outputs": [],
   "source": []
  },
  {
   "cell_type": "code",
   "execution_count": null,
   "id": "aa59600b",
   "metadata": {},
   "outputs": [],
   "source": []
  },
  {
   "cell_type": "code",
   "execution_count": null,
   "id": "0c88e06a",
   "metadata": {},
   "outputs": [],
   "source": []
  },
  {
   "cell_type": "code",
   "execution_count": null,
   "id": "3fc83e13",
   "metadata": {},
   "outputs": [],
   "source": []
  },
  {
   "cell_type": "code",
   "execution_count": null,
   "id": "acb277ab",
   "metadata": {},
   "outputs": [],
   "source": []
  },
  {
   "cell_type": "code",
   "execution_count": null,
   "id": "d77a301a",
   "metadata": {},
   "outputs": [],
   "source": []
  },
  {
   "cell_type": "code",
   "execution_count": null,
   "id": "b31f2ee9",
   "metadata": {},
   "outputs": [],
   "source": []
  }
 ],
 "metadata": {
  "kernelspec": {
   "display_name": "Python 3",
   "language": "python",
   "name": "python3"
  },
  "language_info": {
   "codemirror_mode": {
    "name": "ipython",
    "version": 3
   },
   "file_extension": ".py",
   "mimetype": "text/x-python",
   "name": "python",
   "nbconvert_exporter": "python",
   "pygments_lexer": "ipython3",
   "version": "3.8.8"
  }
 },
 "nbformat": 4,
 "nbformat_minor": 5
}
