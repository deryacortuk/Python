{
 "cells": [
  {
   "cell_type": "code",
   "execution_count": 1,
   "id": "e6d63ae1",
   "metadata": {},
   "outputs": [],
   "source": [
    "# Kruskal’s Algorithm\n",
    "# Kruskal's algorithm is a minimum spanning tree algorithm that takes a graph as input and finds the subset of the edges of that\n",
    "# graph which form a tree that includes every vertex, which has the minimum sum of weights among all the trees that can be\n",
    "# form the graph. Avoid any cycle formation at each step. \n",
    "# Minimum spanning Tree: Given connected graph G with positive edge weights, find a min weight set of edges that connects\n",
    "# all of the vertices.(Network design: telephone,electrical, hydraulic,Tv cable,computer,road)\n",
    "\n",
    "# The implementation of Kruskal's algorithm is ased on the following steps:\n",
    "# 1. Sort all the edges of the graph from low weight to high.\n",
    "# 2. Take the edge of the lowest weight and add it to the required spanning tree. If adding this creates a cycle in the \n",
    "# graph, then reject this edge.\n",
    "# Repeat this process until all the vertices are covered with the edges.\n"
   ]
  },
  {
   "cell_type": "code",
   "execution_count": 4,
   "id": "8c7eaf90",
   "metadata": {},
   "outputs": [
    {
     "name": "stdout",
     "output_type": "stream",
     "text": [
      "1 - 4: 2\n",
      "5 - 4: 2\n",
      "3 - 4: 3\n",
      "3 - 4: 3\n",
      "0 - 4: 4\n",
      "Minimum Spanning Tree: 14\n"
     ]
    }
   ],
   "source": [
    "class Graph:\n",
    "    def __init__(self,vertices):\n",
    "        self.vertices =vertices\n",
    "        self.graph = []\n",
    "        \n",
    "    def add_edge(self,u,v,w):\n",
    "        self.graph.append([u,v,w])\n",
    "    \n",
    "    def find(self,parent,i):\n",
    "        if parent[i] == i:\n",
    "            return i\n",
    "        return self.find(parent,parent[i])\n",
    "    \n",
    "    def apply_union(self,parent,rank,x,y):\n",
    "        xroot = self.find(parent,x)\n",
    "        yroot = self.find(parent,y)\n",
    "        \n",
    "        if rank[xroot] < rank[yroot]:\n",
    "            parent[xroot] = yroot\n",
    "        else:\n",
    "            parent[yroot] = xroot\n",
    "            rank[xroot] += 1\n",
    "            \n",
    "    def kruskal(self):\n",
    "        result = []\n",
    "        i, e = 0,0\n",
    "        self.graph = sorted(self.graph,key = lambda item: item[2])\n",
    "        parent = []\n",
    "        rank = []\n",
    "        \n",
    "        for node in range(self.vertices):\n",
    "            parent.append(node)\n",
    "            rank.append(0)\n",
    "        while e < self.vertices -1:\n",
    "            u,v,w = self.graph[i]\n",
    "            i +=1\n",
    "            x = self.find(parent,u)\n",
    "            y = self.find(parent,v)\n",
    "            \n",
    "            if x != y:\n",
    "                e += 1\n",
    "                result.append([u,v,w])\n",
    "                self.apply_union(parent,rank,x,y)\n",
    "        mincost = 0\n",
    "        for u,v,weight in result:\n",
    "            mincost += weight\n",
    "            print(\"%d - %d: %d\" %(u,w,weight))\n",
    "        print(\"Minimum Spanning Tree:\", mincost)\n",
    "            \n",
    "g = Graph(6)\n",
    "g.add_edge(0,1,4)   \n",
    "g.add_edge(0,2,4)       \n",
    "g.add_edge(1,2,2)       \n",
    "g.add_edge(1,0,4)       \n",
    "g.add_edge(2,0,4)       \n",
    "g.add_edge(2,1,2)       \n",
    "g.add_edge(2,4,4)       \n",
    "g.add_edge(3,2,3)       \n",
    "g.add_edge(3,4,3)   \n",
    "g.add_edge(4,3,3)   \n",
    "g.add_edge(4,2,4) \n",
    "g.add_edge(5,2,2)   \n",
    "g.add_edge(5,4,3)   \n",
    "g.kruskal()"
   ]
  },
  {
   "cell_type": "code",
   "execution_count": null,
   "id": "e70333ae",
   "metadata": {},
   "outputs": [],
   "source": []
  }
 ],
 "metadata": {
  "kernelspec": {
   "display_name": "Python 3",
   "language": "python",
   "name": "python3"
  },
  "language_info": {
   "codemirror_mode": {
    "name": "ipython",
    "version": 3
   },
   "file_extension": ".py",
   "mimetype": "text/x-python",
   "name": "python",
   "nbconvert_exporter": "python",
   "pygments_lexer": "ipython3",
   "version": "3.8.8"
  }
 },
 "nbformat": 4,
 "nbformat_minor": 5
}
