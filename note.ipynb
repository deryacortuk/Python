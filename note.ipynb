{
 "cells": [
  {
   "cell_type": "code",
   "execution_count": 3,
   "id": "651401e9",
   "metadata": {},
   "outputs": [
    {
     "name": "stderr",
     "output_type": "stream",
     "text": [
      "WARNING:root:Warning:config file server.conf not found\n",
      "ERROR:root:Error occurred\n",
      "CRITICAL:root:Critical error -- shutting down\n"
     ]
    }
   ],
   "source": [
    "import logging\n",
    "logging.debug('Debugging information')\n",
    "logging.info('Informational message')\n",
    "logging.warning('Warning:config file %s not found', 'server.conf')\n",
    "logging.error('Error occurred')\n",
    "logging.critical('Critical error -- shutting down')\n"
   ]
  },
  {
   "cell_type": "code",
   "execution_count": 7,
   "id": "c4f87341",
   "metadata": {},
   "outputs": [
    {
     "data": {
      "text/plain": [
       "3820.0"
      ]
     },
     "execution_count": 7,
     "metadata": {},
     "output_type": "execute_result"
    }
   ],
   "source": [
    "from array import array\n",
    "a = array('d', [3200, 40, 35, 545])\n",
    "sum(a)"
   ]
  },
  {
   "cell_type": "code",
   "execution_count": 11,
   "id": "0634ffb8",
   "metadata": {},
   "outputs": [
    {
     "data": {
      "text/plain": [
       "[(100, 'perl'), (200, 'tcl'), (300, 'ruby'), (400, 'lua'), (500, 'python')]"
      ]
     },
     "execution_count": 11,
     "metadata": {},
     "output_type": "execute_result"
    }
   ],
   "source": [
    "import bisect\n",
    "scores = [(100, 'perl'), (200, 'tcl'), (400, 'lua'), (500, 'python')]\n",
    "bisect.insort(scores, (300, 'ruby'))\n",
    "scores"
   ]
  },
  {
   "cell_type": "code",
   "execution_count": 12,
   "id": "f1c94f2e",
   "metadata": {},
   "outputs": [
    {
     "data": {
      "text/plain": [
       "[-5, 0, 1]"
      ]
     },
     "execution_count": 12,
     "metadata": {},
     "output_type": "execute_result"
    }
   ],
   "source": [
    "from heapq import heapify, heappop, heappush\n",
    "data = [1, 3, 5, 7, 9, 2, 4, 6, 8, 0]\n",
    "heapify(data)             \n",
    "heappush(data, -5)                   \n",
    "[heappop(data) for i in range(3)]             "
   ]
  },
  {
   "cell_type": "code",
   "execution_count": 13,
   "id": "14360966",
   "metadata": {},
   "outputs": [],
   "source": [
    "import os\n",
    "filename = os.environ.get('PYTHONSTARTUP')\n",
    "if filename and os.path.isfile(filename):\n",
    "    with open(filename) as fobj:\n",
    "        startup_file = fobj.read()\n",
    "    exec(startup_file)"
   ]
  },
  {
   "cell_type": "code",
   "execution_count": 14,
   "id": "7766c44b",
   "metadata": {},
   "outputs": [
    {
     "data": {
      "text/plain": [
       "'C:\\\\Users\\\\Derya\\\\AppData\\\\Roaming\\\\Python\\\\Python38\\\\site-packages'"
      ]
     },
     "execution_count": 14,
     "metadata": {},
     "output_type": "execute_result"
    }
   ],
   "source": [
    "import site\n",
    "site.getusersitepackages()"
   ]
  },
  {
   "cell_type": "code",
   "execution_count": 16,
   "id": "34c603d6",
   "metadata": {},
   "outputs": [
    {
     "name": "stdout",
     "output_type": "stream",
     "text": [
      "119\n"
     ]
    }
   ],
   "source": [
    "def mlpy_two_numbers(a: int, b: int) -> int:\n",
    "    return a * b\n",
    "print(mlpy_two_numbers(7,17))"
   ]
  },
  {
   "cell_type": "code",
   "execution_count": 18,
   "id": "b585d864",
   "metadata": {},
   "outputs": [
    {
     "data": {
      "text/plain": [
       "1015"
      ]
     },
     "execution_count": 18,
     "metadata": {},
     "output_type": "execute_result"
    }
   ],
   "source": [
    "sum(i*i for i in range(15))\n",
    "\n",
    "# Generator expression An expression that returns an iterator. It looks like a normal expression followed\n",
    "# by a for expression defining a loop variable, range, and an optional if expression."
   ]
  },
  {
   "cell_type": "code",
   "execution_count": 19,
   "id": "471b24fe",
   "metadata": {},
   "outputs": [],
   "source": [
    "# Global interpreter lock The mechanism used by the CPython interpreter to assure that only one thread\n",
    "# executes Python bytecode at a time. This simplifies the CPython implementation by making the object\n",
    "# model (including critical built-in types such as dict) implicitly safe against concurrent access. Locking\n",
    "# the entire interpreter makes it easier for the interpreter to be multi-threaded, at the expense of much\n",
    "# of the parallelism afforded by multi-processor machines.\n",
    "# However, some extension modules, either standard or third-party, are designed so as to release the GIL\n",
    "# when doing computationally-intensive tasks such as compression or hashing. Also, the GIL is always\n",
    "# released when doing I/O.\n",
    "# Past efforts to create a “free-threaded” interpreter (one which locks shared data at a much finer\n",
    "# granularity) have not been successful because performance suffered in the common single-processor\n",
    "# case. It is believed that overcoming this performance issue would make the implementation much more\n",
    "# complicated and therefore costlier to maintain."
   ]
  },
  {
   "cell_type": "code",
   "execution_count": 20,
   "id": "863645dc",
   "metadata": {},
   "outputs": [],
   "source": [
    "# An object is hashable if it has a hash value which never changes during its lifetime (it needs a\n",
    "# __hash__() method), and can be compared to other objects (it needs an __eq__() method). Hashable\n",
    "# objects which compare equal must have the same hash value.\n",
    "# Hashability makes an object usable as a dictionary key and a set member, because these data structures\n",
    "# use the hash value internally.\n",
    "# All of Python’s immutable built-in objects are hashable; mutable containers \n",
    "# (such as lists or dictionaries) are not. Objects which are instances of user-defined classes are hashable by default. \n",
    "# They all compare unequal (except with themselves), and their hash value is derived from their id()."
   ]
  },
  {
   "cell_type": "code",
   "execution_count": 21,
   "id": "498277bd",
   "metadata": {},
   "outputs": [],
   "source": [
    "# (Iterable)  An object capable of returning its members one at a time. Examples of iterables include all\n",
    "# sequence types (such as list, str, and tuple) and some non-sequence types like dict, file objects,\n",
    "# and objects of any classes you define with an __iter__() method or with a __getitem__() method\n",
    "# that implements Sequence semantics.\n",
    "# Iterables can be used in a for loop and in many other places where a sequence is needed (zip(), map(),\n",
    "# …). When an iterable object is passed as an argument to the built-in function iter(), it returns an\n",
    "# iterator for the object. This iterator is good for one pass over the set of values. When using iterables,\n",
    "# it is usually not necessary to call iter() or deal with iterator objects yourself. The for statement\n",
    "# does that automatically for you, creating a temporary unnamed variable to hold the iterator for the\n",
    "# duration of the loop."
   ]
  },
  {
   "cell_type": "code",
   "execution_count": 22,
   "id": "4a47dcea",
   "metadata": {},
   "outputs": [],
   "source": [
    "# lambda An anonymous inline function consisting of a single expression which is evaluated when the function\n",
    "# is called. The syntax to create a lambda function is lambda [parameters]: expression\n"
   ]
  },
  {
   "cell_type": "code",
   "execution_count": 23,
   "id": "00c27357",
   "metadata": {},
   "outputs": [],
   "source": [
    "# (Metaclass )The class of a class. Class definitions create a class name, a class dictionary, and a list of base\n",
    "# classes. The metaclass is responsible for taking those three arguments and creating the class. Most\n",
    "# object oriented programming languages provide a default implementation. What makes Python special\n",
    "# is that it is possible to create custom metaclasses. Most users never need this tool, but when the need\n",
    "# arises, metaclasses can provide powerful, elegant solutions. They have been used for logging attribute\n",
    "# access, adding thread-safety, tracking object creation, implementing singletons, and many other tasks."
   ]
  },
  {
   "cell_type": "code",
   "execution_count": null,
   "id": "e5ca115f",
   "metadata": {},
   "outputs": [],
   "source": [
    "#( __slots__) A declaration inside a class that saves memory by pre-declaring space for instance attributes\n",
    "# and eliminating instance dictionaries. Though popular, the technique is somewhat tricky to get right\n",
    "# and is best reserved for rare cases where there are large numbers of instances in a memory-critical application."
   ]
  }
 ],
 "metadata": {
  "kernelspec": {
   "display_name": "Python 3",
   "language": "python",
   "name": "python3"
  },
  "language_info": {
   "codemirror_mode": {
    "name": "ipython",
    "version": 3
   },
   "file_extension": ".py",
   "mimetype": "text/x-python",
   "name": "python",
   "nbconvert_exporter": "python",
   "pygments_lexer": "ipython3",
   "version": "3.8.8"
  }
 },
 "nbformat": 4,
 "nbformat_minor": 5
}
