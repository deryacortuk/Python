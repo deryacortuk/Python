{
 "cells": [
  {
   "cell_type": "code",
   "execution_count": 1,
   "id": "2e90a700",
   "metadata": {},
   "outputs": [],
   "source": [
    "# Kadane's Algorithm (Maximum Subarray Sum )\n",
    "\n",
    "# The maximum subarray problem is a problem of finding a contiguous subarray with the largest sum, \n",
    "# within a one-dimensional array.As we already know, the maximum subarray problem is considered among the popular problems\n",
    "# in the field of dynamic programming. \n",
    "\n",
    "# Dynamic programming is an algorithmic problem-solving technique for solving a problem by breaking it down into simpler\n",
    "# sub-problems. It uses the fact that the optimum solution to the problem depends upon the optimum solution to the sub-problems.\n",
    "\n",
    "# Kadane's Algorithm is used to find the continuous subarray in the One-Dimensional integer array, \n",
    "# which has the largest sum possible. After understanding the statement of the problem, the primary approach\n",
    "# for everyone will be applying the brute-force approach and solving the problem. However, by performing so, \n",
    "# the solution's time complexity will be O(n^2) which is not impressive at all. Hence, \n",
    "# we will use Kadane's Algorithm to solve the problem by traversing over the entire array with the help of two variables to\n",
    "# track the sum so far and maximum total. The most significant aspect of paying attention to while utilizing this \n",
    "# Algorithm is the condition using which we will update both the variables.\n",
    "\n",
    "#Time Complexity\n",
    "#The time complexity of kadane’s algorithm for an array containing n integer element is O(n) as only one for\n",
    "# loop is to be executed throughout the program. Similarly, the auxiliary space complexity of the algorithm is O(1).\n",
    "\n",
    "#Applications\n",
    "# Finding maximum subarray sum for a given array of integer\n",
    "# Used as an image processing algorithm\n",
    "# It can be used to solve the problems like “Station Travel in Order” and “Hotels Along the Coast”\n",
    "# It is used for business analysis\n",
    "\n",
    "\n",
    "# Algorithm for Maximum Subarray Sum:\n",
    "# Initializing max_till_now = 0\n",
    "# Initializing max_ending = 0\n",
    "# Repeat steps 4 to 6 for every element in the array\n",
    "# Set max_ending = max_ending + a[i]\n",
    "# if (max_ending<0) then set max_ending = 0\n",
    "# if (max_till_now < max_ending) then set max_till_now = max_ending\n",
    "# return max_till_now"
   ]
  },
  {
   "cell_type": "code",
   "execution_count": 4,
   "id": "e46396b4",
   "metadata": {},
   "outputs": [
    {
     "name": "stdout",
     "output_type": "stream",
     "text": [
      "Maximum Sub Array Sum Is 18\n"
     ]
    }
   ],
   "source": [
    "def maxSubArraySum(arr,size):\n",
    "    \n",
    "    max_till_now = arr[0]\n",
    "    max_ending = 0\n",
    "    \n",
    "    for i in range(0, size):\n",
    "        max_ending = max_ending + arr[i]\n",
    "        if max_ending < 0:\n",
    "            max_ending = 0\n",
    "        \n",
    "        \n",
    "        elif (max_till_now < max_ending):\n",
    "            max_till_now = max_ending\n",
    "            \n",
    "    return max_till_now\n",
    "\n",
    "array = [-2,7,-3, 4, 8, -1, -2, 5, -3,-11,-5]\n",
    "print(\"Maximum Sub Array Sum Is\" , maxSubArraySum(array,len(array)))"
   ]
  },
  {
   "cell_type": "code",
   "execution_count": 10,
   "id": "4c57205a",
   "metadata": {},
   "outputs": [
    {
     "name": "stdout",
     "output_type": "stream",
     "text": [
      "Maximum SubArray is: 14\n",
      "Start index of max_Sum: 3\n",
      "End index of max_Sum: 6\n"
     ]
    }
   ],
   "source": [
    "def kadane(MyList):\n",
    "    max_sum = 0\n",
    "    current_sum = 0\n",
    "\n",
    "    max_start = 0\n",
    "    max_end = 0\n",
    "    current_start = 0\n",
    "    current_end = 0\n",
    "\n",
    "    for i in range(len(MyList)): \n",
    "        current_sum += MyList[i]\n",
    "        current_end = i\n",
    "        if current_sum < 0:\n",
    "            current_sum = 0\n",
    "     \n",
    "            current_start = current_end + 1\n",
    "\n",
    "        if max_sum < current_sum:\n",
    "            max_sum = current_sum\n",
    "            max_start = current_start\n",
    "            max_end = current_end\n",
    "      \n",
    "    print(\"Maximum SubArray is:\", max_sum)\n",
    "    print(\"Start index of max_Sum:\", max_start)\n",
    "    print(\"End index of max_Sum:\", max_end)\n",
    "  \n",
    "               \n",
    "mylist = [-3, 1, -8, 12, 0, -3, 5, -9, 4]\n",
    "kadane(mylist)"
   ]
  },
  {
   "cell_type": "code",
   "execution_count": null,
   "id": "9882264a",
   "metadata": {},
   "outputs": [],
   "source": []
  }
 ],
 "metadata": {
  "kernelspec": {
   "display_name": "Python 3",
   "language": "python",
   "name": "python3"
  },
  "language_info": {
   "codemirror_mode": {
    "name": "ipython",
    "version": 3
   },
   "file_extension": ".py",
   "mimetype": "text/x-python",
   "name": "python",
   "nbconvert_exporter": "python",
   "pygments_lexer": "ipython3",
   "version": "3.8.8"
  }
 },
 "nbformat": 4,
 "nbformat_minor": 5
}
