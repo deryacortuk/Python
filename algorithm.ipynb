{
 "cells": [
  {
   "cell_type": "code",
   "execution_count": 3,
   "id": "266367f1",
   "metadata": {},
   "outputs": [
    {
     "name": "stdout",
     "output_type": "stream",
     "text": [
      "True\n"
     ]
    }
   ],
   "source": [
    "def matrix_find(matrix, value):                # The idea of this algorithm form Keith Schwarz is to skip either one row\n",
    "    if not matrix or not matrix[0]:            #  or one column in each step. Thus, for a quadratic matrix with n rows\n",
    "        return False                           #  and columns, the algorithm inspects approximately 2n cells.\n",
    "                                               # Note that a naive algorithm would inspect all n^2 cells which is much slower.\n",
    "    j = len(matrix) - 1\n",
    "    \n",
    "    for row in matrix:\n",
    "        while row[j] > value:\n",
    "            j = j - 1\n",
    "            if j == -1:\n",
    "                return False\n",
    "        if row[j] == value:\n",
    "            return True\n",
    "    return False\n",
    "\n",
    "matrix = [[3,4,5,6],\n",
    "          [6,7,8,9],\n",
    "          [3,9,11,12],\n",
    "          [12,17,11,13]]\n",
    "print(matrix_find(matrix=matrix, value= 11))\n"
   ]
  },
  {
   "cell_type": "code",
   "execution_count": 5,
   "id": "7d8887c8",
   "metadata": {},
   "outputs": [
    {
     "name": "stdout",
     "output_type": "stream",
     "text": [
      "57\n"
     ]
    }
   ],
   "source": [
    "def maximum_profit(prices):\n",
    "    profit = 0\n",
    "    for i, buy_price in enumerate(prices):\n",
    "        sell_price = max(prices[i:])\n",
    "        profit = max(profit,sell_price - buy_price)\n",
    "    return profit\n",
    "prices = [422,455,460,451,465,479,415]\n",
    "print(maximum_profit(prices=prices))"
   ]
  },
  {
   "cell_type": "code",
   "execution_count": 8,
   "id": "cbbdcc4d",
   "metadata": {},
   "outputs": [
    {
     "name": "stdout",
     "output_type": "stream",
     "text": [
      "[2, 5, 6, 7, 12, 18, 31, 44]\n"
     ]
    }
   ],
   "source": [
    "def bubble_sort(lst):\n",
    "    for i in range(len(lst)-1, 0, -1):\n",
    "        for j in range(i):\n",
    "            if lst[j] > lst[j+1]:\n",
    "                lst[j], lst[j+1] = lst[j+1], lst[j]\n",
    "    return lst\n",
    "\n",
    "list1 = [12,31,2,44,5,6,7,18]\n",
    "print(bubble_sort(list1))\n",
    "                                        "
   ]
  },
  {
   "cell_type": "code",
   "execution_count": 9,
   "id": "eeaade73",
   "metadata": {},
   "outputs": [
    {
     "name": "stdout",
     "output_type": "stream",
     "text": [
      "a,b,c,d\n"
     ]
    }
   ],
   "source": [
    "def concatenation(*args, sep= \"/\"):\n",
    "    return sep.join(args)\n",
    "print(concatenation(\"a\",\"b\",\"c\",\"d\", sep =\",\"))"
   ]
  },
  {
   "cell_type": "code",
   "execution_count": 10,
   "id": "df77868f",
   "metadata": {},
   "outputs": [
    {
     "name": "stdout",
     "output_type": "stream",
     "text": [
      "5\n"
     ]
    }
   ],
   "source": [
    "def binary_search(l, value):\n",
    "    lo, hi = 0, len(l) - 1\n",
    "    while lo <= hi:\n",
    "        mid = (lo + hi)//2\n",
    "        if l[mid] < value:\n",
    "            lo = mid + 1\n",
    "        elif value < l[mid]:\n",
    "            hi = mid -1\n",
    "        else:\n",
    "            return mid\n",
    "    return -1\n",
    "\n",
    "l = [0,1,2,3,4,5,6,7]\n",
    "x = 5\n",
    "print(binary_search(l,x))"
   ]
  },
  {
   "cell_type": "code",
   "execution_count": 12,
   "id": "bb441093",
   "metadata": {},
   "outputs": [
    {
     "name": "stdout",
     "output_type": "stream",
     "text": [
      "mouse\n"
     ]
    }
   ],
   "source": [
    "words = ['cat', 'mouse','dog']\n",
    "for word in words[:]:\n",
    "    if len(word) > 3:\n",
    "        words.insert(0,word)\n",
    "print(words[0])"
   ]
  },
  {
   "cell_type": "code",
   "execution_count": 17,
   "id": "8b5e6658",
   "metadata": {},
   "outputs": [
    {
     "name": "stdout",
     "output_type": "stream",
     "text": [
      "17\n",
      "18\n"
     ]
    }
   ],
   "source": [
    "def incrementor(n):\n",
    "    return lambda x:x+n\n",
    "f = incrementor(17)\n",
    "print(f(0))\n",
    "print(f(1))\n"
   ]
  },
  {
   "cell_type": "code",
   "execution_count": 18,
   "id": "28aca58d",
   "metadata": {},
   "outputs": [
    {
     "name": "stdout",
     "output_type": "stream",
     "text": [
      "True\n"
     ]
    }
   ],
   "source": [
    "def fib(n):\n",
    "    result = []\n",
    "    a,b = 0,1\n",
    "    while a < n:\n",
    "        result.append(a)\n",
    "        a,b = b ,a+b\n",
    "    return result\n",
    "\n",
    "fibo = fib(100)\n",
    "print(fibo[-1] == fibo[-2] + fibo[-3])"
   ]
  },
  {
   "cell_type": "code",
   "execution_count": 21,
   "id": "291e0662",
   "metadata": {},
   "outputs": [
    {
     "name": "stdout",
     "output_type": "stream",
     "text": [
      "[0, 11, 18, 19, 21]\n"
     ]
    }
   ],
   "source": [
    "def quick_sort(lst):\n",
    "    if lst :\n",
    "        return quick_sort([x for x in lst[1:] if x < lst[0]]) + lst[:1] + quick_sort([x for x in lst[1:] if x >= lst[0]])\n",
    "    return []\n",
    "\n",
    "print(quick_sort([11,0,18,19,21]))\n",
    "\n",
    "# Like Merge Sort, QuickSort is a Divide and Conquer algorithm. \n",
    "# It picks an element as pivot and partitions the given array around the picked pivot.\n",
    "# There are many different versions of quickSort that pick pivot in different ways. \n",
    "# Always pick first element as pivot.\n",
    "# Always pick last element as pivot.\n",
    "# Pick a random element as pivot.\n",
    "# Pick median as pivot\n"
   ]
  },
  {
   "cell_type": "code",
   "execution_count": 22,
   "id": "4b9ec0d9",
   "metadata": {},
   "outputs": [
    {
     "name": "stdout",
     "output_type": "stream",
     "text": [
      "14\n"
     ]
    }
   ],
   "source": [
    "def func(x = 3,y =7,z =9):\n",
    "    return x + y + z\n",
    "values ={'x': 11,'z':-4}\n",
    "print(func(**values))"
   ]
  },
  {
   "cell_type": "code",
   "execution_count": 24,
   "id": "f840aca7",
   "metadata": {},
   "outputs": [
    {
     "name": "stdout",
     "output_type": "stream",
     "text": [
      "False\n"
     ]
    }
   ],
   "source": [
    "def graph_path(graph, v_start,v_end,path_len=0):\n",
    "    \n",
    "    if path_len >= len(graph):\n",
    "        return False                                       # These data structures are denoted as complex data structures.\n",
    "                                                           #  Data structures like lists, sets, dictionaries.\n",
    "    if graph[v_start][v_end]:                              # Graph is just another complex data structure for relational data.\n",
    "        return True                                        # Relational data consist of edges and vertices. Each vertex stands\n",
    "                                                           # in one or more relations with other vertices.\n",
    "    for v_nbor,edge in enumerate(graph[v_start]):\n",
    "        if edge:\n",
    "            if graph_path(graph,v_nbor,v_end,path_len +1):\n",
    "                return True\n",
    "    return False\n",
    "\n",
    "Graph = [[1,1,0,0,0],\n",
    "         [0,1,0,0,0],\n",
    "         [0,1,1,0,0],\n",
    "         [0,1,1,1,0],\n",
    "         [1,0,0,0,1]]      \n",
    "print(graph_path(graph=Graph,v_start=2,v_end=0))"
   ]
  },
  {
   "cell_type": "code",
   "execution_count": 28,
   "id": "66baed84",
   "metadata": {},
   "outputs": [
    {
     "name": "stdout",
     "output_type": "stream",
     "text": [
      "[(8, 'acht'), (3, 'drei'), (5, 'fünf'), (6, 'sechs'), (7, 'sieben')]\n"
     ]
    }
   ],
   "source": [
    "pairs = [(3,'drei'),(5,'fünf'),(6,'sechs'), (7,'sieben'),(8,'acht')]\n",
    "\n",
    "pairs.sort(key = lambda pair: pair[1])   # lexicographical sorting (ascending)\n",
    "\n",
    "print(pairs)"
   ]
  },
  {
   "cell_type": "code",
   "execution_count": 29,
   "id": "00d0b827",
   "metadata": {},
   "outputs": [
    {
     "name": "stdout",
     "output_type": "stream",
     "text": [
      "True\n"
     ]
    }
   ],
   "source": [
    "def encrypt(text):\n",
    "    encrypted = map(lambda c : chr(ord(c) + 2), text)\n",
    "    return ''.join(encrypted)\n",
    "\n",
    "def decrypt(text):\n",
    "    decrypted = map(lambda c : chr(ord(c) - 2), text)\n",
    "    return ''.join(decrypted)\n",
    "s = \"xPartitionAlgorithmx\"\n",
    "print(decrypt(encrypt(encrypt(s))) == encrypt(s))"
   ]
  },
  {
   "cell_type": "code",
   "execution_count": 30,
   "id": "02fe6c04",
   "metadata": {},
   "outputs": [
    {
     "name": "stdout",
     "output_type": "stream",
     "text": [
      "10\n"
     ]
    }
   ],
   "source": [
    "import random\n",
    "\n",
    "def guess(x,y):\n",
    "    return random.randint(x,y)\n",
    "def check(x,y):\n",
    "    return y**2 == x\n",
    "x = 100\n",
    "a, b = 0, x\n",
    "\n",
    "y = guess(a,b)\n",
    "while not check(x,y):\n",
    "    y = guess(a,b)\n",
    "print(y)"
   ]
  },
  {
   "cell_type": "code",
   "execution_count": null,
   "id": "96e594d6",
   "metadata": {},
   "outputs": [],
   "source": []
  }
 ],
 "metadata": {
  "kernelspec": {
   "display_name": "Python 3",
   "language": "python",
   "name": "python3"
  },
  "language_info": {
   "codemirror_mode": {
    "name": "ipython",
    "version": 3
   },
   "file_extension": ".py",
   "mimetype": "text/x-python",
   "name": "python",
   "nbconvert_exporter": "python",
   "pygments_lexer": "ipython3",
   "version": "3.8.8"
  }
 },
 "nbformat": 4,
 "nbformat_minor": 5
}
