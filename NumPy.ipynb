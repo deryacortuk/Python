{
 "cells": [
  {
   "cell_type": "code",
   "execution_count": 15,
   "id": "778804c9",
   "metadata": {},
   "outputs": [
    {
     "name": "stdout",
     "output_type": "stream",
     "text": [
      "[16.5 13.5 13. ]\n"
     ]
    }
   ],
   "source": [
    "import numpy as np\n",
    "\n",
    "stock_prices = np.array([[12,14,15],[21,13,11]])\n",
    "print(np.average(stock_prices,axis=0))"
   ]
  },
  {
   "cell_type": "code",
   "execution_count": 20,
   "id": "75db7917",
   "metadata": {},
   "outputs": [
    {
     "name": "stdout",
     "output_type": "stream",
     "text": [
      "[[6 2 1 3 4 5 3]\n",
      " [4 3 1 2 3 4 3]\n",
      " [2 2 4 2 6 4 3]]\n"
     ]
    }
   ],
   "source": [
    "sensor_data = np.array([6,2,1,3,4,5,6,4,3,1,2,3,4,6,2,2,4,2,6,4,1])\n",
    "\n",
    "sensor_data[6::7] = np.average(sensor_data.reshape(-1,7),axis =1)\n",
    "print(sensor_data.reshape(-1,7))"
   ]
  },
  {
   "cell_type": "code",
   "execution_count": 21,
   "id": "d45525a2",
   "metadata": {},
   "outputs": [
    {
     "name": "stdout",
     "output_type": "stream",
     "text": [
      "[ 1  2  3  5  6  6  9 11]\n",
      "[5 6 2 3 4 7 1 0]\n"
     ]
    }
   ],
   "source": [
    "# Numpy provides various sorting algorithm. The default is the popular Quicksort algorithm.\n",
    "a = np.array([11,9,3,5,6,1,2,6])\n",
    "print(np.sort(a))\n",
    "print(np.argsort(a))"
   ]
  },
  {
   "cell_type": "code",
   "execution_count": 25,
   "id": "33b94791",
   "metadata": {},
   "outputs": [
    {
     "name": "stdout",
     "output_type": "stream",
     "text": [
      "[[11 12  4]\n",
      " [ 3  4  1]\n",
      " [ 7  5  2]]\n",
      "*******\n",
      "[[ 3  4  1]\n",
      " [ 7  5  2]\n",
      " [11 12  4]]\n",
      "*******\n",
      "[[ 4 11 12]\n",
      " [ 1  3  4]\n",
      " [ 2  5  7]]\n"
     ]
    }
   ],
   "source": [
    "x = np.array([[11,12,4],[3,4,1],[7,5,2]])\n",
    "print(x)\n",
    "print(\"*******\")                    \n",
    "print(np.sort(x, axis=0))       # The array has two axes: axis 0(the rows) and axis 1(the columns)\n",
    "print(\"*******\")\n",
    "print(np.sort(x, axis=1))"
   ]
  },
  {
   "cell_type": "code",
   "execution_count": 27,
   "id": "75b61097",
   "metadata": {},
   "outputs": [
    {
     "name": "stdout",
     "output_type": "stream",
     "text": [
      "['blue' 'white' 'orange']\n",
      "[4 6 3 1 0 5 2]\n",
      "['green' 'red' 'black' 'gray' 'orange' 'white' 'blue']\n"
     ]
    }
   ],
   "source": [
    "sat_scores = np.array([1343,1256,1543,1100,989,1412,1043])\n",
    "students = np.array([\"orange\",\"gray\",\"blue\",\"black\",\"green\",\"white\",\"red\"])\n",
    "top_3 = students[np.argsort(sat_scores)][:-4:-1]\n",
    "\n",
    "print(top_3)\n",
    "\n",
    "print(np.argsort(sat_scores))\n",
    "\n",
    "print(students[np.argsort(sat_scores)])"
   ]
  },
  {
   "cell_type": "code",
   "execution_count": 30,
   "id": "8b12e8f9",
   "metadata": {},
   "outputs": [
    {
     "name": "stdout",
     "output_type": "stream",
     "text": [
      "[['apple' '4.4']\n",
      " ['banana' '4.6']]\n"
     ]
    }
   ],
   "source": [
    "data = np.array([['apple',4.4],['orange',4.1],['banana',4.6],['melon',4.2],['pear',4.0]])\n",
    "\n",
    "search = lambda x,y: x[x[:,1].astype(float) > y]\n",
    "print(search(data,4.3))"
   ]
  },
  {
   "cell_type": "code",
   "execution_count": 35,
   "id": "39c32b1a",
   "metadata": {},
   "outputs": [
    {
     "data": {
      "image/png": "[encoded data removed]",
      "text/plain": [
       "<Figure size 432x288 with 1 Axes>"
      ]
     },
     "metadata": {},
     "output_type": "display_data"
    }
   ],
   "source": [
    "import matplotlib.pyplot as plt\n",
    "\n",
    "data = np.random.normal(10.0,1.0,500)     # np.random.normal(mean,deviation,shape)\n",
    "\n",
    "\n",
    "plt.xkcd()          # plt.xkcd() plots the histogram based on the sequence using plt.hist(data) \n",
    "plt.hist(data)            # The name of the xkcd plot is taken from the popular web comic page xkcd \n",
    "plt.annotate(r'$\\omega_1=21$',(21,100))\n",
    "plt.annotate(r'$\\omega_2=23$',(23,100))\n",
    "plt.annotate(r'$\\omega_3=25$',(25,100))\n",
    "plt.savefig(\"data.jpg\")\n",
    "plt.show()"
   ]
  },
  {
   "cell_type": "code",
   "execution_count": 37,
   "id": "818fe1e9",
   "metadata": {},
   "outputs": [
    {
     "name": "stdout",
     "output_type": "stream",
     "text": [
      "[False False  True]\n",
      "[ True  True  True]\n"
     ]
    }
   ],
   "source": [
    "x = np.array([True,False,True])\n",
    "y = np.array([False,True,True])\n",
    "print(np.logical_and(x,y))\n",
    "print(np.logical_or(x,y))"
   ]
  },
  {
   "cell_type": "code",
   "execution_count": 59,
   "id": "4c524820",
   "metadata": {},
   "outputs": [
    {
     "name": "stdout",
     "output_type": "stream",
     "text": [
      "[[1008   65  128]]\n"
     ]
    }
   ],
   "source": [
    "data = np.array([[815,70,115], [767,80,50],[912,74,77],[554,88,70],[1008,65,128]])\n",
    "\n",
    "mean,std_deviation = np.mean(data,axis = 0), np.std(data, axis=0)\n",
    "\n",
    "\n",
    "\n",
    "outliers = ((np.abs(data[:,0] - mean[0]) > std_deviation[0]) \n",
    "             * (np.abs(data[:,1] - mean[1]) > std_deviation[1])\n",
    "            * ( np.abs(data[:,2] -mean[2]) > std_deviation[2]))\n",
    "\n",
    "print(data[outliers])"
   ]
  },
  {
   "cell_type": "code",
   "execution_count": 60,
   "id": "f0f7fa3a",
   "metadata": {},
   "outputs": [
    {
     "name": "stdout",
     "output_type": "stream",
     "text": [
      "[False  True False False False  True False False]\n",
      "0.25\n"
     ]
    }
   ],
   "source": [
    "# Association Analysis or Collaborative Filtering\n",
    "\n",
    "# Data: row is customer shopping basket\n",
    "# Row: [course 1, course 2, book 1, book 2]\n",
    "# Value 1 indicates that an item was bought.\n",
    "\n",
    "basket = np.array([[0,1,1,0], [0,0,1,1],[1,1,0,0], [0,1,1,0], [1,1,1,0],[1,1,1,1], [0,0,1,0],[1,0,1,0]])\n",
    "\n",
    "print(np.all(basket[:,2:], axis =1))\n",
    "copurchases = np.sum(np.all(basket[:,2:],axis = 1)) / basket.shape[0]       \n",
    "\n",
    "# The NumPy all() function checks whether all values in a NumPy array evaluate to True.\n",
    "\n",
    "print(copurchases)\n"
   ]
  },
  {
   "cell_type": "markdown",
   "id": "848421fa",
   "metadata": {},
   "source": [
    "basket = np.array([[0,1,1,0], [0,0,1,1],[1,1,0,0], [0,1,1,0], [1,1,1,0],[1,1,1,1], [0,0,1,0],[1,0,1,0]])\n",
    "copurchases = [(i,j, np.sum(basket[:,i] + basket[:,j] == 2)) for i in range(4) for j in range(i+1,4)]\n",
    "print(max(copurchases, key lambda x:x[2]))"
   ]
  },
  {
   "cell_type": "code",
   "execution_count": 63,
   "id": "3e3165b1",
   "metadata": {},
   "outputs": [
    {
     "name": "stdout",
     "output_type": "stream",
     "text": [
      "[(0, 1, 3), (0, 2, 3), (0, 3, 1), (1, 2, 4), (1, 3, 1), (2, 3, 2)]\n",
      "(1, 2, 4)\n"
     ]
    }
   ],
   "source": [
    "basket = np.array([[0,1,1,0], [0,0,1,1],[1,1,0,0], [0,1,1,0], [1,1,1,0],[1,1,1,1], [0,0,1,0],[1,0,1,0]]) \n",
    "copurchases = [(i,j, np.sum(basket[:,i] + basket[:,j] == 2)) for i in range(4) for j in range(i+1,4)]\n",
    "\n",
    "print(copurchases)\n",
    "print(max(copurchases, key = lambda x:x[2]))"
   ]
  },
  {
   "cell_type": "code",
   "execution_count": null,
   "id": "476479f6",
   "metadata": {},
   "outputs": [],
   "source": []
  }
 ],
 "metadata": {
  "kernelspec": {
   "display_name": "Python 3",
   "language": "python",
   "name": "python3"
  },
  "language_info": {
   "codemirror_mode": {
    "name": "ipython",
    "version": 3
   },
   "file_extension": ".py",
   "mimetype": "text/x-python",
   "name": "python",
   "nbconvert_exporter": "python",
   "pygments_lexer": "ipython3",
   "version": "3.8.8"
  }
 },
 "nbformat": 4,
 "nbformat_minor": 5
}
