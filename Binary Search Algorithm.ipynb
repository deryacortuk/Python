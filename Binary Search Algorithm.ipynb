{
 "cells": [
  {
   "cell_type": "code",
   "execution_count": 1,
   "id": "17cb8679",
   "metadata": {},
   "outputs": [],
   "source": [
    "# Binary Search Algorithm (Recursive and Iterative)\n",
    "# This search algorithm takes advantage of a collection of elements that must be sorted to apply the binary search algorithm.\n",
    "# Binary Search Algorithm can be implemented in two ways which are iterative method and recursive method.\n",
    "# The recursive method follows the divide and conquer approach technique. In this method, a function is called itself again\n",
    "# and again until it found an element in the list.\n",
    "# Binary search is more effective than the linear search because we don't need to search each list index.\n",
    "# Steps:\n",
    "# Compare x with the middle element.\n",
    "# If x matches with the middle element, we return the middle index.\n",
    "# Else if x is greater than the middle element, then x can only lie in the right half subarray after the middle element. \n",
    "# Else if x is smaller, the target x must lie in the left half. \n",
    "\n",
    "# The complexity of the binary search algorithm is O(1) for the best case. The O(logn) is the worst and the average case\n",
    "# complexity of the binary search."
   ]
  },
  {
   "cell_type": "code",
   "execution_count": 5,
   "id": "72d3cc36",
   "metadata": {},
   "outputs": [
    {
     "name": "stdout",
     "output_type": "stream",
     "text": [
      "Element is found at index  7\n"
     ]
    }
   ],
   "source": [
    "# Recursive Binary Search\n",
    "\n",
    "def binary_search(array,low,high,x):\n",
    "    \n",
    "    while high >= low:\n",
    "        middle = (high + low) // 2\n",
    "        \n",
    "        if array[middle] == x:\n",
    "            return middle\n",
    "        \n",
    "        elif array[middle] > x:\n",
    "            return binary_search(array,low,middle-1,x)\n",
    "        \n",
    "        else:\n",
    "            return binary_search(array,middle+1, high,x)\n",
    "    else:\n",
    "        return -1\n",
    "    \n",
    "array = [22,33,34,50,56,67,70,71,72,75]\n",
    "x = 71\n",
    "\n",
    "result = binary_search(array,0,len(array)-1,x)\n",
    "\n",
    "if result == -1:\n",
    "    print(\"Element is not exist in array.\")\n",
    "else:\n",
    "    print(\"Element is found at index \", str(result))"
   ]
  },
  {
   "cell_type": "code",
   "execution_count": 6,
   "id": "497d1d06",
   "metadata": {},
   "outputs": [
    {
     "name": "stdout",
     "output_type": "stream",
     "text": [
      "Element is found at index  7\n"
     ]
    }
   ],
   "source": [
    "# Iterative Binary Search\n",
    "\n",
    "def binary_search(array,x):\n",
    "    low = 0\n",
    "    high = len(array) -1\n",
    "    midd = 0\n",
    "    \n",
    "    while high >= low:\n",
    "        midd = (low + high) // 2\n",
    "        \n",
    "        if array[midd] < x:\n",
    "            low = midd + 1\n",
    "            \n",
    "        elif array[midd] > x:\n",
    "            high = mid -1\n",
    "        \n",
    "        else:\n",
    "            return midd\n",
    "    return -1\n",
    "array = [22,33,34,50,56,67,70,71,72,75]\n",
    "x = 71\n",
    "\n",
    "result = binary_search(array,x)\n",
    "\n",
    "if result == -1:\n",
    "    print(\"Element is not exist in array.\")\n",
    "else:\n",
    "    print(\"Element is found at index \", str(result))"
   ]
  },
  {
   "cell_type": "code",
   "execution_count": null,
   "id": "1e2789d0",
   "metadata": {},
   "outputs": [],
   "source": []
  }
 ],
 "metadata": {
  "kernelspec": {
   "display_name": "Python 3",
   "language": "python",
   "name": "python3"
  },
  "language_info": {
   "codemirror_mode": {
    "name": "ipython",
    "version": 3
   },
   "file_extension": ".py",
   "mimetype": "text/x-python",
   "name": "python",
   "nbconvert_exporter": "python",
   "pygments_lexer": "ipython3",
   "version": "3.8.8"
  }
 },
 "nbformat": 4,
 "nbformat_minor": 5
}
