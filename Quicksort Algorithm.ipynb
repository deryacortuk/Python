{
 "cells": [
  {
   "cell_type": "code",
   "execution_count": 1,
   "id": "9f502849",
   "metadata": {},
   "outputs": [],
   "source": [
    "# Quicksort Algorithm\n",
    "# QuickSort is a Divide and Conquer algorithm. The process fundamental to the 'QuickSort' algorithm is the partition.\n",
    "# The partition is by first selecting a pivot. Options for pivots include:\n",
    "# First element\n",
    "# Last element\n",
    "# Random element\n",
    "# Middle element\n",
    "\n",
    "# Advantages\n",
    "# It is in-place since it uses only a small auxiliary stack.\n",
    "# It requires only n (log n) time to sort n items.\n",
    "# It has an extremely short inner loop.\n",
    "# This algorithm has been subjected to a thorough mathematical analysis, \n",
    "# a very precise statement can be made about performance issues.\n",
    "\n",
    "# Disadvantages\n",
    "# It is recursive. Especially, if recursion is not available, the implementation is extremely complicated.\n",
    "# It requires quadratic (i.e., n2) time in the worst-case.\n",
    "# It is fragile, i.e. a simple mistake in the implementation can go unnoticed and cause it to perform badly.\n",
    "\n",
    "#  The quick sort’s best-case time complexity is O(nlogn).\n",
    "#  Its average-case time complexity is O(nlogn).\n",
    "# The quick sort’s worst-case time complexity is O(n^2).\n",
    "# Quick sort has a space complexity of O(logn)."
   ]
  },
  {
   "cell_type": "code",
   "execution_count": 6,
   "id": "42c3c45e",
   "metadata": {},
   "outputs": [
    {
     "name": "stdout",
     "output_type": "stream",
     "text": [
      "[1, 7, 8, 11, 18, 22, 31, 33]\n"
     ]
    }
   ],
   "source": [
    "def QuickSort(array):\n",
    "    elements = len(array)\n",
    "    \n",
    "    if elements < 2:\n",
    "        return array\n",
    "    \n",
    "    current_position = 0\n",
    "    \n",
    "    for i in range(1,elements):\n",
    "        if array[i] <= array[0]:\n",
    "            current_position += 1\n",
    "            temp = array[i]\n",
    "            array[i] = array[current_position]\n",
    "            array[current_position] = temp\n",
    "            \n",
    "    temp = array[0]\n",
    "    array[0] = array[current_position]\n",
    "    array[current_position] = temp\n",
    "    \n",
    "    left = QuickSort(array[0:current_position])\n",
    "    right = QuickSort(array[current_position+1:elements])\n",
    "    \n",
    "    array = left + [array[current_position]] + right\n",
    "    \n",
    "    return array\n",
    "\n",
    "myarray = [22,33,11,7,8,1,18,31]\n",
    "print(QuickSort(myarray))"
   ]
  },
  {
   "cell_type": "code",
   "execution_count": 13,
   "id": "b4c4ca48",
   "metadata": {},
   "outputs": [
    {
     "name": "stdout",
     "output_type": "stream",
     "text": [
      "[1, 2, 7, 8, 11, 18, 22, 31, 33]\n"
     ]
    }
   ],
   "source": [
    "def partition(array,low,high):\n",
    "    i = low - 1\n",
    "    pivot = array[high]    # Pivot is last element.\n",
    "    \n",
    "    for j in range(low,high):\n",
    "        \n",
    "        if array[j] <= pivot:\n",
    "            i += 1    #increment index of smaller element\n",
    "            array[i], array[j] = array[j], array[i]\n",
    "    array[i+1],array[high] = array[high],array[i+1]\n",
    "    \n",
    "    return (i+1)\n",
    "    \n",
    "def quickSort(array, low, high):\n",
    "    if len(array) == 1:\n",
    "        return array\n",
    "    if low < high:\n",
    "        index = partition(array, low, high)\n",
    "        \n",
    "        quickSort(array,low,index-1)\n",
    "        quickSort(array,index+1,high)\n",
    "    return array\n",
    "        \n",
    "        \n",
    "array = [22,33,11,7,8,1,18,31,2]\n",
    "\n",
    "print(quickSort(array,0,len(array)-1))           "
   ]
  },
  {
   "cell_type": "code",
   "execution_count": null,
   "id": "c66dfe56",
   "metadata": {},
   "outputs": [],
   "source": []
  }
 ],
 "metadata": {
  "kernelspec": {
   "display_name": "Python 3",
   "language": "python",
   "name": "python3"
  },
  "language_info": {
   "codemirror_mode": {
    "name": "ipython",
    "version": 3
   },
   "file_extension": ".py",
   "mimetype": "text/x-python",
   "name": "python",
   "nbconvert_exporter": "python",
   "pygments_lexer": "ipython3",
   "version": "3.8.8"
  }
 },
 "nbformat": 4,
 "nbformat_minor": 5
}
